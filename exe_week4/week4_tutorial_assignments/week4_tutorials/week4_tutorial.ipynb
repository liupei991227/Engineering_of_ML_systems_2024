{
 "cells": [
  {
   "cell_type": "markdown",
   "metadata": {},
   "source": [
    "# Model deployment\n",
    "You've trained a model, evaluated it using the testing dataset to make sure that it satisfies some performance criteria. The next step is to put your model into production where it can receive input from real world and make inferences. Model deployment is the process of integrating your model into production so that its inferences are available to users. \n",
    "\n",
    "This week's tutorials are split into several sections. We'll start from the different patterns of deploying a model, where you'll see how to embed a model into an application directly as well as deploy a model as a separate inference service using KServe. Next, you'll get some experience with some more features provided by KServe, including canary deployment, horizontal scaling, and inference graph. If we take a look at the overview architecture of our MLOps platform, the focus of this week is KServe. \n",
    "\n",
    "<img src=\"./images/overview-kserve-focus.jpg\" width=700 />\n",
    "\n",
    "## Preparation\n",
    "### 1. Create a new Conda environment\n",
    "Before get started, let's create a new Conda environment:\n",
    "```bash\n",
    "# Run the command under the same directory as this notebook\n",
    "conda env create -f mlops_eng2_environment.yml\n",
    "conda activate mlops_eng2\n",
    "```\n",
    "**Please run the tutorials and do the assignments using this `mlops_eng2` environment.**"
   ]
  },
  {
   "cell_type": "markdown",
   "metadata": {},
   "source": [
    "### 2. Train a model\n",
    "Next, let's train a model that we'll use in the tutorials. We'll use the red wine quality dataset to train an sklearn model. "
   ]
  },
  {
   "cell_type": "code",
   "execution_count": 1,
   "metadata": {},
   "outputs": [
    {
     "name": "stderr",
     "output_type": "stream",
     "text": [
      "INFO:__main__:Using MLflow tracking URI: http://mlflow-server.local\n",
      "INFO:__main__:Using MLflow experiment: week4-red-wine-quality\n",
      "INFO:__main__:Fitting model...\n",
      "INFO:__main__:Finished fitting\n",
      "INFO:__main__:Logging parameters to MLflow\n",
      "INFO:__main__:Logging trained model\n",
      "INFO:botocore.credentials:Found credentials in environment variables.\n",
      "Registered model 'Week4ElasticnetWineModel' already exists. Creating a new version of this model...\n",
      "2024/11/28 14:28:13 INFO mlflow.store.model_registry.abstract_store: Waiting up to 300 seconds for model version to finish creation. Model name: Week4ElasticnetWineModel, version 5\n"
     ]
    },
    {
     "name": "stdout",
     "output_type": "stream",
     "text": [
      "The S3 URI of the logged model: s3://mlflow/6/15e32724433c43a884bd9462758a5e64/artifacts/wine-quality\n"
     ]
    },
    {
     "name": "stderr",
     "output_type": "stream",
     "text": [
      "Created version '5' of model 'Week4ElasticnetWineModel'.\n"
     ]
    }
   ],
   "source": [
    "import os\n",
    "import logging\n",
    "\n",
    "import mlflow\n",
    "import mlflow.sklearn\n",
    "import numpy as np\n",
    "import pandas as pd\n",
    "from sklearn.metrics import mean_squared_error\n",
    "from sklearn.model_selection import train_test_split\n",
    "from sklearn.linear_model import ElasticNet\n",
    "\n",
    "# Set an environmental variable named \"MLFLOW_S3_ENDPOINT_URL\" so that MLflow client knows where to save artifacts.\n",
    "# The MinIO storage service can be accessed via http://mlflow-minio.local\n",
    "os.environ[\"MLFLOW_S3_ENDPOINT_URL\"] = \"http://mlflow-minio.local\"\n",
    "\n",
    "# Configure the credentials needed for accessing the MinIO storage service.\n",
    "# \"AWS_ACCESS_KEY_ID\" has been configured in a ComfigMap and \"AWS_SECRET_ACCESS_KEY\" in a Secret in your K8s cluster when you set up the MLOps platform\n",
    "os.environ[\"AWS_ACCESS_KEY_ID\"] = \"minioadmin\"\n",
    "os.environ[\"AWS_SECRET_ACCESS_KEY\"] = \"minioadmin\"\n",
    "\n",
    "logging.basicConfig(level=logging.INFO)\n",
    "logger = logging.getLogger(__name__)\n",
    "\n",
    "MLFLOW_TRACKING_URI = \"http://mlflow-server.local\" # This is the URL of the MLflow service\n",
    "MLFLOW_EXPERIMENT_NAME = \"week4-red-wine-quality\"\n",
    "\n",
    "\n",
    "def main():\n",
    "    # Read the wine-quality csv file from the URL\n",
    "    csv_url = (\n",
    "        \"http://archive.ics.uci.edu/ml/machine-learning-databases/wine-quality/winequality-red.csv\"\n",
    "    )\n",
    "\n",
    "    data = pd.read_csv(csv_url, sep=\";\")\n",
    "\n",
    "    # Split the data into training and test sets. (0.75, 0.25) split.\n",
    "    train, test = train_test_split(data)\n",
    "\n",
    "    # The predicted column is \"quality\" which is a scalar from [3, 9]\n",
    "    train_x = train.drop([\"quality\"], axis=1)\n",
    "    train_y = train[[\"quality\"]]\n",
    "    \n",
    "    # Just use hard-coded hyperparameters\n",
    "    alpha = 0.5\n",
    "    l1_ratio = 0.5\n",
    "\n",
    "    logger.info(f\"Using MLflow tracking URI: {MLFLOW_TRACKING_URI}\")\n",
    "\n",
    "    # Configure the MLflow client to connect to the MLflow service\n",
    "    mlflow.set_tracking_uri(MLFLOW_TRACKING_URI)\n",
    "\n",
    "    logger.info(f\"Using MLflow experiment: {MLFLOW_EXPERIMENT_NAME}\")\n",
    "    mlflow.set_experiment(MLFLOW_EXPERIMENT_NAME)\n",
    "\n",
    "    with mlflow.start_run():\n",
    "        lr = ElasticNet(alpha=alpha, l1_ratio=l1_ratio, random_state=42)\n",
    "\n",
    "        logger.info(\"Fitting model...\")\n",
    "\n",
    "        lr.fit(train_x, train_y)\n",
    "\n",
    "        logger.info(\"Finished fitting\")\n",
    "\n",
    "        logger.info(\"Logging parameters to MLflow\")\n",
    "        mlflow.log_param(\"alpha\", alpha)\n",
    "        mlflow.log_param(\"l1_ratio\", l1_ratio)\n",
    "\n",
    "        logger.info(\"Logging trained model\")\n",
    "        artifact_name = \"wine-quality\"\n",
    "        mlflow.sklearn.log_model(\n",
    "            lr, artifact_name, registered_model_name=\"Week4ElasticnetWineModel\")\n",
    "        print(\"The S3 URI of the logged model:\", mlflow.get_artifact_uri(artifact_path=artifact_name))\n",
    "\n",
    "main()"
   ]
  },
  {
   "cell_type": "markdown",
   "metadata": {},
   "source": [
    "This week's tutorials consist of several notebooks:\n",
    "\n",
    "1. [Model deployment patterns](./tutorials/1_deployment_patterns.ipynb)\n",
    "2. [Canary deployment](./tutorials/2_canary_deployment.ipynb)\n",
    "3. [Horizontal scaling](./tutorials/3_horizontal_scaling.ipynb)\n",
    "4. [Inference graph](./tutorials/4_inference_graph.ipynb)"
   ]
  }
 ],
 "metadata": {
  "kernelspec": {
   "display_name": "mlops_eng2_t1",
   "language": "python",
   "name": "python3"
  },
  "language_info": {
   "codemirror_mode": {
    "name": "ipython",
    "version": 3
   },
   "file_extension": ".py",
   "mimetype": "text/x-python",
   "name": "python",
   "nbconvert_exporter": "python",
   "pygments_lexer": "ipython3",
   "version": "3.10.15"
  },
  "orig_nbformat": 4
 },
 "nbformat": 4,
 "nbformat_minor": 2
}
