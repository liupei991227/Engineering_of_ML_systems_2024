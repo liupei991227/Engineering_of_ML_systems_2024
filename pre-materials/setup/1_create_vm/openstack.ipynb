{
 "cells": [
  {
   "cell_type": "markdown",
   "metadata": {},
   "source": [
    "# Create a Virtual Machine in CSC cPouta\n",
    "\n",
    "This notebook shows how to create a virtual machine in cPouta.\n",
    "\n",
    "> For your interest, cPouta and ePouta are the IaaS cloud services at CSC, known as Finnish IT center for science. The cPouta cloud is the public cloud which is easily accessible via the internet. The ePouta cloud is a virtual private cloud designed to meet the security requirements of handling sensitive data. Both the cPouta and ePouta clouds run on the OpenStack cloud software. The Pouta cloud services are suitable for most kinds of computational workloads and any other supporting services these workloads might need. More information can be found from [CSC's documentations of the Pouta services](https://docs.csc.fi/cloud/pouta/pouta-what-is/).\n",
    "\n",
    "## First glance at cPouta\n",
    "\n",
    "We will try to create and manage a virtual machine from our local computer using OpenStack CLI. If you are interested, you can start familiarizing with cPouta GUI reading [this guide](https://docs.csc.fi/cloud/pouta/launch-vm-from-web-gui/).\n",
    "\n",
    "## Prerequisites\n",
    "\n",
    "### 0. You should already have a CSC account and can access the CSC project of the course\n",
    "If not, please navigate to the course Moodle page and find the invitation link. Then follow the instructions to create an CSC account and apply for the access to the CSC project of the course. \n",
    "\n",
    "### 1. Configure your terminal environment for OpenStack\n",
    "To be able to connect to the CSC system and cPouta, we need to get some credentials.\n",
    "We can set them using a script provided in the OpenStack web interface.\n",
    "You can download this script at the following URL after logging in. **Remember to switch to project_2008075 if you have multiple CSC projects**:\n",
    "\n",
    "https://pouta.csc.fi/dashboard/project/api_access/\n",
    "\n",
    "To download this in the web interface, navigate to the API Access section, and download both files.\n",
    "\n",
    "![api_access](./images/csc-pouta-openstack-api_access.png)\n",
    "\n",
    "If you already access the cPouta dashboard, these links might work to download the files directly:\n",
    "\n",
    "> https://pouta.csc.fi/dashboard/project/api_access/openrc/\n",
    "> https://pouta.csc.fi/dashboard/project/api_access/clouds.yaml/\n",
    "\n",
    "Put the files in the current directory (setup/1_create_vm). \n",
    "> If you are using Firefox pre-installed in the Ubuntu VM, the browser should ask you where to put the downloaded files. If this is not the case, this option can be enabled with the following steps:\n",
    "> 1. Open the setting menu by clicking on the three horizontal lines (hamburger icon) in the top-right corner of the Firefox window.\n",
    "> 2. Click on \"Settings\" and then \"General\".\n",
    "> 3. Navigate to the \"Files and Applications\" section and check the \"Always ask you where to save files\" checkbox. Now you can download the files again. \n",
    "\n",
    "For simplicity, rename the `project_2008075-openrc.sh` file as `openrc` (remove the \".sh\" suffix).\n",
    "\n",
    "The openrc file will be necessary to use the OpenStack CLI (command line interface). While the cloud.yaml file is necessary to use OpenStack with the Python API.\n"
   ]
  },
  {
   "cell_type": "markdown",
   "metadata": {},
   "source": [
    "### 2. Install OpenStack CLI (command line interface)\n",
    "\n",
    "There is a quite complete guide to install the CLI [here](https://docs.csc.fi/cloud/pouta/install-client/), so if you need extra help you can use that one.\n",
    "The following is a faster step-by-step guide. \n",
    "\n",
    "**NOTE**: Unfortunately we can't run the OpenStack CLI in the python notebook because we will need the credentials from the openrc file, so you will need to open a terminal and follow along with the terminal on the side. This will be easy if you use VSCode. \n",
    "\n",
    "Once you have the openrc script from the web UI, open a terminal and ensure you are under the `setup/1_create_vm` directory and add the environment variables in the terminal using the following commands:\n",
    "\n",
    "```bash\n",
    "# suppose you're now under pre_materials directory, you can enter the 1_create_vm directory by \n",
    "cd setup/1_create_vm\n",
    "\n",
    "# then add environment variables\n",
    "source openrc\n",
    "```\n",
    "\n",
    "You will be asked to enter a password. **Please use the password of your CSC account (not your university account)**. After doing this, the current terminal session will have the proper environment variables for using the command line tools. Unfortunately, you will not get any error even if you enter a wrong password, but a wrong password will cause errors in later procedures. To avoid this, you can print the password you just entered by running the following command in the same terminal and check if the printed password is correct:\n",
    "```bash\n",
    "echo $OS_PASSWORD\n",
    "``` \n",
    "**⚠️ NOTE:** You need to do this again if you open a new terminal during setting up a VM in cPouta.\n"
   ]
  },
  {
   "cell_type": "markdown",
   "metadata": {},
   "source": [
    "Before running the code in the cells below, make sure you are using \"mlops_eng\" as the Jupyter notebook kernel. You can configure the kernel by clicking the \"Select Kernel\" option at the top right of the notebook:\n",
    "\n",
    "<img src=\"./images/select-kernel.png\" width=800>"
   ]
  },
  {
   "cell_type": "markdown",
   "metadata": {},
   "source": [
    "Install the openstack CLI:"
   ]
  },
  {
   "cell_type": "code",
   "execution_count": 1,
   "metadata": {},
   "outputs": [
    {
     "name": "stdout",
     "output_type": "stream",
     "text": [
      "Collecting python-openstackclient==6.2\n",
      "  Downloading python_openstackclient-6.2.0-py3-none-any.whl (1.1 MB)\n",
      "\u001b[2K     \u001b[90m━━━━━━━━━━━━━━━━━━━━━━━━━━━━━━━━━━━━━━━━\u001b[0m \u001b[32m1.1/1.1 MB\u001b[0m \u001b[31m3.8 MB/s\u001b[0m eta \u001b[36m0:00:00\u001b[0m00:01\u001b[0m00:01\u001b[0m\n",
      "\u001b[?25hCollecting cliff>=3.5.0 (from python-openstackclient==6.2)\n",
      "  Downloading cliff-4.5.0-py3-none-any.whl.metadata (2.0 kB)\n",
      "Collecting iso8601>=0.1.11 (from python-openstackclient==6.2)\n",
      "  Downloading iso8601-2.1.0-py3-none-any.whl.metadata (3.7 kB)\n",
      "Collecting openstacksdk>=0.103.0 (from python-openstackclient==6.2)\n",
      "  Downloading openstacksdk-2.1.0-py3-none-any.whl.metadata (9.4 kB)\n",
      "Collecting osc-lib>=2.3.0 (from python-openstackclient==6.2)\n",
      "  Downloading osc_lib-3.0.0-py3-none-any.whl.metadata (3.6 kB)\n",
      "Collecting oslo.i18n>=3.15.3 (from python-openstackclient==6.2)\n",
      "  Downloading oslo.i18n-6.2.0-py3-none-any.whl.metadata (2.0 kB)\n",
      "Collecting oslo.utils>=3.33.0 (from python-openstackclient==6.2)\n",
      "  Downloading oslo.utils-6.3.0-py3-none-any.whl.metadata (2.2 kB)\n",
      "Collecting pbr!=2.1.0,>=2.0.0 (from python-openstackclient==6.2)\n",
      "  Downloading pbr-6.0.0-py2.py3-none-any.whl.metadata (1.3 kB)\n",
      "Collecting python-cinderclient>=3.3.0 (from python-openstackclient==6.2)\n",
      "  Downloading python_cinderclient-9.4.0-py3-none-any.whl.metadata (19 kB)\n",
      "Collecting python-keystoneclient>=3.22.0 (from python-openstackclient==6.2)\n",
      "  Downloading python_keystoneclient-5.3.0-py3-none-any.whl.metadata (3.7 kB)\n",
      "Collecting python-novaclient>=18.1.0 (from python-openstackclient==6.2)\n",
      "  Downloading python_novaclient-18.4.0-py3-none-any.whl.metadata (3.0 kB)\n",
      "Collecting stevedore>=2.0.1 (from python-openstackclient==6.2)\n",
      "  Downloading stevedore-5.1.0-py3-none-any.whl.metadata (2.2 kB)\n",
      "Collecting PrettyTable>=0.7.2 (from cliff>=3.5.0->python-openstackclient==6.2)\n",
      "  Downloading prettytable-3.9.0-py3-none-any.whl.metadata (26 kB)\n",
      "Requirement already satisfied: PyYAML>=3.12 in /home/luoyumo/.local/lib/python3.11/site-packages (from cliff>=3.5.0->python-openstackclient==6.2) (6.0.1)\n",
      "Collecting autopage>=0.4.0 (from cliff>=3.5.0->python-openstackclient==6.2)\n",
      "  Downloading autopage-0.5.2-py3-none-any.whl.metadata (7.9 kB)\n",
      "Collecting cmd2>=1.0.0 (from cliff>=3.5.0->python-openstackclient==6.2)\n",
      "  Downloading cmd2-2.4.3-py3-none-any.whl (147 kB)\n",
      "\u001b[2K     \u001b[90m━━━━━━━━━━━━━━━━━━━━━━━━━━━━━━━━━━━━━━\u001b[0m \u001b[32m147.2/147.2 kB\u001b[0m \u001b[31m10.3 MB/s\u001b[0m eta \u001b[36m0:00:00\u001b[0m\n",
      "\u001b[?25hRequirement already satisfied: cryptography>=2.7 in /home/luoyumo/.local/lib/python3.11/site-packages (from openstacksdk>=0.103.0->python-openstackclient==6.2) (41.0.7)\n",
      "Requirement already satisfied: decorator>=4.4.1 in /home/luoyumo/.conda/envs/mlops_eng/lib/python3.11/site-packages (from openstacksdk>=0.103.0->python-openstackclient==6.2) (5.1.1)\n",
      "Collecting dogpile.cache>=0.6.5 (from openstacksdk>=0.103.0->python-openstackclient==6.2)\n",
      "  Downloading dogpile.cache-1.3.0-py3-none-any.whl.metadata (5.2 kB)\n",
      "Collecting jmespath>=0.9.0 (from openstacksdk>=0.103.0->python-openstackclient==6.2)\n",
      "  Downloading jmespath-1.0.1-py3-none-any.whl (20 kB)\n",
      "Collecting jsonpatch!=1.20,>=1.16 (from openstacksdk>=0.103.0->python-openstackclient==6.2)\n",
      "  Downloading jsonpatch-1.33-py2.py3-none-any.whl.metadata (3.0 kB)\n",
      "Collecting keystoneauth1>=3.18.0 (from openstacksdk>=0.103.0->python-openstackclient==6.2)\n",
      "  Downloading keystoneauth1-5.5.0-py3-none-any.whl.metadata (4.0 kB)\n",
      "Collecting netifaces>=0.10.4 (from openstacksdk>=0.103.0->python-openstackclient==6.2)\n",
      "  Downloading netifaces-0.11.0.tar.gz (30 kB)\n",
      "  Preparing metadata (setup.py) ... \u001b[?25ldone\n",
      "\u001b[?25hCollecting os-service-types>=1.7.0 (from openstacksdk>=0.103.0->python-openstackclient==6.2)\n",
      "  Downloading os_service_types-1.7.0-py2.py3-none-any.whl (24 kB)\n",
      "Requirement already satisfied: platformdirs>=3 in /home/luoyumo/.conda/envs/mlops_eng/lib/python3.11/site-packages (from openstacksdk>=0.103.0->python-openstackclient==6.2) (3.10.0)\n",
      "Collecting requestsexceptions>=1.2.0 (from openstacksdk>=0.103.0->python-openstackclient==6.2)\n",
      "  Downloading requestsexceptions-1.4.0-py2.py3-none-any.whl (3.8 kB)\n",
      "Collecting simplejson>=3.5.1 (from osc-lib>=2.3.0->python-openstackclient==6.2)\n",
      "  Downloading simplejson-3.19.2-cp311-cp311-manylinux_2_5_x86_64.manylinux1_x86_64.manylinux_2_17_x86_64.manylinux2014_x86_64.whl.metadata (3.1 kB)\n",
      "Collecting debtcollector>=1.2.0 (from oslo.utils>=3.33.0->python-openstackclient==6.2)\n",
      "  Downloading debtcollector-2.5.0-py3-none-any.whl (23 kB)\n",
      "Collecting netaddr>=0.7.18 (from oslo.utils>=3.33.0->python-openstackclient==6.2)\n",
      "  Downloading netaddr-0.10.1-py2.py3-none-any.whl.metadata (4.8 kB)\n",
      "Requirement already satisfied: packaging>=20.4 in /home/luoyumo/.conda/envs/mlops_eng/lib/python3.11/site-packages (from oslo.utils>=3.33.0->python-openstackclient==6.2) (23.1)\n",
      "Collecting pyparsing>=2.1.0 (from oslo.utils>=3.33.0->python-openstackclient==6.2)\n",
      "  Downloading pyparsing-3.1.1-py3-none-any.whl.metadata (5.1 kB)\n",
      "Collecting pytz>=2013.6 (from oslo.utils>=3.33.0->python-openstackclient==6.2)\n",
      "  Downloading pytz-2023.3.post1-py2.py3-none-any.whl.metadata (22 kB)\n",
      "Collecting tzdata>=2022.4 (from oslo.utils>=3.33.0->python-openstackclient==6.2)\n",
      "  Downloading tzdata-2023.4-py2.py3-none-any.whl.metadata (1.4 kB)\n",
      "Collecting requests>=2.25.1 (from python-cinderclient>=3.3.0->python-openstackclient==6.2)\n",
      "  Downloading requests-2.31.0-py3-none-any.whl.metadata (4.6 kB)\n",
      "Collecting oslo.config>=5.2.0 (from python-keystoneclient>=3.22.0->python-openstackclient==6.2)\n",
      "  Downloading oslo.config-9.3.0-py3-none-any.whl.metadata (3.0 kB)\n",
      "Collecting oslo.serialization!=2.19.1,>=2.18.0 (from python-keystoneclient>=3.22.0->python-openstackclient==6.2)\n",
      "  Downloading oslo.serialization-5.3.0-py3-none-any.whl.metadata (2.2 kB)\n",
      "Requirement already satisfied: six>=1.10.0 in /home/luoyumo/.conda/envs/mlops_eng/lib/python3.11/site-packages (from python-keystoneclient>=3.22.0->python-openstackclient==6.2) (1.16.0)\n",
      "Collecting attrs>=16.3.0 (from cmd2>=1.0.0->cliff>=3.5.0->python-openstackclient==6.2)\n",
      "  Downloading attrs-23.2.0-py3-none-any.whl.metadata (9.5 kB)\n",
      "Collecting pyperclip>=1.6 (from cmd2>=1.0.0->cliff>=3.5.0->python-openstackclient==6.2)\n",
      "  Downloading pyperclip-1.8.2.tar.gz (20 kB)\n",
      "  Preparing metadata (setup.py) ... \u001b[?25ldone\n",
      "\u001b[?25hRequirement already satisfied: wcwidth>=0.1.7 in /home/luoyumo/.conda/envs/mlops_eng/lib/python3.11/site-packages (from cmd2>=1.0.0->cliff>=3.5.0->python-openstackclient==6.2) (0.2.5)\n",
      "Requirement already satisfied: cffi>=1.12 in /home/luoyumo/.local/lib/python3.11/site-packages (from cryptography>=2.7->openstacksdk>=0.103.0->python-openstackclient==6.2) (1.16.0)\n",
      "Collecting wrapt>=1.7.0 (from debtcollector>=1.2.0->oslo.utils>=3.33.0->python-openstackclient==6.2)\n",
      "  Downloading wrapt-1.16.0-cp311-cp311-manylinux_2_5_x86_64.manylinux1_x86_64.manylinux_2_17_x86_64.manylinux2014_x86_64.whl.metadata (6.6 kB)\n",
      "Collecting jsonpointer>=1.9 (from jsonpatch!=1.20,>=1.16->openstacksdk>=0.103.0->python-openstackclient==6.2)\n",
      "  Downloading jsonpointer-2.4-py2.py3-none-any.whl.metadata (2.5 kB)\n",
      "Collecting rfc3986>=1.2.0 (from oslo.config>=5.2.0->python-keystoneclient>=3.22.0->python-openstackclient==6.2)\n",
      "  Downloading rfc3986-2.0.0-py2.py3-none-any.whl (31 kB)\n",
      "Collecting msgpack>=0.5.2 (from oslo.serialization!=2.19.1,>=2.18.0->python-keystoneclient>=3.22.0->python-openstackclient==6.2)\n",
      "  Downloading msgpack-1.0.7-cp311-cp311-manylinux_2_17_x86_64.manylinux2014_x86_64.whl.metadata (9.1 kB)\n",
      "Collecting charset-normalizer<4,>=2 (from requests>=2.25.1->python-cinderclient>=3.3.0->python-openstackclient==6.2)\n",
      "  Downloading charset_normalizer-3.3.2-cp311-cp311-manylinux_2_17_x86_64.manylinux2014_x86_64.whl.metadata (33 kB)\n",
      "Collecting idna<4,>=2.5 (from requests>=2.25.1->python-cinderclient>=3.3.0->python-openstackclient==6.2)\n",
      "  Downloading idna-3.6-py3-none-any.whl.metadata (9.9 kB)\n",
      "Collecting urllib3<3,>=1.21.1 (from requests>=2.25.1->python-cinderclient>=3.3.0->python-openstackclient==6.2)\n",
      "  Downloading urllib3-2.1.0-py3-none-any.whl.metadata (6.4 kB)\n",
      "Collecting certifi>=2017.4.17 (from requests>=2.25.1->python-cinderclient>=3.3.0->python-openstackclient==6.2)\n",
      "  Downloading certifi-2023.11.17-py3-none-any.whl.metadata (2.2 kB)\n",
      "Requirement already satisfied: pycparser in /home/luoyumo/.local/lib/python3.11/site-packages (from cffi>=1.12->cryptography>=2.7->openstacksdk>=0.103.0->python-openstackclient==6.2) (2.21)\n",
      "Downloading cliff-4.5.0-py3-none-any.whl (81 kB)\n",
      "\u001b[2K   \u001b[90m━━━━━━━━━━━━━━━━━━━━━━━━━━━━━━━━━━━━━━━━\u001b[0m \u001b[32m81.1/81.1 kB\u001b[0m \u001b[31m6.9 MB/s\u001b[0m eta \u001b[36m0:00:00\u001b[0m\n",
      "\u001b[?25hDownloading iso8601-2.1.0-py3-none-any.whl (7.5 kB)\n",
      "Downloading openstacksdk-2.1.0-py3-none-any.whl (1.7 MB)\n",
      "\u001b[2K   \u001b[90m━━━━━━━━━━━━━━━━━━━━━━━━━━━━━━━━━━━━━━━━\u001b[0m \u001b[32m1.7/1.7 MB\u001b[0m \u001b[31m7.4 MB/s\u001b[0m eta \u001b[36m0:00:00\u001b[0m00:01\u001b[0m00:01\u001b[0mm\n",
      "\u001b[?25hDownloading osc_lib-3.0.0-py3-none-any.whl (89 kB)\n",
      "\u001b[2K   \u001b[90m━━━━━━━━━━━━━━━━━━━━━━━━━━━━━━━━━━━━━━━━\u001b[0m \u001b[32m89.6/89.6 kB\u001b[0m \u001b[31m6.9 MB/s\u001b[0m eta \u001b[36m0:00:00\u001b[0m\n",
      "\u001b[?25hDownloading oslo.i18n-6.2.0-py3-none-any.whl (46 kB)\n",
      "\u001b[2K   \u001b[90m━━━━━━━━━━━━━━━━━━━━━━━━━━━━━━━━━━━━━━━━\u001b[0m \u001b[32m46.8/46.8 kB\u001b[0m \u001b[31m5.8 MB/s\u001b[0m eta \u001b[36m0:00:00\u001b[0m\n",
      "\u001b[?25hDownloading oslo.utils-6.3.0-py3-none-any.whl (101 kB)\n",
      "\u001b[2K   \u001b[90m━━━━━━━━━━━━━━━━━━━━━━━━━━━━━━━━━━━━━━━━\u001b[0m \u001b[32m101.2/101.2 kB\u001b[0m \u001b[31m11.9 MB/s\u001b[0m eta \u001b[36m0:00:00\u001b[0m\n",
      "\u001b[?25hDownloading pbr-6.0.0-py2.py3-none-any.whl (107 kB)\n",
      "\u001b[2K   \u001b[90m━━━━━━━━━━━━━━━━━━━━━━━━━━━━━━━━━━━━━━━━\u001b[0m \u001b[32m107.5/107.5 kB\u001b[0m \u001b[31m8.1 MB/s\u001b[0m eta \u001b[36m0:00:00\u001b[0m\n",
      "\u001b[?25hDownloading python_cinderclient-9.4.0-py3-none-any.whl (255 kB)\n",
      "\u001b[2K   \u001b[90m━━━━━━━━━━━━━━━━━━━━━━━━━━━━━━━━━━━━━━━━\u001b[0m \u001b[32m255.9/255.9 kB\u001b[0m \u001b[31m12.4 MB/s\u001b[0m eta \u001b[36m0:00:00\u001b[0m\n",
      "\u001b[?25hDownloading python_keystoneclient-5.3.0-py3-none-any.whl (397 kB)\n",
      "\u001b[2K   \u001b[90m━━━━━━━━━━━━━━━━━━━━━━━━━━━━━━━━━━━━━━━━\u001b[0m \u001b[32m397.8/397.8 kB\u001b[0m \u001b[31m13.1 MB/s\u001b[0m eta \u001b[36m0:00:00\u001b[0m\n",
      "\u001b[?25hDownloading python_novaclient-18.4.0-py3-none-any.whl (335 kB)\n",
      "\u001b[2K   \u001b[90m━━━━━━━━━━━━━━━━━━━━━━━━━━━━━━━━━━━━━━━━\u001b[0m \u001b[32m335.9/335.9 kB\u001b[0m \u001b[31m6.3 MB/s\u001b[0m eta \u001b[36m0:00:00\u001b[0ma \u001b[36m0:00:01\u001b[0m\n",
      "\u001b[?25hDownloading stevedore-5.1.0-py3-none-any.whl (49 kB)\n",
      "\u001b[2K   \u001b[90m━━━━━━━━━━━━━━━━━━━━━━━━━━━━━━━━━━━━━━━━\u001b[0m \u001b[32m49.6/49.6 kB\u001b[0m \u001b[31m7.1 MB/s\u001b[0m eta \u001b[36m0:00:00\u001b[0m\n",
      "\u001b[?25hDownloading autopage-0.5.2-py3-none-any.whl (30 kB)\n",
      "Downloading dogpile.cache-1.3.0-py3-none-any.whl (57 kB)\n",
      "\u001b[2K   \u001b[90m━━━━━━━━━━━━━━━━━━━━━━━━━━━━━━━━━━━━━━━━\u001b[0m \u001b[32m57.7/57.7 kB\u001b[0m \u001b[31m5.2 MB/s\u001b[0m eta \u001b[36m0:00:00\u001b[0m\n",
      "\u001b[?25hDownloading jsonpatch-1.33-py2.py3-none-any.whl (12 kB)\n",
      "Downloading keystoneauth1-5.5.0-py3-none-any.whl (323 kB)\n",
      "\u001b[2K   \u001b[90m━━━━━━━━━━━━━━━━━━━━━━━━━━━━━━━━━━━━━━━━\u001b[0m \u001b[32m323.8/323.8 kB\u001b[0m \u001b[31m10.8 MB/s\u001b[0m eta \u001b[36m0:00:00\u001b[0m\n",
      "\u001b[?25hDownloading netaddr-0.10.1-py2.py3-none-any.whl (2.2 MB)\n",
      "\u001b[2K   \u001b[90m━━━━━━━━━━━━━━━━━━━━━━━━━━━━━━━━━━━━━━━━\u001b[0m \u001b[32m2.2/2.2 MB\u001b[0m \u001b[31m8.9 MB/s\u001b[0m eta \u001b[36m0:00:00\u001b[0m:00:01\u001b[0m0:01\u001b[0mm\n",
      "\u001b[?25hDownloading oslo.config-9.3.0-py3-none-any.whl (128 kB)\n",
      "\u001b[2K   \u001b[90m━━━━━━━━━━━━━━━━━━━━━━━━━━━━━━━━━━━━━━━━\u001b[0m \u001b[32m128.5/128.5 kB\u001b[0m \u001b[31m7.9 MB/s\u001b[0m eta \u001b[36m0:00:00\u001b[0m\n",
      "\u001b[?25hDownloading oslo.serialization-5.3.0-py3-none-any.whl (26 kB)\n",
      "Downloading prettytable-3.9.0-py3-none-any.whl (27 kB)\n",
      "Downloading pyparsing-3.1.1-py3-none-any.whl (103 kB)\n",
      "\u001b[2K   \u001b[90m━━━━━━━━━━━━━━━━━━━━━━━━━━━━━━━━━━━━━━━━\u001b[0m \u001b[32m103.1/103.1 kB\u001b[0m \u001b[31m6.4 MB/s\u001b[0m eta \u001b[36m0:00:00\u001b[0m\n",
      "\u001b[?25hDownloading pytz-2023.3.post1-py2.py3-none-any.whl (502 kB)\n",
      "\u001b[2K   \u001b[90m━━━━━━━━━━━━━━━━━━━━━━━━━━━━━━━━━━━━━━━━\u001b[0m \u001b[32m502.5/502.5 kB\u001b[0m \u001b[31m5.9 MB/s\u001b[0m eta \u001b[36m0:00:00\u001b[0ma \u001b[36m0:00:01\u001b[0m\n",
      "\u001b[?25hDownloading requests-2.31.0-py3-none-any.whl (62 kB)\n",
      "\u001b[2K   \u001b[90m━━━━━━━━━━━━━━━━━━━━━━━━━━━━━━━━━━━━━━━━\u001b[0m \u001b[32m62.6/62.6 kB\u001b[0m \u001b[31m2.5 MB/s\u001b[0m eta \u001b[36m0:00:00\u001b[0m\n",
      "\u001b[?25hDownloading simplejson-3.19.2-cp311-cp311-manylinux_2_5_x86_64.manylinux1_x86_64.manylinux_2_17_x86_64.manylinux2014_x86_64.whl (144 kB)\n",
      "\u001b[2K   \u001b[90m━━━━━━━━━━━━━━━━━━━━━━━━━━━━━━━━━━━━━━━━\u001b[0m \u001b[32m144.7/144.7 kB\u001b[0m \u001b[31m3.8 MB/s\u001b[0m eta \u001b[36m0:00:00\u001b[0m00:01\u001b[0m\n",
      "\u001b[?25hDownloading tzdata-2023.4-py2.py3-none-any.whl (346 kB)\n",
      "\u001b[2K   \u001b[90m━━━━━━━━━━━━━━━━━━━━━━━━━━━━━━━━━━━━━━━━\u001b[0m \u001b[32m346.6/346.6 kB\u001b[0m \u001b[31m6.8 MB/s\u001b[0m eta \u001b[36m0:00:00\u001b[0ma \u001b[36m0:00:01\u001b[0m\n",
      "\u001b[?25hDownloading attrs-23.2.0-py3-none-any.whl (60 kB)\n",
      "\u001b[2K   \u001b[90m━━━━━━━━━━━━━━━━━━━━━━━━━━━━━━━━━━━━━━━━\u001b[0m \u001b[32m60.8/60.8 kB\u001b[0m \u001b[31m4.5 MB/s\u001b[0m eta \u001b[36m0:00:00\u001b[0m\n",
      "\u001b[?25hDownloading certifi-2023.11.17-py3-none-any.whl (162 kB)\n",
      "\u001b[2K   \u001b[90m━━━━━━━━━━━━━━━━━━━━━━━━━━━━━━━━━━━━━━━━\u001b[0m \u001b[32m162.5/162.5 kB\u001b[0m \u001b[31m7.3 MB/s\u001b[0m eta \u001b[36m0:00:00\u001b[0m\n",
      "\u001b[?25hDownloading charset_normalizer-3.3.2-cp311-cp311-manylinux_2_17_x86_64.manylinux2014_x86_64.whl (140 kB)\n",
      "\u001b[2K   \u001b[90m━━━━━━━━━━━━━━━━━━━━━━━━━━━━━━━━━━━━━━━━\u001b[0m \u001b[32m140.3/140.3 kB\u001b[0m \u001b[31m9.9 MB/s\u001b[0m eta \u001b[36m0:00:00\u001b[0m\n",
      "\u001b[?25hDownloading idna-3.6-py3-none-any.whl (61 kB)\n",
      "\u001b[2K   \u001b[90m━━━━━━━━━━━━━━━━━━━━━━━━━━━━━━━━━━━━━━━━\u001b[0m \u001b[32m61.6/61.6 kB\u001b[0m \u001b[31m4.9 MB/s\u001b[0m eta \u001b[36m0:00:00\u001b[0m\n",
      "\u001b[?25hDownloading jsonpointer-2.4-py2.py3-none-any.whl (7.8 kB)\n",
      "Downloading msgpack-1.0.7-cp311-cp311-manylinux_2_17_x86_64.manylinux2014_x86_64.whl (557 kB)\n",
      "\u001b[2K   \u001b[90m━━━━━━━━━━━━━━━━━━━━━━━━━━━━━━━━━━━━━━━━\u001b[0m \u001b[32m558.0/558.0 kB\u001b[0m \u001b[31m11.0 MB/s\u001b[0m eta \u001b[36m0:00:00\u001b[0m00:01\u001b[0m\n",
      "\u001b[?25hDownloading urllib3-2.1.0-py3-none-any.whl (104 kB)\n",
      "\u001b[2K   \u001b[90m━━━━━━━━━━━━━━━━━━━━━━━━━━━━━━━━━━━━━━━━\u001b[0m \u001b[32m104.6/104.6 kB\u001b[0m \u001b[31m8.9 MB/s\u001b[0m eta \u001b[36m0:00:00\u001b[0m\n",
      "\u001b[?25hDownloading wrapt-1.16.0-cp311-cp311-manylinux_2_5_x86_64.manylinux1_x86_64.manylinux_2_17_x86_64.manylinux2014_x86_64.whl (80 kB)\n",
      "\u001b[2K   \u001b[90m━━━━━━━━━━━━━━━━━━━━━━━━━━━━━━━━━━━━━━━━\u001b[0m \u001b[32m80.7/80.7 kB\u001b[0m \u001b[31m6.9 MB/s\u001b[0m eta \u001b[36m0:00:00\u001b[0m\n",
      "\u001b[?25hBuilding wheels for collected packages: netifaces, pyperclip\n",
      "  Building wheel for netifaces (setup.py) ... \u001b[?25ldone\n",
      "\u001b[?25h  Created wheel for netifaces: filename=netifaces-0.11.0-cp311-cp311-linux_x86_64.whl size=14219 sha256=29dec11bf4c4b11ef3d588a95a4600251112260f16ab4b775d7ed96651f4e501\n",
      "  Stored in directory: /home/luoyumo/.cache/pip/wheels/40/85/29/648c19bbbb5f1d30e33bfb343fd7fb54296b402f7205d8e46f\n",
      "  Building wheel for pyperclip (setup.py) ... \u001b[?25ldone\n",
      "\u001b[?25h  Created wheel for pyperclip: filename=pyperclip-1.8.2-py3-none-any.whl size=11125 sha256=b90efdb8b19c66e2779a14aeb2d574652119352b5fa30ab6e5208d638ab5a672\n",
      "  Stored in directory: /home/luoyumo/.cache/pip/wheels/70/bd/ba/8ae5c080c895c9360fe6e153acda2dee82527374467eae061b\n",
      "Successfully built netifaces pyperclip\n",
      "Installing collected packages: requestsexceptions, pytz, pyperclip, netifaces, netaddr, wrapt, urllib3, tzdata, simplejson, rfc3986, pyparsing, PrettyTable, pbr, msgpack, jsonpointer, jmespath, iso8601, idna, charset-normalizer, certifi, autopage, attrs, stevedore, requests, oslo.i18n, os-service-types, jsonpatch, debtcollector, cmd2, oslo.utils, oslo.config, keystoneauth1, dogpile.cache, cliff, python-cinderclient, oslo.serialization, openstacksdk, python-novaclient, python-keystoneclient, osc-lib, python-openstackclient\n",
      "Successfully installed PrettyTable-3.9.0 attrs-23.2.0 autopage-0.5.2 certifi-2023.11.17 charset-normalizer-3.3.2 cliff-4.5.0 cmd2-2.4.3 debtcollector-2.5.0 dogpile.cache-1.3.0 idna-3.6 iso8601-2.1.0 jmespath-1.0.1 jsonpatch-1.33 jsonpointer-2.4 keystoneauth1-5.5.0 msgpack-1.0.7 netaddr-0.10.1 netifaces-0.11.0 openstacksdk-2.1.0 os-service-types-1.7.0 osc-lib-3.0.0 oslo.config-9.3.0 oslo.i18n-6.2.0 oslo.serialization-5.3.0 oslo.utils-6.3.0 pbr-6.0.0 pyparsing-3.1.1 pyperclip-1.8.2 python-cinderclient-9.4.0 python-keystoneclient-5.3.0 python-novaclient-18.4.0 python-openstackclient-6.2.0 pytz-2023.3.post1 requests-2.31.0 requestsexceptions-1.4.0 rfc3986-2.0.0 simplejson-3.19.2 stevedore-5.1.0 tzdata-2023.4 urllib3-2.1.0 wrapt-1.16.0\n",
      "Note: you may need to restart the kernel to use updated packages.\n"
     ]
    }
   ],
   "source": [
    "%pip install python-openstackclient==6.2"
   ]
  },
  {
   "cell_type": "markdown",
   "metadata": {},
   "source": [
    "### 3. Install OpenStack's Python client SDK"
   ]
  },
  {
   "cell_type": "code",
   "execution_count": 2,
   "metadata": {},
   "outputs": [
    {
     "name": "stdout",
     "output_type": "stream",
     "text": [
      "Collecting openstacksdk==1.2\n",
      "  Downloading openstacksdk-1.2.0-py3-none-any.whl.metadata (9.4 kB)\n",
      "Requirement already satisfied: PyYAML>=3.13 in /home/luoyumo/.local/lib/python3.11/site-packages (from openstacksdk==1.2) (6.0.1)\n",
      "Collecting appdirs>=1.3.0 (from openstacksdk==1.2)\n",
      "  Downloading appdirs-1.4.4-py2.py3-none-any.whl (9.6 kB)\n",
      "Requirement already satisfied: cryptography>=2.7 in /home/luoyumo/.local/lib/python3.11/site-packages (from openstacksdk==1.2) (41.0.7)\n",
      "Requirement already satisfied: decorator>=4.4.1 in /home/luoyumo/.conda/envs/mlops_eng/lib/python3.11/site-packages (from openstacksdk==1.2) (5.1.1)\n",
      "Requirement already satisfied: dogpile.cache>=0.6.5 in /home/luoyumo/.conda/envs/mlops_eng/lib/python3.11/site-packages (from openstacksdk==1.2) (1.3.0)\n",
      "Requirement already satisfied: iso8601>=0.1.11 in /home/luoyumo/.conda/envs/mlops_eng/lib/python3.11/site-packages (from openstacksdk==1.2) (2.1.0)\n",
      "Requirement already satisfied: jmespath>=0.9.0 in /home/luoyumo/.conda/envs/mlops_eng/lib/python3.11/site-packages (from openstacksdk==1.2) (1.0.1)\n",
      "Requirement already satisfied: jsonpatch!=1.20,>=1.16 in /home/luoyumo/.conda/envs/mlops_eng/lib/python3.11/site-packages (from openstacksdk==1.2) (1.33)\n",
      "Requirement already satisfied: keystoneauth1>=3.18.0 in /home/luoyumo/.conda/envs/mlops_eng/lib/python3.11/site-packages (from openstacksdk==1.2) (5.5.0)\n",
      "Requirement already satisfied: netifaces>=0.10.4 in /home/luoyumo/.conda/envs/mlops_eng/lib/python3.11/site-packages (from openstacksdk==1.2) (0.11.0)\n",
      "Requirement already satisfied: os-service-types>=1.7.0 in /home/luoyumo/.conda/envs/mlops_eng/lib/python3.11/site-packages (from openstacksdk==1.2) (1.7.0)\n",
      "Requirement already satisfied: pbr!=2.1.0,>=2.0.0 in /home/luoyumo/.conda/envs/mlops_eng/lib/python3.11/site-packages (from openstacksdk==1.2) (6.0.0)\n",
      "Requirement already satisfied: requestsexceptions>=1.2.0 in /home/luoyumo/.conda/envs/mlops_eng/lib/python3.11/site-packages (from openstacksdk==1.2) (1.4.0)\n",
      "Requirement already satisfied: cffi>=1.12 in /home/luoyumo/.local/lib/python3.11/site-packages (from cryptography>=2.7->openstacksdk==1.2) (1.16.0)\n",
      "Requirement already satisfied: stevedore>=3.0.0 in /home/luoyumo/.conda/envs/mlops_eng/lib/python3.11/site-packages (from dogpile.cache>=0.6.5->openstacksdk==1.2) (5.1.0)\n",
      "Requirement already satisfied: jsonpointer>=1.9 in /home/luoyumo/.conda/envs/mlops_eng/lib/python3.11/site-packages (from jsonpatch!=1.20,>=1.16->openstacksdk==1.2) (2.4)\n",
      "Requirement already satisfied: requests>=2.14.2 in /home/luoyumo/.conda/envs/mlops_eng/lib/python3.11/site-packages (from keystoneauth1>=3.18.0->openstacksdk==1.2) (2.31.0)\n",
      "Requirement already satisfied: pycparser in /home/luoyumo/.local/lib/python3.11/site-packages (from cffi>=1.12->cryptography>=2.7->openstacksdk==1.2) (2.21)\n",
      "Requirement already satisfied: charset-normalizer<4,>=2 in /home/luoyumo/.conda/envs/mlops_eng/lib/python3.11/site-packages (from requests>=2.14.2->keystoneauth1>=3.18.0->openstacksdk==1.2) (3.3.2)\n",
      "Requirement already satisfied: idna<4,>=2.5 in /home/luoyumo/.conda/envs/mlops_eng/lib/python3.11/site-packages (from requests>=2.14.2->keystoneauth1>=3.18.0->openstacksdk==1.2) (3.6)\n",
      "Requirement already satisfied: urllib3<3,>=1.21.1 in /home/luoyumo/.conda/envs/mlops_eng/lib/python3.11/site-packages (from requests>=2.14.2->keystoneauth1>=3.18.0->openstacksdk==1.2) (2.1.0)\n",
      "Requirement already satisfied: certifi>=2017.4.17 in /home/luoyumo/.conda/envs/mlops_eng/lib/python3.11/site-packages (from requests>=2.14.2->keystoneauth1>=3.18.0->openstacksdk==1.2) (2023.11.17)\n",
      "Downloading openstacksdk-1.2.0-py3-none-any.whl (1.6 MB)\n",
      "\u001b[2K   \u001b[90m━━━━━━━━━━━━━━━━━━━━━━━━━━━━━━━━━━━━━━━━\u001b[0m \u001b[32m1.6/1.6 MB\u001b[0m \u001b[31m8.8 MB/s\u001b[0m eta \u001b[36m0:00:00\u001b[0m00:01\u001b[0m:00:01\u001b[0m\n",
      "\u001b[?25hInstalling collected packages: appdirs, openstacksdk\n",
      "  Attempting uninstall: openstacksdk\n",
      "    Found existing installation: openstacksdk 2.1.0\n",
      "    Uninstalling openstacksdk-2.1.0:\n",
      "      Successfully uninstalled openstacksdk-2.1.0\n",
      "Successfully installed appdirs-1.4.4 openstacksdk-1.2.0\n",
      "Note: you may need to restart the kernel to use updated packages.\n"
     ]
    }
   ],
   "source": [
    "%pip install openstacksdk==1.2"
   ]
  },
  {
   "cell_type": "markdown",
   "metadata": {},
   "source": [
    "### 4. Configure the credentials that OpenStack's Python client needs for connecting to cPouta"
   ]
  },
  {
   "cell_type": "markdown",
   "metadata": {},
   "source": [
    "Be sure to have downloaded the `clouds.yaml` file from the \"prerequisites\" chapter.\n",
    "\n",
    "After that, you need to create a `secure.yaml` file in the current directory with your password in it.\n",
    "\n",
    "**Disclaimer**: this solution is not secure, but OpenStack doesn't give other safer options. Be sure to delete this file after you are done and most importantly **NEVER COMMIT** the `secure.yaml`.\n",
    "\n",
    "Below there is a script to create the file automatically. Run it and update the password with your CSC password in the `secure.yaml` file. The file is under the same directory as this notebook (i.e., setup/1_create_vm).\n",
    "\n",
    "**Note**: Your CSC password is not the password of your university credentials, it's the one you created when you signed up to CSC after you had logged in using your university credentials for the first time. "
   ]
  },
  {
   "cell_type": "code",
   "execution_count": 3,
   "metadata": {},
   "outputs": [],
   "source": [
    "!echo -e \"clouds:\\n  openstack:\\n    auth:\\n      password: ******\" > secure.yaml"
   ]
  },
  {
   "cell_type": "markdown",
   "metadata": {},
   "source": [
    "Now update the password in [secure.yaml](./secure.yaml).\n",
    "\n",
    "As long as the configuration files (clouds.yaml and secure.yaml) are in one of the following paths, the connection should work automatically:\n",
    "\n",
    "- Current Directory\n",
    "- ~/.config/openstack\n",
    "- /etc/openstack\n",
    "\n",
    "So we can start a connection to cPouta and create a virtual machine there."
   ]
  },
  {
   "cell_type": "markdown",
   "metadata": {},
   "source": [
    "## Create a virtual machine\n",
    "\n",
    "We will mainly use the Python client in this notebook. \n",
    "\n",
    "For your interest, the complete guide on how to work with the CLI is [here](https://docs.csc.fi/cloud/pouta/command-line-tools/)."
   ]
  },
  {
   "cell_type": "code",
   "execution_count": 4,
   "metadata": {},
   "outputs": [],
   "source": [
    "import openstack\n",
    "from openstack.connection import Connection\n",
    "\n",
    "# Initialize and turn off debug logging\n",
    "openstack.enable_logging(debug=False)\n",
    "\n",
    "# Initialize the connection to the cloud\n",
    "conn: Connection = openstack.connect(cloud=\"openstack\")\n"
   ]
  },
  {
   "cell_type": "markdown",
   "metadata": {},
   "source": [
    "First of all, we need to create a key pair:"
   ]
  },
  {
   "cell_type": "code",
   "execution_count": 5,
   "metadata": {},
   "outputs": [
    {
     "name": "stdout",
     "output_type": "stream",
     "text": [
      "Creating Key Pair...\n",
      "Done.\n",
      "\n",
      "\tKey pair: luoyumo2-tutorial - project_2008075\n",
      "\n"
     ]
    }
   ],
   "source": [
    "import os\n",
    "from openstack.compute.v2.keypair import Keypair\n",
    "\n",
    "\n",
    "def create_keypair(conn: Connection, keypair_name: str) -> Keypair:\n",
    "    keypair = conn.compute.find_keypair(keypair_name)\n",
    "\n",
    "    if not keypair:\n",
    "        print(\"Creating Key Pair...\")\n",
    "        keypair = conn.compute.create_keypair(name=keypair_name)\n",
    "        ssh_dir_name = os.path.join(os.environ[\"HOME\"], \".ssh\")\n",
    "        \n",
    "        # create .ssh folder under your home directory if not existing\n",
    "        os.makedirs(ssh_dir_name, exist_ok=True)\n",
    "        \n",
    "        private_keypair_file_path = os.path.join(\n",
    "            ssh_dir_name, keypair_name\n",
    "        )\n",
    "        \n",
    "        with open(private_keypair_file_path, \"w\") as f:\n",
    "            f.write(\"%s\" % keypair.private_key)\n",
    "\n",
    "        os.chmod(private_keypair_file_path, 0o400)\n",
    "        print(\"Done.\")\n",
    "    else:\n",
    "        print(f\"The keypair {keypair_name} is already in the system.\")\n",
    "\n",
    "    return keypair\n",
    "\n",
    "\n",
    "keypair = create_keypair(conn, f\"{conn.auth['username']}-tutorial\")\n",
    "print(f\"\\n\\tKey pair: {keypair.name} - {keypair.location.project.name}\\n\")\n"
   ]
  },
  {
   "cell_type": "markdown",
   "metadata": {},
   "source": [
    "You will see the keys created:\n",
    "\n",
    "![keypair](./images/tutorial-openstack-keypair.png)\n",
    "\n",
    "**Note**: If you want to delete an existing keypair and create a new one, remember to delete both the public key in cPouta and the private key in the `.ssh` folder under your home directory. \n",
    "\n",
    "Now we can try to create a virtual machine (sometimes referred to as a server in the following instructions) in cPouta. To do that, we need to define some details such as network, type of instance and image to start from.\n",
    "\n",
    "Let's print the ones that are already available:"
   ]
  },
  {
   "cell_type": "code",
   "execution_count": 6,
   "metadata": {},
   "outputs": [
    {
     "name": "stdout",
     "output_type": "stream",
     "text": [
      "Available standard instances types:\n",
      " - standard.3xlarge\n",
      " - standard.large\n",
      " - standard.medium\n",
      " - standard.small\n",
      " - standard.tiny\n",
      " - standard.xlarge\n",
      " - standard.xxlarge\n",
      "\n",
      "Available networks:\n",
      " - public\n",
      " - project_2008075\n",
      "\n",
      "Available images:\n",
      " - AlmaLinux-9\n",
      " - AlmaLinux-8\n",
      " - CentOS-9-Stream\n",
      " - CentOS-8-Stream\n",
      " - Ubuntu-22.04\n",
      " - Ubuntu-20.04\n",
      " - Ubuntu-18.04\n",
      " - CentOS-7-Cuda\n",
      " - CentOS-7\n",
      " - cirros\n"
     ]
    }
   ],
   "source": [
    "print(\"Available standard instances types:\")\n",
    "all_flavors = conn.compute.flavors()\n",
    "for flavor in sorted(all_flavors, key=lambda x: x.name):\n",
    "    if flavor.name.startswith(\"standard\"):\n",
    "        print(\" - \" + flavor.name)\n",
    "\n",
    "print(\"\\nAvailable networks:\")\n",
    "all_networks = conn.network.networks()\n",
    "for network in all_networks:\n",
    "    print(\" - \" + network.name)\n",
    "\n",
    "\n",
    "print(\"\\nAvailable images:\")\n",
    "all_images = conn.compute.images()\n",
    "for image in all_images:\n",
    "    print(\" - \" + image.name)\n"
   ]
  },
  {
   "cell_type": "markdown",
   "metadata": {},
   "source": [
    "So now we can pick one of each and define a function to create the server. This step will take a while. "
   ]
  },
  {
   "cell_type": "code",
   "execution_count": 7,
   "metadata": {},
   "outputs": [
    {
     "name": "stdout",
     "output_type": "stream",
     "text": [
      "Creating Server:\n",
      "Server created: luoyumo2-tutorial\n"
     ]
    }
   ],
   "source": [
    "# The openstack object has no return type, so the IDE can't find the right type with intellisense\n",
    "# We import them only for autocomplete in the IDE and for extra detail, but they are not needed\n",
    "from openstack.compute.v2.image import Image\n",
    "from openstack.compute.v2.flavor import Flavor\n",
    "from openstack.network.v2.network import Network\n",
    "from openstack.compute.v2.server import Server\n",
    "\n",
    "\n",
    "def create_server(\n",
    "    conn: Connection,\n",
    "    server_name: str,\n",
    "    image_name: str,\n",
    "    instance_flavor: str,\n",
    "    network_name: str,\n",
    "    keypair: Keypair,\n",
    ") -> Server:\n",
    "    server = conn.compute.find_server(server_name)\n",
    "    if server is None:\n",
    "        print(\"Creating Server:\")\n",
    "        image: Image = conn.image.find_image(image_name)\n",
    "        flavor: Flavor = conn.compute.find_flavor(instance_flavor)\n",
    "        network: Network = conn.network.find_network(network_name)\n",
    "        server: Server = conn.compute.create_server(\n",
    "            name=server_name,\n",
    "            image_id=image.id,\n",
    "            flavor_id=flavor.id,\n",
    "            networks=[{\"uuid\": network.id}],\n",
    "            key_name=keypair.name,\n",
    "        )\n",
    "\n",
    "        server: Server = conn.compute.wait_for_server(server)\n",
    "        print(f\"Server created: {server.name}\")\n",
    "    else:\n",
    "        print(f\"The server {server_name} is already running.\")\n",
    "    return server\n",
    "\n",
    "\n",
    "server_name = f\"{conn.auth['username']}-tutorial\"\n",
    "image_name = \"Ubuntu-22.04\"\n",
    "instance_flavor = \"standard.xlarge\"\n",
    "network_name = \"project_2008075\"\n",
    "\n",
    "server = create_server(\n",
    "    conn,\n",
    "    server_name,\n",
    "    image_name,\n",
    "    instance_flavor,\n",
    "    network_name,\n",
    "    keypair,\n",
    ")\n"
   ]
  },
  {
   "cell_type": "markdown",
   "metadata": {},
   "source": [
    "The server should appear on the dashboard like below:\n",
    "\n",
    "![server](./images/tutorial-openstack-server.png)\n",
    "\n",
    "### Access the server through SSH\n",
    "\n",
    "The IP that you see in the image is a private network IP.\n",
    "\n",
    "Now that we have a server, we can give it a *Floating IP* (i.e. a public IP) so that we can access with SSH to run commands on it.\n",
    "\n",
    "If we give a *Floating IP*, and we add the right security group and port forwarding rules to the server, we can access it from our local machine.\n",
    "\n",
    "⚠️ **NOTE** ⚠️: the Python APIs are broken for this passage, so for now we need to run the commands on a terminal that has the right credentials.\n",
    "\n",
    "Run the following python code and **follow the instructions printed**:"
   ]
  },
  {
   "cell_type": "code",
   "execution_count": 32,
   "metadata": {},
   "outputs": [
    {
     "name": "stdout",
     "output_type": "stream",
     "text": [
      "Security group found: ssh\n",
      "192.168.1.9\n"
     ]
    }
   ],
   "source": [
    "from openstack.network.v2.security_group import SecurityGroup\n",
    "from openstack.network.v2.floating_ip import FloatingIP\n",
    "\n",
    "server: Server = conn.compute.find_server(server_name, ignore_missing=False)\n",
    "security_group: SecurityGroup = conn.network.find_security_group(\"ssh\")\n",
    "print(f\"Security group found: {security_group.name}\")\n",
    "\n",
    "fixed_ip = filter(lambda ip_info: ip_info['OS-EXT-IPS:type']==\"fixed\", server.addresses[network_name])\n",
    "fixed_ip_address = list(fixed_ip)[0][\"addr\"]\n",
    "print(fixed_ip_address)\n",
    "\n",
    "# # NOTE: The APIs are broken, but it would be:\n",
    "# # conn.compute.add_floating_ip_to_server(server, floating_ip.floating_ip_address)\n",
    "# #conn.compute.add_security_group_to_server(conn, security_group)\n",
    "# print(\"Go to setup/1_create_vm in a terminal and run on your terminal these commands one at a time:\")\n",
    "# print(f\"\\tsource openrc\")\n",
    "# print(f\"\\t./configure_vm.sh -n {server.name} -s {security_group.name}\")\n",
    "# # ./configure_vm.sh is a script that performs the following three tasks: 1) randomly pick a floating IP and assign it to your VM,\n",
    "# # 2) add your VM to the ssh security group, 3) lock your instance to prevent it from being deleted accidentally.\n"
   ]
  },
  {
   "cell_type": "code",
   "execution_count": 29,
   "metadata": {},
   "outputs": [],
   "source": [
    "floating_ip = filter(lambda ip_info: ip_info['OS-EXT-IPS:type']==\"floating\", server.addresses[network_name])\n",
    "floating_ip_address = list(floating_ip)[0][\"addr\"]"
   ]
  },
  {
   "cell_type": "code",
   "execution_count": 30,
   "metadata": {},
   "outputs": [
    {
     "name": "stdout",
     "output_type": "stream",
     "text": [
      "The server is now accessible with the following command:\n",
      "\n",
      "\tssh -i /home/luoyumo/.ssh/luoyumo2-tutorial ubuntu@86.50.168.4\n"
     ]
    }
   ],
   "source": [
    "# We assume your private key file is in $HOME/.ssh\n",
    "private_key_file_path = os.path.join(os.environ[\"HOME\"], \".ssh\", keypair.name)\n",
    "username = \"ubuntu\" if \"Ubuntu\" in image_name else \"root\"\n",
    "print(\"The server is now accessible with the following command:\")\n",
    "print(f\"\\n\\tssh -i {private_key_file_path} {username}@{floating_ip_address}\")"
   ]
  },
  {
   "cell_type": "markdown",
   "metadata": {},
   "source": [
    "NOTE: if you tried multiple times to run these cells and you already put the floating IP to your `known_hosts` file, you might get the following message when you try to ssh into the instance:\n",
    "\n",
    "```text\n",
    "@@@@@@@@@@@@@@@@@@@@@@@@@@@@@@@@@@@@@@@@@@@@@@@@@@@@@@@@@@@\n",
    "@    WARNING: REMOTE HOST IDENTIFICATION HAS CHANGED!     @\n",
    "@@@@@@@@@@@@@@@@@@@@@@@@@@@@@@@@@@@@@@@@@@@@@@@@@@@@@@@@@@@\n",
    "IT IS POSSIBLE THAT SOMEONE IS DOING SOMETHING NASTY!\n",
    "Someone could be eavesdropping on you right now (man-in-the-middle attack)!\n",
    "It is also possible that a host key has just been changed.\n",
    "The fingerprint for the ED25519 key sent by the remote host is\n",
    "SHA256:XXXXX\n",
    "Please contact your system administrator.\n",
    "Add correct host key in HOME/.ssh/known_hosts to get rid of this message.\n",
    "Offending ECDSA key in HOME/.ssh/known_hosts:7\n",
    "Host key for INSTANCE_IP has changed and you have requested strict checking.\n",
    "Host key verification failed.\n",
    "```\n",
    "\n",
    "To solve this, you can simply get the `floating_ip` from the previous run, and run:\n",
    "\n",
    "```bash\n",
    "ssh-keygen -R <floating-ip>\n",
    "```\n",
    "\n",
    "and then try to ssh again into the instance."
   ]
  },
  {
   "cell_type": "markdown",
   "metadata": {},
   "source": [
    "After creating a VM in cPouta, save the notebook with the outputs (of running the cells) as you will need some of the outputs later. Keep the notebook open and continue with the \"3. Install necessary tools and create a K8s cluster in the cPouta VM\" section in the [main instructions](../../README.md)."
   ]
  }
 ],
 "metadata": {
  "kernelspec": {
   "display_name": "Python 3 (ipykernel)",
   "language": "python",
   "name": "python3"
  },
  "language_info": {
   "codemirror_mode": {
    "name": "ipython",
    "version": 3
   },
   "file_extension": ".py",
   "mimetype": "text/x-python",
   "name": "python",
   "nbconvert_exporter": "python",
   "pygments_lexer": "ipython3",
   "version": "3.11.0"
  },
  "vscode": {
   "interpreter": {
    "hash": "1af830c9235f9ba868d8558096ef7bcb04f6de668e2e56380e2ec08c356779a6"
   }
  }
 },
 "nbformat": 4,
 "nbformat_minor": 2
}
