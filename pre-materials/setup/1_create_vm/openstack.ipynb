{
 "cells": [
  {
   "cell_type": "markdown",
   "metadata": {},
   "source": [
    "# Create a Virtual Machine in CSC cPouta\n",
    "\n",
    "This notebook shows how to create a virtual machine in cPouta.\n",
    "\n",
    "> For your interest, cPouta and ePouta are the IaaS cloud services at CSC, known as Finnish IT center for science. The cPouta cloud is the public cloud which is easily accessible via the Internet. The ePouta cloud is a virtual private cloud designed to meet the security requirements of handling sensitive data. Both the cPouta and ePouta clouds run on the OpenStack cloud software. The Pouta cloud services are suitable for most kinds of computational workloads and any other supporting services these workloads might need. More information can be found from [CSC's documentations of the Pouta services](https://docs.csc.fi/cloud/pouta/pouta-what-is/).\n",
    "\n",
    "## First glance at cPouta\n",
    "\n",
    "We will try to create and manage a virtual machine in cPouta from our local computer using OpenStack Python SDK. If you are interested, you can start familiarizing with cPouta GUI reading [this guide](https://docs.csc.fi/cloud/pouta/launch-vm-from-web-gui/).\n",
    "\n",
    "## Prerequisites\n",
    "\n",
    "### 0. You should already have a CSC account and can access the CSC project of the course\n",
    "If not, please navigate to the course Moodle page and find the invitation link. Then follow the instructions to create an CSC account and apply for the access to the CSC project of the course. \n",
    "\n",
    "### 1. Downloading credentials for accessing cPouta\n",
    "To be able to connect to cPouta, we need to get some credentials. he credential file can be downloaded from the OpenStack web interface.\n",
    "\n",
    "You can download the credential file at the following URL after logging in. **Remember to switch to project_2008075 if you have multiple CSC projects**:\n",
    "\n",
    "https://pouta.csc.fi/dashboard/project/api_access/\n",
    "\n",
    "To download this in the web interface, navigate to the API Access section, and download the `clouds.yaml` file. `clouds.yaml` is needed to access cPouta using OpenStack Python SDK. (The OpenStack RC file is needed to access cPouta from a terminal using OpenStack CLI and we don't need it here.)\n",
    "\n",
    "![api_access](./images/csc-pouta-openstack-api_access.png)\n",
    "\n",
    "If you already access the cPouta dashboard, these links might work to download the files directly:\n",
    "\n",
    "> https://pouta.csc.fi/dashboard/project/api_access/clouds.yaml/\n",
    "\n",
    "Put the file in the current directory (setup/1_create_vm). \n",
    "> If you are using Firefox pre-installed in Ubuntu, the browser should ask you where to put the downloaded files. If this is not the case, this option can be enabled with the following steps:\n",
    "> 1. Open the setting menu by clicking on the three horizontal lines (hamburger icon) in the top-right corner of the Firefox window.\n",
    "> 2. Click on \"Settings\" and then \"General\".\n",
    "> 3. Navigate to the \"Files and Applications\" section and check the \"Always ask you where to save files\" checkbox. Now you can download the files again. \n"
   ]
  },
  {
   "cell_type": "markdown",
   "metadata": {},
   "source": [
    "Before running the code in the cells below, make sure you are using \"mlops_eng\" as the Jupyter notebook kernel. You can configure the kernel by clicking the \"Select Kernel\" option at the top right of the notebook:\n",
    "\n",
    "<img src=\"./images/select-kernel.png\" width=800>"
   ]
  },
  {
   "cell_type": "markdown",
   "metadata": {},
   "source": [
    "### 2. Make sure OpenStack's Python client SDK has been installed"
   ]
  },
  {
   "cell_type": "code",
   "execution_count": 1,
   "metadata": {},
   "outputs": [
    {
     "name": "stdout",
     "output_type": "stream",
     "text": [
      "Name: openstacksdk\n",
      "Version: 2.1.0\n",
      "Summary: An SDK for building applications to work with OpenStack\n",
      "Home-page: https://docs.openstack.org/openstacksdk/\n",
      "Author: OpenStack\n",
      "Author-email: openstack-discuss@lists.openstack.org\n",
      "License: UNKNOWN\n",
      "Location: /home/luoyumo/anaconda3/envs/mlops_eng/lib/python3.11/site-packages\n",
      "Requires: cryptography, decorator, dogpile.cache, iso8601, jmespath, jsonpatch, keystoneauth1, netifaces, os-service-types, pbr, platformdirs, PyYAML, requestsexceptions\n",
      "Required-by: \n",
      "Note: you may need to restart the kernel to use updated packages.\n"
     ]
    }
   ],
   "source": [
    "%pip show openstacksdk\n",
    "# The version should be 2.1.0"
   ]
  },
  {
   "cell_type": "markdown",
   "metadata": {},
   "source": [
    "### 3. Configure the credentials that OpenStack's Python client needs for connecting to cPouta"
   ]
  },
  {
   "cell_type": "markdown",
   "metadata": {},
   "source": [
    "Be sure to have downloaded the `clouds.yaml` file from the \"prerequisites\" chapter.\n",
    "\n",
    "After that, you need to create a `secure.yaml` file in the current directory with your password in it.\n",
    "\n",
    "**Disclaimer**: this solution is not secure, but OpenStack doesn't give other safer options. Be sure to delete this file after you are done and most importantly **NEVER COMMIT** the `secure.yaml`.\n",
    "\n",
    "Below there is a script to create the file automatically. Run it and update the password with your CSC password in the `secure.yaml` file. The file is under the same directory as this notebook (i.e., setup/1_create_vm).\n",
    "\n",
    "**Note**: Your CSC password is not the password of your university account, it's the one you created when you signed up to CSC after you had logged in using your university account for the first time. "
   ]
  },
  {
   "cell_type": "code",
   "execution_count": 2,
   "metadata": {},
   "outputs": [],
   "source": [
    "!echo -e \"clouds:\\n  openstack:\\n    auth:\\n      password: ******\" > secure.yaml"
   ]
  },
  {
   "cell_type": "markdown",
   "metadata": {},
   "source": [
    "Now update the password in [secure.yaml](./secure.yaml).\n",
    "\n",
    "As long as the configuration files (clouds.yaml and secure.yaml) are in one of the following paths, the connection should work automatically:\n",
    "\n",
    "- Current Directory\n",
    "- ~/.config/openstack\n",
    "- /etc/openstack\n",
    "\n",
    "So we can start a connection to cPouta and create a virtual machine there."
   ]
  },
  {
   "cell_type": "markdown",
   "metadata": {},
   "source": [
    "## Create a virtual machine\n",
    "\n",
    "We will mainly use the Python client in this notebook. \n",
    "\n",
    "For your interest, the complete guide on how to work with the CLI is [here](https://docs.csc.fi/cloud/pouta/command-line-tools/)."
   ]
  },
  {
   "cell_type": "code",
   "execution_count": 3,
   "metadata": {},
   "outputs": [],
   "source": [
    "import openstack\n",
    "from openstack.connection import Connection\n",
    "\n",
    "# Initialize and turn off debug logging\n",
    "openstack.enable_logging(debug=False)\n",
    "\n",
    "# Initialize the connection to the cloud\n",
    "conn: Connection = openstack.connect(cloud=\"openstack\")\n"
   ]
  },
  {
   "cell_type": "markdown",
   "metadata": {},
   "source": [
    "First of all, we need to create a key pair:"
   ]
  },
  {
   "cell_type": "code",
   "execution_count": 6,
   "metadata": {},
   "outputs": [
    {
     "name": "stdout",
     "output_type": "stream",
     "text": [
      "Creating Key Pair...\n",
      "Done.\n",
      "\n",
      "\tKey pair: luoyumo2-tutorial - project_2008075\n",
      "\n"
     ]
    }
   ],
   "source": [
    "import os\n",
    "from openstack.compute.v2.keypair import Keypair\n",
    "\n",
    "\n",
    "def create_keypair(conn: Connection, keypair_name: str) -> Keypair:\n",
    "    keypair = conn.compute.find_keypair(keypair_name)\n",
    "\n",
    "    if not keypair:\n",
    "        print(\"Creating Key Pair...\")\n",
    "        keypair = conn.compute.create_keypair(name=keypair_name)\n",
    "        ssh_dir_name = os.path.join(os.environ[\"HOME\"], \".ssh\")\n",
    "        \n",
    "        # create .ssh folder under your home directory if not existing\n",
    "        os.makedirs(ssh_dir_name, exist_ok=True)\n",
    "        \n",
    "        private_keypair_file_path = os.path.join(\n",
    "            ssh_dir_name, keypair_name\n",
    "        )\n",
    "        \n",
    "        with open(private_keypair_file_path, \"w\") as f:\n",
    "            f.write(\"%s\" % keypair.private_key)\n",
    "\n",
    "        os.chmod(private_keypair_file_path, 0o400)\n",
    "        print(\"Done.\")\n",
    "    else:\n",
    "        print(f\"The keypair {keypair_name} is already in the system.\")\n",
    "\n",
    "    return keypair\n",
    "\n",
    "\n",
    "keypair = create_keypair(conn, f\"{conn.auth['username']}-tutorial\")\n",
    "print(f\"\\n\\tKey pair: {keypair.name} - {keypair.location.project.name}\\n\")\n"
   ]
  },
  {
   "cell_type": "markdown",
   "metadata": {},
   "source": [
    "You will see the keys created:\n",
    "\n",
    "![keypair](./images/tutorial-openstack-keypair.png)\n",
    "\n",
    "**Note**: If you want to delete an existing keypair and create a new one, remember to delete both the public key in cPouta and the private key in the `.ssh` folder under your home directory. \n",
    "\n",
    "Now we can try to create a virtual machine (sometimes referred to as a server in the following instructions) in cPouta. To do that, we need to define some details such as network, type of instance and image to start from.\n",
    "\n",
    "Let's print the ones that are already available:"
   ]
  },
  {
   "cell_type": "code",
   "execution_count": 7,
   "metadata": {},
   "outputs": [
    {
     "name": "stdout",
     "output_type": "stream",
     "text": [
      "Available standard instances types:\n",
      " - standard.3xlarge\n",
      " - standard.large\n",
      " - standard.medium\n",
      " - standard.small\n",
      " - standard.tiny\n",
      " - standard.xlarge\n",
      " - standard.xxlarge\n",
      "\n",
      "Available networks:\n",
      " - public\n",
      " - project_2008075\n",
      "\n",
      "Available images:\n",
      " - AlmaLinux-9\n",
      " - AlmaLinux-8\n",
      " - CentOS-9-Stream\n",
      " - CentOS-8-Stream\n",
      " - Ubuntu-22.04\n",
      " - Ubuntu-20.04\n",
      " - Ubuntu-18.04\n",
      " - CentOS-7-Cuda\n",
      " - CentOS-7\n",
      " - Testi\n",
      " - cirros\n"
     ]
    }
   ],
   "source": [
    "print(\"Available standard instances types:\")\n",
    "all_flavors = conn.compute.flavors()\n",
    "for flavor in sorted(all_flavors, key=lambda x: x.name):\n",
    "    if flavor.name.startswith(\"standard\"):\n",
    "        print(\" - \" + flavor.name)\n",
    "\n",
    "print(\"\\nAvailable networks:\")\n",
    "all_networks = conn.network.networks()\n",
    "for network in all_networks:\n",
    "    print(\" - \" + network.name)\n",
    "\n",
    "\n",
    "print(\"\\nAvailable images:\")\n",
    "all_images = conn.compute.images()\n",
    "for image in all_images:\n",
    "    print(\" - \" + image.name)\n"
   ]
  },
  {
   "cell_type": "markdown",
   "metadata": {},
   "source": [
    "So now we can pick one of each and define a function to create the server. This step will take a while. "
   ]
  },
  {
   "cell_type": "code",
   "execution_count": 8,
   "metadata": {},
   "outputs": [
    {
     "name": "stdout",
     "output_type": "stream",
     "text": [
      "Creating Server:\n",
      "Server created: luoyumo2-tutorial\n"
     ]
    }
   ],
   "source": [
    "# The openstack object has no return type, so the IDE can't find the right type with intellisense\n",
    "# We import them only for autocomplete in the IDE and for extra detail, but they are not needed\n",
    "from openstack.compute.v2.image import Image\n",
    "from openstack.compute.v2.flavor import Flavor\n",
    "from openstack.network.v2.network import Network\n",
    "from openstack.compute.v2.server import Server\n",
    "\n",
    "\n",
    "def create_server(\n",
    "    conn: Connection,\n",
    "    server_name: str,\n",
    "    image_name: str,\n",
    "    instance_flavor: str,\n",
    "    network_name: str,\n",
    "    keypair: Keypair,\n",
    ") -> Server:\n",
    "    server = conn.compute.find_server(server_name)\n",
    "    if server is None:\n",
    "        print(\"Creating Server:\")\n",
    "        image: Image = conn.image.find_image(image_name)\n",
    "        flavor: Flavor = conn.compute.find_flavor(instance_flavor)\n",
    "        network: Network = conn.network.find_network(network_name)\n",
    "        server: Server = conn.compute.create_server(\n",
    "            name=server_name,\n",
    "            image_id=image.id,\n",
    "            flavor_id=flavor.id,\n",
    "            networks=[{\"uuid\": network.id}],\n",
    "            key_name=keypair.name,\n",
    "        )\n",
    "\n",
    "        server: Server = conn.compute.wait_for_server(server)\n",
    "        print(f\"Server created: {server.name}\")\n",
    "    else:\n",
    "        print(f\"The server {server_name} is already running.\")\n",
    "    return server\n",
    "\n",
    "\n",
    "server_name = f\"{conn.auth['username']}-tutorial\"\n",
    "image_name = \"Ubuntu-22.04\"\n",
    "instance_flavor = \"standard.xlarge\"\n",
    "network_name = \"project_2008075\"\n",
    "\n",
    "server = create_server(\n",
    "    conn,\n",
    "    server_name,\n",
    "    image_name,\n",
    "    instance_flavor,\n",
    "    network_name,\n",
    "    keypair,\n",
    ")\n"
   ]
  },
  {
   "cell_type": "markdown",
   "metadata": {},
   "source": [
    "The server should appear on the dashboard like below:\n",
    "\n",
    "![server](./images/tutorial-openstack-server.png)\n",
    "\n",
    "### Access the server through SSH\n",
    "\n",
    "The IP that you see in the image is a private network IP.\n",
    "\n",
    "Now that we have a server, we can give it a *Floating IP* (i.e. a public IP) so that we can access with SSH to run commands on it.\n",
    "\n",
    "If we give a *Floating IP*, and we add the right security group and port forwarding rules to the server, we can access it from our local machine.\n",
    "\n",
    "Run the following python code to assign a floating IP and the needed security group to your server."
   ]
  },
  {
   "cell_type": "code",
   "execution_count": 9,
   "metadata": {},
   "outputs": [
    {
     "name": "stdout",
     "output_type": "stream",
     "text": [
      "Security group found: ssh\n",
      "Assigned 86.50.168.4 to server luoyumo2-tutorial\n",
      "Added security group ssh to server luoyumo2-tutorial\n",
      "Locked server luoyumo2-tutorial to prevent it from being accidentally deleted\n"
     ]
    }
   ],
   "source": [
    "from openstack.network.v2.security_group import SecurityGroup\n",
    "from typing import Optional\n",
    "\n",
    "server: Server = conn.compute.find_server(server_name, ignore_missing=False)\n",
    "security_group: SecurityGroup = conn.network.find_security_group(\"ssh\")\n",
    "print(f\"Security group found: {security_group.name}\")\n",
    "\n",
    "def get_floating_ip_address_for_server(server: Server) -> Optional[str]:\n",
    "    \"\"\"\n",
    "    Get the floating IP address for a given server. Return None if there is no floating IP assigned to the server\n",
    "    \"\"\"\n",
    "    floating_ip_info = filter(lambda ip_info: ip_info[\"OS-EXT-IPS:type\"]==\"floating\", server.addresses[network_name])\n",
    "    floating_ip_info = list(floating_ip_info)\n",
    "    if len(floating_ip_info) == 0:\n",
    "        return None\n",
    "    return floating_ip_info[0][\"addr\"]\n",
    "\n",
    "def check_sg_for_server(server: Server, sg_name: str) -> bool:\n",
    "    \"\"\"\n",
    "    Check if a security group is added to a given server\n",
    "    \"\"\"\n",
    "    security_groups = server[\"security_groups\"]\n",
    "    return len(list(filter(lambda sg: sg[\"name\"]==sg_name, security_groups))) != 0\n",
    "\n",
    "\n",
    "# Assign a floating IP to the server\n",
    "floating_ip_address = get_floating_ip_address_for_server(server)\n",
    "if floating_ip_address != None:\n",
    "    print(f\"Server {server_name} already has a floating IP {floating_ip_address}\")\n",
    "else:\n",
    "    floating_ip_address = conn.add_auto_ip(server, reuse=True, wait=True)\n",
    "    print(f\"Assigned {floating_ip_address} to server {server_name}\")\n",
    "\n",
    "\n",
    "# Add the ssh security group to the server\n",
    "already_have_sg = check_sg_for_server(server, security_group.name)\n",
    "if already_have_sg:\n",
    "    print(f\"Security group {security_group.name} has already been added to server {server_name}\")\n",
    "else:\n",
    "    conn.compute.add_security_group_to_server(server, security_group)\n",
    "    print(f\"Added security group {security_group.name} to server {server_name}\")\n",
    "\n",
    "conn.compute.lock_server(server)\n",
    "print(f\"Locked server {server_name} to prevent it from being accidentally deleted\")\n"
   ]
  },
  {
   "cell_type": "code",
   "execution_count": 10,
   "metadata": {},
   "outputs": [
    {
     "name": "stdout",
     "output_type": "stream",
     "text": [
      "The server is now accessible with the following command:\n",
      "\n",
      "\tssh -i /home/luoyumo/.ssh/luoyumo2-tutorial ubuntu@86.50.168.4\n"
     ]
    }
   ],
   "source": [
    "# We assume your private key file is in $HOME/.ssh\n",
    "private_key_file_path = os.path.join(os.environ[\"HOME\"], \".ssh\", keypair.name)\n",
    "username = \"ubuntu\" if \"Ubuntu\" in image_name else \"root\"\n",
    "print(\"The server is now accessible with the following command:\")\n",
    "print(f\"\\n\\tssh -i {private_key_file_path} {username}@{floating_ip_address}\")"
   ]
  },
  {
   "cell_type": "markdown",
   "metadata": {},
   "source": [
    "NOTE: if you tried multiple times to run these cells and you already put the floating IP to your `known_hosts` file, you might get the following message when you try to ssh into the instance:\n",
    "\n",
    "```text\n",
    "@@@@@@@@@@@@@@@@@@@@@@@@@@@@@@@@@@@@@@@@@@@@@@@@@@@@@@@@@@@\n",
    "@    WARNING: REMOTE HOST IDENTIFICATION HAS CHANGED!     @\n",
    "@@@@@@@@@@@@@@@@@@@@@@@@@@@@@@@@@@@@@@@@@@@@@@@@@@@@@@@@@@@\n",
    "IT IS POSSIBLE THAT SOMEONE IS DOING SOMETHING NASTY!\n",
    "Someone could be eavesdropping on you right now (man-in-the-middle attack)!\n",
    "It is also possible that a host key has just been changed.\n",
    "The fingerprint for the ED25519 key sent by the remote host is\n",
    "SHA256:XXXXX\n",
    "Please contact your system administrator.\n",
    "Add correct host key in HOME/.ssh/known_hosts to get rid of this message.\n",
    "Offending ECDSA key in HOME/.ssh/known_hosts:7\n",
    "Host key for INSTANCE_IP has changed and you have requested strict checking.\n",
    "Host key verification failed.\n",
    "```\n",
    "\n",
    "To solve this, you can simply get the `floating_ip` from the previous run, and run:\n",
    "\n",
    "```bash\n",
    "ssh-keygen -R <floating-ip>\n",
    "```\n",
    "\n",
    "and then try to ssh again into the instance."
   ]
  },
  {
   "cell_type": "markdown",
   "metadata": {},
   "source": [
    "After creating a VM in cPouta, save the notebook with the outputs (of running the cells) as you will need some of the outputs later. Keep the notebook open and continue with the \"3. Install necessary tools and create a K8s cluster in the cPouta VM\" section in the [main instructions](../../README.md)."
   ]
  }
 ],
 "metadata": {
  "kernelspec": {
   "display_name": "Python 3 (ipykernel)",
   "language": "python",
   "name": "python3"
  },
  "language_info": {
   "codemirror_mode": {
    "name": "ipython",
    "version": 3
   },
   "file_extension": ".py",
   "mimetype": "text/x-python",
   "name": "python",
   "nbconvert_exporter": "python",
   "pygments_lexer": "ipython3",
   "version": "3.11.7"
  },
  "vscode": {
   "interpreter": {
    "hash": "1af830c9235f9ba868d8558096ef7bcb04f6de668e2e56380e2ec08c356779a6"
   }
  }
 },
 "nbformat": 4,
 "nbformat_minor": 2
}
