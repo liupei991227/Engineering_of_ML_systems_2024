{
 "cells": [
  {
   "cell_type": "markdown",
   "metadata": {},
   "source": [
    "# Create a Virtual Machine in CSC cPouta\n",
    "\n",
    "This notebook shows how to create a virtual machine in cPouta.\n",
    "\n",
    "> For your interest, cPouta and ePouta are the IaaS cloud services at CSC, known as Finnish IT center for science. The cPouta cloud is the public cloud which is easily accessible via the internet. The ePouta cloud is a virtual private cloud designed to meet the security requirements of handling sensitive data. Both the cPouta and ePouta clouds run on the OpenStack cloud software. The Pouta cloud services are suitable for most kinds of computational workloads and any other supporting services these workloads might need. More information can be found from [CSC's documentations of the Pouta services](https://docs.csc.fi/cloud/pouta/pouta-what-is/).\n",
    "\n",
    "## First glance at cPouta\n",
    "\n",
    "We will try to create and manage a virtual machine from our local computer using OpenStack CLI. If you are interested, you can start familiarizing with cPouta GUI reading [this guide](https://docs.csc.fi/cloud/pouta/launch-vm-from-web-gui/).\n",
    "\n",
    "## Prerequisites\n",
    "\n",
    "### 0. You should already have a CSC account and can access the CSC project of the course\n",
    "If not, please navigate to the course Moodle page and find the invitation link. Then follow the instructions to create an CSC account and apply for the access to the CSC project of the course. \n",
    "\n",
    "### 1. Configure your terminal environment for OpenStack\n",
    "To be able to connect to the CSC system and cPouta, we need to get some credentials.\n",
    "We can set them using a script provided in the OpenStack web interface.\n",
    "You can download this script at the following URL after logging in. **Remember to switch to project_2008075 if you have multiple CSC projects**:\n",
    "\n",
    "https://pouta.csc.fi/dashboard/project/api_access/\n",
    "\n",
    "To download this in the web interface, navigate to the API Access section, and download both files.\n",
    "\n",
    "![api_access](./images/csc-pouta-openstack-api_access.png)\n",
    "\n",
    "If you already access the cPouta dashboard, these links might work to download the files directly:\n",
    "\n",
    "> https://pouta.csc.fi/dashboard/project/api_access/openrc/\n",
    "> https://pouta.csc.fi/dashboard/project/api_access/clouds.yaml/\n",
    "\n",
    "Put the files in the current directory (setup/1_create_vm). \n",
    "> If you are using Firefox pre-installed in the Ubuntu VM, the browser should ask you where to put the downloaded files. If this is not the case, this option can be enabled with the following steps:\n",
    "> 1. Open the setting menu by clicking on the three horizontal lines (hamburger icon) in the top-right corner of the Firefox window.\n",
    "> 2. Click on \"Settings\" and then \"General\".\n",
    "> 3. Navigate to the \"Files and Applications\" section and check the \"Always ask you where to save files\" checkbox. Now you can download the files again. \n",
    "\n",
    "For simplicity, rename the `project_2008075-openrc.sh` file as `openrc` (remove the \".sh\" suffix).\n",
    "\n",
    "The openrc file will be necessary to use the OpenStack CLI (command line interface). While the cloud.yaml file is necessary to use OpenStack with the Python API.\n"
   ]
  },
  {
   "cell_type": "markdown",
   "metadata": {},
   "source": [
    "### 2. Install OpenStack CLI (command line interface)\n",
    "\n",
    "There is a quite complete guide to install the CLI [here](https://docs.csc.fi/cloud/pouta/install-client/), so if you need extra help you can use that one.\n",
    "The following is a faster step-by-step guide. \n",
    "\n",
    "**NOTE**: Unfortunately we can't run the OpenStack CLI in the python notebook because we will need the credentials from the openrc file, so you will need to open a terminal and follow along with the terminal on the side. This will be easy if you use VSCode. \n",
    "\n",
    "Once you have the openrc script from the web UI, open a terminal and ensure you are under the `setup/1_create_vm` directory and add the environment variables in the terminal using the following commands:\n",
    "\n",
    "```bash\n",
    "# suppose you're now under pre_materials directory, you can enter the 1_create_vm directory by \n",
    "cd setup/1_create_vm\n",
    "\n",
    "# then add environment variables\n",
    "source openrc\n",
    "```\n",
    "\n",
    "You will be asked to enter a password. **Please use the password of your CSC account (not your university account)**. After doing this, the current terminal session will have the proper environment variables for using the command line tools. Unfortunately, you will not get any error even if you enter a wrong password, but a wrong password will cause errors in later procedures. To avoid this, you can print the password you just entered by running the following command in the same terminal and check if the printed password is correct:\n",
    "```bash\n",
    "echo $OS_PASSWORD\n",
    "``` \n",
    "**⚠️ NOTE:** You need to do this again if you open a new terminal during setting up a VM in cPouta.\n"
   ]
  },
  {
   "cell_type": "markdown",
   "metadata": {},
   "source": [
    "Before running the code in the cells below, make sure you are using \"mlops_eng\" as the Jupyter notebook kernel. You can configure the kernel by clicking the \"Select Kernel\" option at the top right of the notebook:\n",
    "\n",
    "<img src=\"./images/select-kernel.png\" width=800>"
   ]
  },
  {
   "cell_type": "markdown",
   "metadata": {},
   "source": [
    "Install the openstack CLI:"
   ]
  },
  {
   "cell_type": "code",
   "execution_count": 5,
   "metadata": {},
   "outputs": [
    {
     "name": "stdout",
     "output_type": "stream",
     "text": [
      "Channels:\n",
      " - conda-forge\n",
      " - defaults\n",
      "Platform: linux-64\n",
      "Collecting package metadata (repodata.json): done\n",
      "Solving environment: done\n",
      "\n",
      "## Package Plan ##\n",
      "\n",
      "  environment location: /home/luoyumo/.conda/envs/mlops_eng\n",
      "\n",
      "  added / updated specs:\n",
      "    - python-openstackclient=6.2\n",
      "\n",
      "\n",
      "The following packages will be downloaded:\n",
      "\n",
      "    package                    |            build\n",
      "    ---------------------------|-----------------\n",
      "    _libgcc_mutex-0.1          |      conda_forge           3 KB  conda-forge\n",
      "    _openmp_mutex-4.5          |            2_gnu          23 KB  conda-forge\n",
      "    certifi-2023.11.17         |     pyhd8ed1ab_0         155 KB  conda-forge\n",
      "    libgcc-ng-13.2.0           |       h807b86a_3         755 KB  conda-forge\n",
      "    libgomp-13.2.0             |       h807b86a_3         412 KB  conda-forge\n",
      "    openssl-3.2.0              |       hd590300_1         2.7 MB  conda-forge\n",
      "    ------------------------------------------------------------\n",
      "                                           Total:         4.0 MB\n",
      "\n",
      "The following packages will be UPDATED:\n",
      "\n",
      "  libgcc-ng          pkgs/main::libgcc-ng-11.2.0-h1234567_1 --> conda-forge::libgcc-ng-13.2.0-h807b86a_3 \n",
      "  libgomp              pkgs/main::libgomp-11.2.0-h1234567_1 --> conda-forge::libgomp-13.2.0-h807b86a_3 \n",
      "  openssl              pkgs/main::openssl-3.0.12-h7f8727e_0 --> conda-forge::openssl-3.2.0-hd590300_1 \n",
      "\n",
      "The following packages will be SUPERSEDED by a higher-priority channel:\n",
      "\n",
      "  _libgcc_mutex           pkgs/main::_libgcc_mutex-0.1-main --> conda-forge::_libgcc_mutex-0.1-conda_forge \n",
      "  _openmp_mutex          pkgs/main::_openmp_mutex-5.1-1_gnu --> conda-forge::_openmp_mutex-4.5-2_gnu \n",
      "  certifi            pkgs/main/linux-64::certifi-2023.11.1~ --> conda-forge/noarch::certifi-2023.11.17-pyhd8ed1ab_0 \n",
      "\n",
      "\n",
      "\n",
      "Downloading and Extracting Packages:\n",
      "openssl-3.2.0        | 2.7 MB    |                                       |   0% \n",
      "libgcc-ng-13.2.0     | 755 KB    |                                       |   0% \u001b[A\n",
      "\n",
      "libgomp-13.2.0       | 412 KB    |                                       |   0% \u001b[A\u001b[A\n",
      "\n",
      "\n",
      "certifi-2023.11.17   | 155 KB    |                                       |   0% \u001b[A\u001b[A\u001b[A\n",
      "\n",
      "\n",
      "\n",
      "_openmp_mutex-4.5    | 23 KB     |                                       |   0% \u001b[A\u001b[A\u001b[A\u001b[A\n",
      "\n",
      "\n",
      "\n",
      "\n",
      "_libgcc_mutex-0.1    | 3 KB      |                                       |   0% \u001b[A\u001b[A\u001b[A\u001b[A\u001b[A\n",
      "\n",
      "\n",
      "\n",
      "_openmp_mutex-4.5    | 23 KB     | #########################6            |  69% \u001b[A\u001b[A\u001b[A\u001b[A\n",
      "\n",
      "\n",
      "openssl-3.2.0        | 2.7 MB    | 2                                     |   1% \u001b[A\u001b[A\u001b[A\n",
      "\n",
      "\n",
      "\n",
      "_openmp_mutex-4.5    | 23 KB     | ##################################### | 100% \u001b[A\u001b[A\u001b[A\u001b[A\n",
      "libgcc-ng-13.2.0     | 755 KB    | 7                                     |   2% \u001b[A\n",
      "\n",
      "libgomp-13.2.0       | 412 KB    | #4                                    |   4% \u001b[A\u001b[A\n",
      "\n",
      "\n",
      "\n",
      "\n",
      "_libgcc_mutex-0.1    | 3 KB      | ##################################### | 100% \u001b[A\u001b[A\u001b[A\u001b[A\u001b[A\n",
      "\n",
      "\n",
      "\n",
      "\n",
      "_libgcc_mutex-0.1    | 3 KB      | ##################################### | 100% \u001b[A\u001b[A\u001b[A\u001b[A\u001b[A\n",
      "\n",
      "\n",
      "certifi-2023.11.17   | 155 KB    | ##################################### | 100% \u001b[A\u001b[A\u001b[A\n",
      "\n",
      "\n",
      "certifi-2023.11.17   | 155 KB    | ##################################### | 100% \u001b[A\u001b[A\u001b[A\n",
      "\n",
      "openssl-3.2.0        | 2.7 MB    | ###6                                  |  10% \u001b[A\u001b[A\n",
      "openssl-3.2.0        | 2.7 MB    | #######8                              |  21% \u001b[A\n",
      "libgcc-ng-13.2.0     | 755 KB    | ############################2         |  76% \u001b[A\n",
      "\n",
      "openssl-3.2.0        | 2.7 MB    | ##########6                           |  29% \u001b[A\u001b[A\n",
      "\n",
      "libgomp-13.2.0       | 412 KB    | ##################################### | 100% \u001b[A\u001b[A\n",
      "                                                                                \u001b[A\n",
      "                                                                                \u001b[A\n",
      "\n",
      "                                                                                \u001b[A\u001b[A\n",
      "\n",
      "\n",
      "                                                                                \u001b[A\u001b[A\u001b[A\n",
      "\n",
      "\n",
      "\n",
      "                                                                                \u001b[A\u001b[A\u001b[A\u001b[A\n",
      "\n",
      "\n",
      "\n",
      "\n",
      "                                                                                \u001b[A\u001b[A\u001b[A\u001b[A\u001b[A\n",
      "Preparing transaction: done\n",
      "Verifying transaction: done\n",
      "Executing transaction: done\n",
      "\n",
      "Note: you may need to restart the kernel to use updated packages.\n"
     ]
    }
   ],
   "source": [
    "%conda install -c conda-forge python-openstackclient=6.2"
   ]
  },
  {
   "cell_type": "markdown",
   "metadata": {},
   "source": [
    "### 3. Install OpenStack's Python client SDK"
   ]
  },
  {
   "cell_type": "code",
   "execution_count": 6,
   "metadata": {},
   "outputs": [
    {
     "name": "stdout",
     "output_type": "stream",
     "text": [
      "Channels:\n",
      " - conda-forge\n",
      " - defaults\n",
      "Platform: linux-64\n",
      "Collecting package metadata (repodata.json): done\n",
      "Solving environment: done\n",
      "\n",
      "## Package Plan ##\n",
      "\n",
      "  environment location: /home/luoyumo/.conda/envs/mlops_eng\n",
      "\n",
      "  added / updated specs:\n",
      "    - openstacksdk=1.2\n",
      "\n",
      "\n",
      "The following packages will be downloaded:\n",
      "\n",
      "    package                    |            build\n",
      "    ---------------------------|-----------------\n",
      "    openstacksdk-1.2.0         |  py310hff52083_0         1.6 MB  conda-forge\n",
      "    ------------------------------------------------------------\n",
      "                                           Total:         1.6 MB\n",
      "\n",
      "The following packages will be SUPERSEDED by a higher-priority channel:\n",
      "\n",
      "  openstacksdk       conda-forge/noarch::openstacksdk-2.0.~ --> conda-forge/linux-64::openstacksdk-1.2.0-py310hff52083_0 \n",
      "\n",
      "\n",
      "\n",
      "Downloading and Extracting Packages:\n",
      "                                                                                \n",
      "Preparing transaction: done\n",
      "Verifying transaction: done\n",
      "Executing transaction: done\n",
      "\n",
      "Note: you may need to restart the kernel to use updated packages.\n"
     ]
    }
   ],
   "source": [
    "%conda install -c conda-forge openstacksdk=1.2"
   ]
  },
  {
   "cell_type": "markdown",
   "metadata": {},
   "source": [
    "### 4. Configure the credentials that OpenStack's Python client needs for connecting to cPouta"
   ]
  },
  {
   "cell_type": "markdown",
   "metadata": {},
   "source": [
    "Be sure to have downloaded the `clouds.yaml` file from the \"prerequisites\" chapter.\n",
    "\n",
    "After that, you need to create a `secure.yaml` file in the current directory with your password in it.\n",
    "\n",
    "**Disclaimer**: this solution is not secure, but OpenStack doesn't give other safer options. Be sure to delete this file after you are done and most importantly **NEVER COMMIT** the `secure.yaml`.\n",
    "\n",
    "Below there is a script to create the file automatically. Run it and update the password with your CSC password in the `secure.yaml` file. The file is under the same directory as this notebook (i.e., setup/1_create_vm).\n",
    "\n",
    "**Note**: Your CSC password is not the password of your university credentials, it's the one you created when you signed up to CSC after you had logged in using your university credentials for the first time. "
   ]
  },
  {
   "cell_type": "code",
   "execution_count": 7,
   "metadata": {},
   "outputs": [],
   "source": [
    "!echo -e \"clouds:\\n  openstack:\\n    auth:\\n      password: ******\" > secure.yaml"
   ]
  },
  {
   "cell_type": "markdown",
   "metadata": {},
   "source": [
    "Now update the password in [secure.yaml](./secure.yaml).\n",
    "\n",
    "As long as the configuration files (clouds.yaml and secure.yaml) are in one of the following paths, the connection should work automatically:\n",
    "\n",
    "- Current Directory\n",
    "- ~/.config/openstack\n",
    "- /etc/openstack\n",
    "\n",
    "So we can start a connection to cPouta and create a virtual machine there."
   ]
  },
  {
   "cell_type": "markdown",
   "metadata": {},
   "source": [
    "## Create a virtual machine\n",
    "\n",
    "We will mainly use the Python client in this notebook. \n",
    "\n",
    "For your interest, the complete guide on how to work with the CLI is [here](https://docs.csc.fi/cloud/pouta/command-line-tools/)."
   ]
  },
  {
   "cell_type": "code",
   "execution_count": 8,
   "metadata": {},
   "outputs": [],
   "source": [
    "import openstack\n",
    "from openstack.connection import Connection\n",
    "\n",
    "# Initialize and turn off debug logging\n",
    "openstack.enable_logging(debug=False)\n",
    "\n",
    "# Initialize the connection to the cloud\n",
    "conn: Connection = openstack.connect(cloud=\"openstack\")\n"
   ]
  },
  {
   "cell_type": "markdown",
   "metadata": {},
   "source": [
    "First of all, we need to create a key pair:"
   ]
  },
  {
   "cell_type": "code",
   "execution_count": 9,
   "metadata": {},
   "outputs": [
    {
     "name": "stdout",
     "output_type": "stream",
     "text": [
      "Creating Key Pair...\n",
      "Done.\n",
      "\n",
      "\tKey pair: luoyumo2-tutorial - project_2008075\n",
      "\n"
     ]
    }
   ],
   "source": [
    "import os\n",
    "from openstack.compute.v2.keypair import Keypair\n",
    "\n",
    "\n",
    "def create_keypair(conn: Connection, keypair_name: str) -> Keypair:\n",
    "    keypair = conn.compute.find_keypair(keypair_name)\n",
    "\n",
    "    if not keypair:\n",
    "        print(\"Creating Key Pair...\")\n",
    "        keypair = conn.compute.create_keypair(name=keypair_name)\n",
    "        ssh_dir_name = os.path.join(os.environ[\"HOME\"], \".ssh\")\n",
    "        \n",
    "        # create .ssh folder under your home directory if not existing\n",
    "        os.makedirs(ssh_dir_name, exist_ok=True)\n",
    "        \n",
    "        private_keypair_file_path = os.path.join(\n",
    "            ssh_dir_name, keypair_name\n",
    "        )\n",
    "        \n",
    "        with open(private_keypair_file_path, \"w\") as f:\n",
    "            f.write(\"%s\" % keypair.private_key)\n",
    "\n",
    "        os.chmod(private_keypair_file_path, 0o400)\n",
    "        print(\"Done.\")\n",
    "    else:\n",
    "        print(f\"The keypair {keypair_name} is already in the system.\")\n",
    "\n",
    "    return keypair\n",
    "\n",
    "\n",
    "keypair = create_keypair(conn, f\"{conn.auth['username']}-tutorial\")\n",
    "print(f\"\\n\\tKey pair: {keypair.name} - {keypair.location.project.name}\\n\")\n"
   ]
  },
  {
   "cell_type": "markdown",
   "metadata": {},
   "source": [
    "You will see the keys created:\n",
    "\n",
    "![keypair](./images/tutorial-openstack-keypair.png)\n",
    "\n",
    "**Note**: If you want to delete an existing keypair and create a new one, remember to delete both the public key in cPouta and the private key in the `.ssh` folder under your home directory. \n",
    "\n",
    "Now we can try to create a virtual machine (sometimes referred to as a server in the following instructions) in cPouta. To do that, we need to define some details such as network, type of instance and image to start from.\n",
    "\n",
    "Let's print the ones that are already available:"
   ]
  },
  {
   "cell_type": "code",
   "execution_count": 10,
   "metadata": {},
   "outputs": [
    {
     "name": "stdout",
     "output_type": "stream",
     "text": [
      "Available standard instances types:\n",
      " - standard.3xlarge\n",
      " - standard.large\n",
      " - standard.medium\n",
      " - standard.small\n",
      " - standard.tiny\n",
      " - standard.xlarge\n",
      " - standard.xxlarge\n",
      "\n",
      "Available networks:\n",
      " - public\n",
      " - project_2008075\n",
      "\n",
      "Available images:\n",
      " - AlmaLinux-9\n",
      " - AlmaLinux-8\n",
      " - CentOS-9-Stream\n",
      " - CentOS-8-Stream\n",
      " - Ubuntu-22.04\n",
      " - Ubuntu-20.04\n",
      " - Ubuntu-18.04\n",
      " - CentOS-7-Cuda\n",
      " - CentOS-7\n",
      " - cirros\n"
     ]
    }
   ],
   "source": [
    "print(\"Available standard instances types:\")\n",
    "all_flavors = conn.compute.flavors()\n",
    "for flavor in sorted(all_flavors, key=lambda x: x.name):\n",
    "    if flavor.name.startswith(\"standard\"):\n",
    "        print(\" - \" + flavor.name)\n",
    "\n",
    "print(\"\\nAvailable networks:\")\n",
    "all_networks = conn.network.networks()\n",
    "for network in all_networks:\n",
    "    print(\" - \" + network.name)\n",
    "\n",
    "\n",
    "print(\"\\nAvailable images:\")\n",
    "all_images = conn.compute.images()\n",
    "for image in all_images:\n",
    "    print(\" - \" + image.name)\n"
   ]
  },
  {
   "cell_type": "markdown",
   "metadata": {},
   "source": [
    "So now we can pick one of each and define a function to create the server. This step will take a while. "
   ]
  },
  {
   "cell_type": "code",
   "execution_count": 11,
   "metadata": {},
   "outputs": [
    {
     "name": "stdout",
     "output_type": "stream",
     "text": [
      "Creating Server:\n",
      "Server created: luoyumo2-tutorial\n"
     ]
    }
   ],
   "source": [
    "# The openstack object has no return type, so the IDE can't find the right type with intellisense\n",
    "# We import them only for autocomplete in the IDE and for extra detail, but they are not needed\n",
    "from openstack.compute.v2.image import Image\n",
    "from openstack.compute.v2.flavor import Flavor\n",
    "from openstack.network.v2.network import Network\n",
    "from openstack.compute.v2.server import Server\n",
    "\n",
    "\n",
    "def create_server(\n",
    "    conn: Connection,\n",
    "    server_name: str,\n",
    "    image_name: str,\n",
    "    instance_flavor: str,\n",
    "    network_name: str,\n",
    "    keypair: Keypair,\n",
    ") -> Server:\n",
    "    server = conn.compute.find_server(server_name)\n",
    "    if server is None:\n",
    "        print(\"Creating Server:\")\n",
    "        image: Image = conn.image.find_image(image_name)\n",
    "        flavor: Flavor = conn.compute.find_flavor(instance_flavor)\n",
    "        network: Network = conn.network.find_network(network_name)\n",
    "        server: Server = conn.compute.create_server(\n",
    "            name=server_name,\n",
    "            image_id=image.id,\n",
    "            flavor_id=flavor.id,\n",
    "            networks=[{\"uuid\": network.id}],\n",
    "            key_name=keypair.name,\n",
    "        )\n",
    "\n",
    "        server: Server = conn.compute.wait_for_server(server)\n",
    "        print(f\"Server created: {server.name}\")\n",
    "    else:\n",
    "        print(f\"The server {server_name} is already running.\")\n",
    "    return server\n",
    "\n",
    "\n",
    "server_name = f\"{conn.auth['username']}-tutorial\"\n",
    "image_name = \"Ubuntu-22.04\"\n",
    "instance_flavor = \"standard.xlarge\"\n",
    "network_name = \"project_2008075\"\n",
    "\n",
    "server = create_server(\n",
    "    conn,\n",
    "    server_name,\n",
    "    image_name,\n",
    "    instance_flavor,\n",
    "    network_name,\n",
    "    keypair,\n",
    ")\n"
   ]
  },
  {
   "cell_type": "markdown",
   "metadata": {},
   "source": [
    "The server should appear on the dashboard like below:\n",
    "\n",
    "![server](./images/tutorial-openstack-server.png)\n",
    "\n",
    "### Access the server through SSH\n",
    "\n",
    "The IP that you see in the image is a private network IP.\n",
    "\n",
    "Now that we have a server, we can give it a *Floating IP* (i.e. a public IP) so that we can access with SSH to run commands on it.\n",
    "\n",
    "If we give a *Floating IP*, and we add the right security group and port forwarding rules to the server, we can access it from our local machine.\n",
    "\n",
    "⚠️ **NOTE** ⚠️: the Python APIs are broken for this passage, so for now we need to run the commands on a terminal that has the right credentials.\n",
    "\n",
    "Run the following python code and follow the instructions:"
   ]
  },
  {
   "cell_type": "code",
   "execution_count": 12,
   "metadata": {},
   "outputs": [
    {
     "name": "stdout",
     "output_type": "stream",
     "text": [
      "Available floating IP: 86.50.168.4\n",
      "Security group found: ssh\n",
      "Run on your terminal these commands one at a time:\n",
      "\tSuppose you're in setup/1_create_vm\n",
      "\tsource openrc\n",
      "\topenstack server add floating ip luoyumo2-tutorial 86.50.168.4\n",
      "\topenstack server add security group luoyumo2-tutorial ssh\n",
      "\topenstack server lock luoyumo2-tutorial\n"
     ]
    }
   ],
   "source": [
    "from openstack.network.v2.security_group import SecurityGroup\n",
    "from openstack.network.v2.floating_ip import FloatingIP\n",
    "\n",
    "server: Server = conn.compute.find_server(server_name, ignore_missing=False)\n",
    "floating_ip: FloatingIP = conn.network.find_available_ip()\n",
    "print(f\"Available floating IP: {floating_ip.floating_ip_address}\")\n",
    "security_group: SecurityGroup = conn.network.find_security_group(\"ssh\")\n",
    "print(f\"Security group found: {security_group.name}\")\n",
    "\n",
    "# NOTE: The APIs are broken, but it would be:\n",
    "# conn.compute.add_floating_ip_to_server(server, floating_ip.floating_ip_address, floating_ip.fixed_ip_address)\n",
    "# conn.compute.add_security_group_to_server(conn, security_group)\n",
    "print(\"Run on your terminal these commands one at a time:\")\n",
    "print(f\"\\tSuppose you're in setup/1_create_vm\")\n",
    "print(f\"\\tsource openrc\")\n",
    "print(f\"\\topenstack server add floating ip {server.name} {floating_ip.floating_ip_address}\")\n",
    "print(f\"\\topenstack server add security group {server.name} {security_group.name}\")\n",
    "print(f\"\\topenstack server lock {server.name}\") # prevent your VM from accidental deletion"
   ]
  },
  {
   "cell_type": "code",
   "execution_count": 13,
   "metadata": {},
   "outputs": [
    {
     "name": "stdout",
     "output_type": "stream",
     "text": [
      "The server is now accessible with the following command:\n",
      "\n",
      "\tssh -i /home/luoyumo/.ssh/luoyumo2-tutorial ubuntu@86.50.168.4\n"
     ]
    }
   ],
   "source": [
    "# We assume your private key file is in $HOME/.ssh\n",
    "private_key_file_path = os.path.join(os.environ[\"HOME\"], \".ssh\", keypair.name)\n",
    "username = \"ubuntu\" if \"Ubuntu\" in image_name else \"root\"\n",
    "print(\"The server is now accessible with the following command:\")\n",
    "print(f\"\\n\\tssh -i {private_key_file_path} {username}@{floating_ip.floating_ip_address}\")"
   ]
  },
  {
   "cell_type": "markdown",
   "metadata": {},
   "source": [
    "NOTE: if you tried multiple times to run these cells and you already put the floating IP to your `known_hosts` file, you might get the following message when you try to ssh into the instance:\n",
    "\n",
    "```text\n",
    "@@@@@@@@@@@@@@@@@@@@@@@@@@@@@@@@@@@@@@@@@@@@@@@@@@@@@@@@@@@\n",
    "@    WARNING: REMOTE HOST IDENTIFICATION HAS CHANGED!     @\n",
    "@@@@@@@@@@@@@@@@@@@@@@@@@@@@@@@@@@@@@@@@@@@@@@@@@@@@@@@@@@@\n",
    "IT IS POSSIBLE THAT SOMEONE IS DOING SOMETHING NASTY!\n",
    "Someone could be eavesdropping on you right now (man-in-the-middle attack)!\n",
    "It is also possible that a host key has just been changed.\n",
    "The fingerprint for the ED25519 key sent by the remote host is\n",
    "SHA256:XXXXX\n",
    "Please contact your system administrator.\n",
    "Add correct host key in HOME/.ssh/known_hosts to get rid of this message.\n",
    "Offending ECDSA key in HOME/.ssh/known_hosts:7\n",
    "Host key for INSTANCE_IP has changed and you have requested strict checking.\n",
    "Host key verification failed.\n",
    "```\n",
    "\n",
    "To solve this, you can simply get the `floating_ip` from the previous run, and run:\n",
    "\n",
    "```bash\n",
    "ssh-keygen -R <floating-ip>\n",
    "```\n",
    "\n",
    "and then try to ssh again into the instance."
   ]
  },
  {
   "cell_type": "markdown",
   "metadata": {},
   "source": [
    "After creating a VM in cPouta, save the notebook with the outputs (of running the cells) as you will need some of the outputs later. Keep the notebook open and continue with the \"3. Install necessary tools and create a K8s cluster in the cPouta VM\" section in the [main instructions](../../README.md)."
   ]
  }
 ],
 "metadata": {
  "kernelspec": {
   "display_name": "Python 3 (ipykernel)",
   "language": "python",
   "name": "python3"
  },
  "language_info": {
   "codemirror_mode": {
    "name": "ipython",
    "version": 3
   },
   "file_extension": ".py",
   "mimetype": "text/x-python",
   "name": "python",
   "nbconvert_exporter": "python",
   "pygments_lexer": "ipython3",
   "version": "3.10.0"
  },
  "vscode": {
   "interpreter": {
    "hash": "1af830c9235f9ba868d8558096ef7bcb04f6de668e2e56380e2ec08c356779a6"
   }
  }
 },
 "nbformat": 4,
 "nbformat_minor": 2
}
