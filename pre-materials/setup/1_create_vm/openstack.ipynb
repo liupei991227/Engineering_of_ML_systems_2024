{
 "cells": [
  {
   "cell_type": "markdown",
   "metadata": {},
   "source": [
    "# Create a Virtual Machine in CSC cPouta\n",
    "\n",
    "This notebook shows how to create a virtual machine in cPouta.\n",
    "\n",
    "> For your interest, cPouta and ePouta are the IaaS cloud services at CSC, known as Finnish IT center for science. The cPouta cloud is the public cloud which is easily accessible via the internet. The ePouta cloud is a virtual private cloud designed to meet the security requirements of handling sensitive data. Both the cPouta and ePouta clouds run on the OpenStack cloud software. The Pouta cloud services are suitable for most kinds of computational workloads and any other supporting services these workloads might need. More information can be found from [CSC's documentations of the Pouta services](https://docs.csc.fi/cloud/pouta/pouta-what-is/).\n",
    "\n",
    "## First glance at cPouta\n",
    "\n",
    "We will try to create and manage a virtual machine from our local computer using OpenStack CLI. If you are interested, you can start familiarizing with cPouta GUI reading [this guide](https://docs.csc.fi/cloud/pouta/launch-vm-from-web-gui/).\n",
    "\n",
    "## Prerequisites\n",
    "\n",
    "### 0. You should already have a CSC account and can access the CSC project of the course\n",
    "If not, please navigate to the course Moodle page and find the invitation link. Then follow the instructions to create an CSC account and apply for the access to the CSC project of the course. \n",
    "\n",
    "### 1. Configure your terminal environment for OpenStack\n",
    "To be able to connect to the CSC system and cPouta, we need to get some credentials.\n",
    "We can set them using a script provided in the OpenStack web interface.\n",
    "You can download this script at the following URL after logging in. **Remember to switch to project_2008075 if you have multiple CSC projects**:\n",
    "\n",
    "https://pouta.csc.fi/dashboard/project/api_access/\n",
    "\n",
    "To download this in the web interface, navigate to the API Access section, and download both files.\n",
    "\n",
    "![api_access](./images/csc-pouta-openstack-api_access.png)\n",
    "\n",
    "If you already access the cPouta dashboard, these links might work to download the files directly:\n",
    "\n",
    "> https://pouta.csc.fi/dashboard/project/api_access/openrc/\n",
    "> https://pouta.csc.fi/dashboard/project/api_access/clouds.yaml/\n",
    "\n",
    "Put the files in the current directory (setup/1_create_vm). \n",
    "> If you are using Firefox pre-installed in the Ubuntu VM, the browser should ask you where to put the downloaded files. If this is not the case, this option can be enabled with the following steps:\n",
    "> 1. Open the setting menu by clicking on the three horizontal lines (hamburger icon) in the top-right corner of the Firefox window.\n",
    "> 2. Click on \"Settings\" and then \"General\".\n",
    "> 3. Navigate to the \"Files and Applications\" section and check the \"Always ask you where to save files\" checkbox. Now you can download the files again. \n",
    "\n",
    "For simplicity, rename the `project_2008075-openrc.sh` file as `openrc`.\n",
    "\n",
    "The openrc file will be necessary to use the OpenStack CLI (command line interface). While the cloud.yaml file is necessary to use OpenStack with the Python API.\n"
   ]
  },
  {
   "cell_type": "markdown",
   "metadata": {},
   "source": [
    "### 2. Install OpenStack CLI (command line interface)\n",
    "\n",
    "There is a quite complete guide to install the CLI [here](https://docs.csc.fi/cloud/pouta/install-client/), so if you need extra help you can use that one.\n",
    "The following is a faster step-by-step guide. \n",
    "\n",
    "**NOTE**: Unfortunately we can't run the OpenStack CLI in the python notebook because we will need the credentials from the openrc file, so you will need to open a terminal and follow along with the terminal on the side. This will be easy if you use VSCode. \n",
    "\n",
    "Once you have the openrc script from the web UI, open a terminal and ensure you are under the `setup/1_create_vm` directory and add the environment variables in the terminal using the following commands:\n",
    "\n",
    "```bash\n",
    "# suppose you're now under engineering_of_ml_systems, you can enter the 1_create_vm directory by \n",
    "cd pre_materials/setup/1_create_vm\n",
    "\n",
    "# then add environment variables\n",
    "source openrc\n",
    "```\n",
    "\n",
    "You will be asked to enter a password. **Please use the password of your CSC account (not your university account)**. After doing this, the current terminal session will have the proper environment variables for using the command line tools. Unfortunately, you will not get any error even if you enter a wrong password, but a wrong password will cause errors in later procedures. To avoid this, you can print the password you just entered by running the following command in the same terminal and check if the printed password is correct:\n",
    "```bash\n",
    "echo $OS_PASSWORD\n",
    "``` \n",
    "**⚠️ NOTE:** You need to do this again if you open a new terminal during setting up a VM in cPouta.\n"
   ]
  },
  {
   "cell_type": "markdown",
   "metadata": {},
   "source": [
    "Before running the code in the cells below, make sure you are using \"mlops_eng\" as the Jupyter notebook kernel. You can configure the kernel by clicking the \"Select Kernel\" option at the top right of the notebook:\n",
    "\n",
    "<img src=\"./images/select-kernel.png\" width=800>"
   ]
  },
  {
   "cell_type": "markdown",
   "metadata": {},
   "source": [
    "Install the openstack CLI:"
   ]
  },
  {
   "cell_type": "code",
   "execution_count": 1,
   "metadata": {},
   "outputs": [
    {
     "name": "stdout",
     "output_type": "stream",
     "text": [
      "Collecting python-openstackclient~=6.2.0\n",
      "  Downloading python_openstackclient-6.2.0-py3-none-any.whl (1.1 MB)\n",
      "\u001b[2K     \u001b[38;2;114;156;31m━━━━━━━━━━━━━━━━━━━━━━━━━━━━━━━━━━━━━━━━\u001b[0m \u001b[32m1.1/1.1 MB\u001b[0m \u001b[31m7.8 MB/s\u001b[0m eta \u001b[36m0:00:00\u001b[0m[31m9.5 MB/s\u001b[0m eta \u001b[36m0:00:01\u001b[0m\n",
      "\u001b[?25hCollecting cliff>=3.5.0 (from python-openstackclient~=6.2.0)\n",
      "  Downloading cliff-4.3.0-py3-none-any.whl (80 kB)\n",
      "\u001b[2K     \u001b[38;2;114;156;31m━━━━━━━━━━━━━━━━━━━━━━━━━━━━━━━━━━━━━━━━\u001b[0m \u001b[32m80.6/80.6 kB\u001b[0m \u001b[31m5.8 MB/s\u001b[0m eta \u001b[36m0:00:00\u001b[0m\n",
      "\u001b[?25hCollecting iso8601>=0.1.11 (from python-openstackclient~=6.2.0)\n",
      "  Downloading iso8601-2.1.0-py3-none-any.whl (7.5 kB)\n",
      "Collecting openstacksdk>=0.103.0 (from python-openstackclient~=6.2.0)\n",
      "  Downloading openstacksdk-1.5.0-py3-none-any.whl (1.7 MB)\n",
      "\u001b[2K     \u001b[38;2;114;156;31m━━━━━━━━━━━━━━━━━━━━━━━━━━━━━━━━━━━━━━━━\u001b[0m \u001b[32m1.7/1.7 MB\u001b[0m \u001b[31m10.4 MB/s\u001b[0m eta \u001b[36m0:00:00\u001b[0mm eta \u001b[36m0:00:01\u001b[0m[36m0:00:01\u001b[0m\n",
      "\u001b[?25hCollecting osc-lib>=2.3.0 (from python-openstackclient~=6.2.0)\n",
      "  Downloading osc_lib-2.8.1-py3-none-any.whl (89 kB)\n",
      "\u001b[2K     \u001b[38;2;114;156;31m━━━━━━━━━━━━━━━━━━━━━━━━━━━━━━━━━━━━━━━━\u001b[0m \u001b[32m89.2/89.2 kB\u001b[0m \u001b[31m5.3 MB/s\u001b[0m eta \u001b[36m0:00:00\u001b[0m\n",
      "\u001b[?25hCollecting oslo.i18n>=3.15.3 (from python-openstackclient~=6.2.0)\n",
      "  Downloading oslo.i18n-6.1.0-py3-none-any.whl (46 kB)\n",
      "\u001b[2K     \u001b[38;2;114;156;31m━━━━━━━━━━━━━━━━━━━━━━━━━━━━━━━━━━━━━━━━\u001b[0m \u001b[32m46.8/46.8 kB\u001b[0m \u001b[31m5.6 MB/s\u001b[0m eta \u001b[36m0:00:00\u001b[0m\n",
      "\u001b[?25hCollecting oslo.utils>=3.33.0 (from python-openstackclient~=6.2.0)\n",
      "  Downloading oslo.utils-6.2.1-py3-none-any.whl (101 kB)\n",
      "\u001b[2K     \u001b[38;2;114;156;31m━━━━━━━━━━━━━━━━━━━━━━━━━━━━━━━━━━━━━━\u001b[0m \u001b[32m101.1/101.1 kB\u001b[0m \u001b[31m10.2 MB/s\u001b[0m eta \u001b[36m0:00:00\u001b[0m\n",
      "\u001b[?25hCollecting pbr!=2.1.0,>=2.0.0 (from python-openstackclient~=6.2.0)\n",
      "  Downloading pbr-5.11.1-py2.py3-none-any.whl (112 kB)\n",
      "\u001b[2K     \u001b[38;2;114;156;31m━━━━━━━━━━━━━━━━━━━━━━━━━━━━━━━━━━━━━━\u001b[0m \u001b[32m112.7/112.7 kB\u001b[0m \u001b[31m10.2 MB/s\u001b[0m eta \u001b[36m0:00:00\u001b[0m\n",
      "\u001b[?25hCollecting python-cinderclient>=3.3.0 (from python-openstackclient~=6.2.0)\n",
      "  Downloading python_cinderclient-9.4.0-py3-none-any.whl (255 kB)\n",
      "\u001b[2K     \u001b[38;2;114;156;31m━━━━━━━━━━━━━━━━━━━━━━━━━━━━━━━━━━━━━━━\u001b[0m \u001b[32m255.9/255.9 kB\u001b[0m \u001b[31m5.1 MB/s\u001b[0m eta \u001b[36m0:00:00\u001b[0m MB/s\u001b[0m eta \u001b[36m0:00:01\u001b[0m\n",
      "\u001b[?25hCollecting python-keystoneclient>=3.22.0 (from python-openstackclient~=6.2.0)\n",
      "  Downloading python_keystoneclient-5.2.0-py3-none-any.whl (397 kB)\n",
      "\u001b[2K     \u001b[38;2;114;156;31m━━━━━━━━━━━━━━━━━━━━━━━━━━━━━━━━━━━━━━━\u001b[0m \u001b[32m397.9/397.9 kB\u001b[0m \u001b[31m7.9 MB/s\u001b[0m eta \u001b[36m0:00:00\u001b[0m MB/s\u001b[0m eta \u001b[36m0:00:01\u001b[0m\n",
      "\u001b[?25hCollecting python-novaclient>=18.1.0 (from python-openstackclient~=6.2.0)\n",
      "  Downloading python_novaclient-18.4.0-py3-none-any.whl (335 kB)\n",
      "\u001b[2K     \u001b[38;2;114;156;31m━━━━━━━━━━━━━━━━━━━━━━━━━━━━━━━━━━━━━━\u001b[0m \u001b[32m335.9/335.9 kB\u001b[0m \u001b[31m11.9 MB/s\u001b[0m eta \u001b[36m0:00:00\u001b[0m\n",
      "\u001b[?25hCollecting stevedore>=2.0.1 (from python-openstackclient~=6.2.0)\n",
      "  Downloading stevedore-5.1.0-py3-none-any.whl (49 kB)\n",
      "\u001b[2K     \u001b[38;2;114;156;31m━━━━━━━━━━━━━━━━━━━━━━━━━━━━━━━━━━━━━━━━\u001b[0m \u001b[32m49.6/49.6 kB\u001b[0m \u001b[31m6.2 MB/s\u001b[0m eta \u001b[36m0:00:00\u001b[0m\n",
      "\u001b[?25hCollecting PrettyTable>=0.7.2 (from cliff>=3.5.0->python-openstackclient~=6.2.0)\n",
      "  Downloading prettytable-3.9.0-py3-none-any.whl (27 kB)\n",
      "Requirement already satisfied: PyYAML>=3.12 in /home/user/.local/lib/python3.10/site-packages (from cliff>=3.5.0->python-openstackclient~=6.2.0) (6.0)\n",
      "Collecting autopage>=0.4.0 (from cliff>=3.5.0->python-openstackclient~=6.2.0)\n",
      "  Downloading autopage-0.5.1-py3-none-any.whl (29 kB)\n",
      "Collecting cmd2>=1.0.0 (from cliff>=3.5.0->python-openstackclient~=6.2.0)\n",
      "  Downloading cmd2-2.4.3-py3-none-any.whl (147 kB)\n",
      "\u001b[2K     \u001b[38;2;114;156;31m━━━━━━━━━━━━━━━━━━━━━━━━━━━━━━━━━━━━━━━\u001b[0m \u001b[32m147.2/147.2 kB\u001b[0m \u001b[31m8.3 MB/s\u001b[0m eta \u001b[36m0:00:00\u001b[0m\n",
      "\u001b[?25hCollecting importlib-metadata>=4.4 (from cliff>=3.5.0->python-openstackclient~=6.2.0)\n",
      "  Downloading importlib_metadata-6.8.0-py3-none-any.whl (22 kB)\n",
      "Collecting appdirs>=1.3.0 (from openstacksdk>=0.103.0->python-openstackclient~=6.2.0)\n",
      "  Downloading appdirs-1.4.4-py2.py3-none-any.whl (9.6 kB)\n",
      "Requirement already satisfied: cryptography>=2.7 in /home/user/.local/lib/python3.10/site-packages (from openstacksdk>=0.103.0->python-openstackclient~=6.2.0) (41.0.1)\n",
      "Requirement already satisfied: decorator>=4.4.1 in /home/user/anaconda3/envs/mlops_eng/lib/python3.10/site-packages (from openstacksdk>=0.103.0->python-openstackclient~=6.2.0) (5.1.1)\n",
      "Collecting dogpile.cache>=0.6.5 (from openstacksdk>=0.103.0->python-openstackclient~=6.2.0)\n",
      "  Downloading dogpile.cache-1.2.2-py3-none-any.whl (52 kB)\n",
      "\u001b[2K     \u001b[38;2;114;156;31m━━━━━━━━━━━━━━━━━━━━━━━━━━━━━━━━━━━━━━━━\u001b[0m \u001b[32m52.2/52.2 kB\u001b[0m \u001b[31m4.8 MB/s\u001b[0m eta \u001b[36m0:00:00\u001b[0m\n",
      "\u001b[?25hCollecting jmespath>=0.9.0 (from openstacksdk>=0.103.0->python-openstackclient~=6.2.0)\n",
      "  Downloading jmespath-1.0.1-py3-none-any.whl (20 kB)\n",
      "Collecting jsonpatch!=1.20,>=1.16 (from openstacksdk>=0.103.0->python-openstackclient~=6.2.0)\n",
      "  Downloading jsonpatch-1.33-py2.py3-none-any.whl (12 kB)\n",
      "Collecting keystoneauth1>=3.18.0 (from openstacksdk>=0.103.0->python-openstackclient~=6.2.0)\n",
      "  Downloading keystoneauth1-5.3.0-py3-none-any.whl (323 kB)\n",
      "\u001b[2K     \u001b[38;2;114;156;31m━━━━━━━━━━━━━━━━━━━━━━━━━━━━━━━━━━━━━━━\u001b[0m \u001b[32m323.1/323.1 kB\u001b[0m \u001b[31m8.4 MB/s\u001b[0m eta \u001b[36m0:00:00\u001b[0m[36m0:00:01\u001b[0m\n",
      "\u001b[?25hCollecting netifaces>=0.10.4 (from openstacksdk>=0.103.0->python-openstackclient~=6.2.0)\n",
      "  Downloading netifaces-0.11.0.tar.gz (30 kB)\n",
      "  Preparing metadata (setup.py) ... \u001b[?25ldone\n",
      "\u001b[?25hCollecting os-service-types>=1.7.0 (from openstacksdk>=0.103.0->python-openstackclient~=6.2.0)\n",
      "  Downloading os_service_types-1.7.0-py2.py3-none-any.whl (24 kB)\n",
      "Collecting requestsexceptions>=1.2.0 (from openstacksdk>=0.103.0->python-openstackclient~=6.2.0)\n",
      "  Downloading requestsexceptions-1.4.0-py2.py3-none-any.whl (3.8 kB)\n",
      "Collecting simplejson>=3.5.1 (from osc-lib>=2.3.0->python-openstackclient~=6.2.0)\n",
      "  Downloading simplejson-3.19.2-cp310-cp310-manylinux_2_5_x86_64.manylinux1_x86_64.manylinux_2_17_x86_64.manylinux2014_x86_64.whl (137 kB)\n",
      "\u001b[2K     \u001b[38;2;114;156;31m━━━━━━━━━━━━━━━━━━━━━━━━━━━━━━━━━━━━━━━\u001b[0m \u001b[32m137.9/137.9 kB\u001b[0m \u001b[31m7.4 MB/s\u001b[0m eta \u001b[36m0:00:00\u001b[0m\n",
      "\u001b[?25hCollecting debtcollector>=1.2.0 (from oslo.utils>=3.33.0->python-openstackclient~=6.2.0)\n",
      "  Downloading debtcollector-2.5.0-py3-none-any.whl (23 kB)\n",
      "Collecting netaddr>=0.7.18 (from oslo.utils>=3.33.0->python-openstackclient~=6.2.0)\n",
      "  Downloading netaddr-0.9.0-py3-none-any.whl (2.2 MB)\n",
      "\u001b[2K     \u001b[38;2;114;156;31m━━━━━━━━━━━━━━━━━━━━━━━━━━━━━━━━━━━━━━━━\u001b[0m \u001b[32m2.2/2.2 MB\u001b[0m \u001b[31m10.3 MB/s\u001b[0m eta \u001b[36m0:00:00\u001b[0mm eta \u001b[36m0:00:01\u001b[0m[36m0:00:01\u001b[0m\n",
      "\u001b[?25hRequirement already satisfied: packaging>=20.4 in /home/user/anaconda3/envs/mlops_eng/lib/python3.10/site-packages (from oslo.utils>=3.33.0->python-openstackclient~=6.2.0) (23.0)\n",
      "Collecting pyparsing>=2.1.0 (from oslo.utils>=3.33.0->python-openstackclient~=6.2.0)\n",
      "  Downloading pyparsing-3.1.1-py3-none-any.whl (103 kB)\n",
      "\u001b[2K     \u001b[38;2;114;156;31m━━━━━━━━━━━━━━━━━━━━━━━━━━━━━━━━━━━━━━━\u001b[0m \u001b[32m103.1/103.1 kB\u001b[0m \u001b[31m5.7 MB/s\u001b[0m eta \u001b[36m0:00:00\u001b[0m\n",
      "\u001b[?25hCollecting pytz>=2013.6 (from oslo.utils>=3.33.0->python-openstackclient~=6.2.0)\n",
      "  Downloading pytz-2023.3.post1-py2.py3-none-any.whl (502 kB)\n",
      "\u001b[2K     \u001b[38;2;114;156;31m━━━━━━━━━━━━━━━━━━━━━━━━━━━━━━━━━━━━━━\u001b[0m \u001b[32m502.5/502.5 kB\u001b[0m \u001b[31m10.2 MB/s\u001b[0m eta \u001b[36m0:00:00\u001b[0m MB/s\u001b[0m eta \u001b[36m0:00:01\u001b[0m\n",
      "\u001b[?25hCollecting tzdata>=2022.4 (from oslo.utils>=3.33.0->python-openstackclient~=6.2.0)\n",
      "  Downloading tzdata-2023.3-py2.py3-none-any.whl (341 kB)\n",
      "\u001b[2K     \u001b[38;2;114;156;31m━━━━━━━━━━━━━━━━━━━━━━━━━━━━━━━━━━━━━━━\u001b[0m \u001b[32m341.8/341.8 kB\u001b[0m \u001b[31m8.4 MB/s\u001b[0m eta \u001b[36m0:00:00\u001b[0mm eta \u001b[36m0:00:01\u001b[0m\n",
      "\u001b[?25hCollecting requests>=2.25.1 (from python-cinderclient>=3.3.0->python-openstackclient~=6.2.0)\n",
      "  Downloading requests-2.31.0-py3-none-any.whl (62 kB)\n",
      "\u001b[2K     \u001b[38;2;114;156;31m━━━━━━━━━━━━━━━━━━━━━━━━━━━━━━━━━━━━━━━━\u001b[0m \u001b[32m62.6/62.6 kB\u001b[0m \u001b[31m7.2 MB/s\u001b[0m eta \u001b[36m0:00:00\u001b[0m\n",
      "\u001b[?25hCollecting oslo.config>=5.2.0 (from python-keystoneclient>=3.22.0->python-openstackclient~=6.2.0)\n",
      "  Downloading oslo.config-9.2.0-py3-none-any.whl (128 kB)\n",
      "\u001b[2K     \u001b[38;2;114;156;31m━━━━━━━━━━━━━━━━━━━━━━━━━━━━━━━━━━━━━━━\u001b[0m \u001b[32m128.6/128.6 kB\u001b[0m \u001b[31m5.2 MB/s\u001b[0m eta \u001b[36m0:00:00\u001b[0m\n",
      "\u001b[?25hCollecting oslo.serialization!=2.19.1,>=2.18.0 (from python-keystoneclient>=3.22.0->python-openstackclient~=6.2.0)\n",
      "  Downloading oslo.serialization-5.2.0-py3-none-any.whl (26 kB)\n",
      "Requirement already satisfied: six>=1.10.0 in /home/user/anaconda3/envs/mlops_eng/lib/python3.10/site-packages (from python-keystoneclient>=3.22.0->python-openstackclient~=6.2.0) (1.16.0)\n",
      "Collecting attrs>=16.3.0 (from cmd2>=1.0.0->cliff>=3.5.0->python-openstackclient~=6.2.0)\n",
      "  Downloading attrs-23.1.0-py3-none-any.whl (61 kB)\n",
      "\u001b[2K     \u001b[38;2;114;156;31m━━━━━━━━━━━━━━━━━━━━━━━━━━━━━━━━━━━━━━━━\u001b[0m \u001b[32m61.2/61.2 kB\u001b[0m \u001b[31m4.6 MB/s\u001b[0m eta \u001b[36m0:00:00\u001b[0m\n",
      "\u001b[?25hCollecting pyperclip>=1.6 (from cmd2>=1.0.0->cliff>=3.5.0->python-openstackclient~=6.2.0)\n",
      "  Downloading pyperclip-1.8.2.tar.gz (20 kB)\n",
      "  Preparing metadata (setup.py) ... \u001b[?25ldone\n",
      "\u001b[?25hRequirement already satisfied: wcwidth>=0.1.7 in /home/user/anaconda3/envs/mlops_eng/lib/python3.10/site-packages (from cmd2>=1.0.0->cliff>=3.5.0->python-openstackclient~=6.2.0) (0.2.5)\n",
      "Requirement already satisfied: cffi>=1.12 in /home/user/.local/lib/python3.10/site-packages (from cryptography>=2.7->openstacksdk>=0.103.0->python-openstackclient~=6.2.0) (1.15.1)\n",
      "Collecting wrapt>=1.7.0 (from debtcollector>=1.2.0->oslo.utils>=3.33.0->python-openstackclient~=6.2.0)\n",
      "  Downloading wrapt-1.15.0-cp310-cp310-manylinux_2_5_x86_64.manylinux1_x86_64.manylinux_2_17_x86_64.manylinux2014_x86_64.whl (78 kB)\n",
      "\u001b[2K     \u001b[38;2;114;156;31m━━━━━━━━━━━━━━━━━━━━━━━━━━━━━━━━━━━━━━━━\u001b[0m \u001b[32m78.4/78.4 kB\u001b[0m \u001b[31m9.1 MB/s\u001b[0m eta \u001b[36m0:00:00\u001b[0m\n",
      "\u001b[?25hCollecting typing-extensions>=4.0.1 (from dogpile.cache>=0.6.5->openstacksdk>=0.103.0->python-openstackclient~=6.2.0)\n",
      "  Downloading typing_extensions-4.8.0-py3-none-any.whl (31 kB)\n",
      "Collecting zipp>=0.5 (from importlib-metadata>=4.4->cliff>=3.5.0->python-openstackclient~=6.2.0)\n",
      "  Downloading zipp-3.17.0-py3-none-any.whl (7.4 kB)\n",
      "Collecting jsonpointer>=1.9 (from jsonpatch!=1.20,>=1.16->openstacksdk>=0.103.0->python-openstackclient~=6.2.0)\n",
      "  Downloading jsonpointer-2.4-py2.py3-none-any.whl (7.8 kB)\n",
      "Collecting rfc3986>=1.2.0 (from oslo.config>=5.2.0->python-keystoneclient>=3.22.0->python-openstackclient~=6.2.0)\n",
      "  Downloading rfc3986-2.0.0-py2.py3-none-any.whl (31 kB)\n",
      "Collecting msgpack>=0.5.2 (from oslo.serialization!=2.19.1,>=2.18.0->python-keystoneclient>=3.22.0->python-openstackclient~=6.2.0)\n",
      "  Downloading msgpack-1.0.7-cp310-cp310-manylinux_2_17_x86_64.manylinux2014_x86_64.whl (530 kB)\n",
      "\u001b[2K     \u001b[38;2;114;156;31m━━━━━━━━━━━━━━━━━━━━━━━━━━━━━━━━━━━━━━━\u001b[0m \u001b[32m530.8/530.8 kB\u001b[0m \u001b[31m9.5 MB/s\u001b[0m eta \u001b[36m0:00:00\u001b[0m31m11.8 MB/s\u001b[0m eta \u001b[36m0:00:01\u001b[0m\n",
      "\u001b[?25hCollecting charset-normalizer<4,>=2 (from requests>=2.25.1->python-cinderclient>=3.3.0->python-openstackclient~=6.2.0)\n",
      "  Downloading charset_normalizer-3.3.0-cp310-cp310-manylinux_2_17_x86_64.manylinux2014_x86_64.whl (138 kB)\n",
      "\u001b[2K     \u001b[38;2;114;156;31m━━━━━━━━━━━━━━━━━━━━━━━━━━━━━━━━━━━━━━\u001b[0m \u001b[32m138.7/138.7 kB\u001b[0m \u001b[31m15.6 MB/s\u001b[0m eta \u001b[36m0:00:00\u001b[0m\n",
      "\u001b[?25hCollecting idna<4,>=2.5 (from requests>=2.25.1->python-cinderclient>=3.3.0->python-openstackclient~=6.2.0)\n",
      "  Downloading idna-3.4-py3-none-any.whl (61 kB)\n",
      "\u001b[2K     \u001b[38;2;114;156;31m━━━━━━━━━━━━━━━━━━━━━━━━━━━━━━━━━━━━━━━━\u001b[0m \u001b[32m61.5/61.5 kB\u001b[0m \u001b[31m5.1 MB/s\u001b[0m eta \u001b[36m0:00:00\u001b[0m\n",
      "\u001b[?25hCollecting urllib3<3,>=1.21.1 (from requests>=2.25.1->python-cinderclient>=3.3.0->python-openstackclient~=6.2.0)\n",
      "  Downloading urllib3-2.0.6-py3-none-any.whl (123 kB)\n",
      "\u001b[2K     \u001b[38;2;114;156;31m━━━━━━━━━━━━━━━━━━━━━━━━━━━━━━━━━━━━━━━\u001b[0m \u001b[32m123.8/123.8 kB\u001b[0m \u001b[31m9.6 MB/s\u001b[0m eta \u001b[36m0:00:00\u001b[0m\n",
      "\u001b[?25hCollecting certifi>=2017.4.17 (from requests>=2.25.1->python-cinderclient>=3.3.0->python-openstackclient~=6.2.0)\n",
      "  Downloading certifi-2023.7.22-py3-none-any.whl (158 kB)\n",
      "\u001b[2K     \u001b[38;2;114;156;31m━━━━━━━━━━━━━━━━━━━━━━━━━━━━━━━━━━━━━━━\u001b[0m \u001b[32m158.3/158.3 kB\u001b[0m \u001b[31m8.8 MB/s\u001b[0m eta \u001b[36m0:00:00\u001b[0m\n",
      "\u001b[?25hRequirement already satisfied: pycparser in /home/user/.local/lib/python3.10/site-packages (from cffi>=1.12->cryptography>=2.7->openstacksdk>=0.103.0->python-openstackclient~=6.2.0) (2.21)\n",
      "Building wheels for collected packages: netifaces, pyperclip\n",
      "  Building wheel for netifaces (setup.py) ... \u001b[?25ldone\n",
      "\u001b[?25h  Created wheel for netifaces: filename=netifaces-0.11.0-cp310-cp310-linux_x86_64.whl size=35086 sha256=78798baddd6587f782c5c7a5671187ce090d9e6349a6c8af27b6777db4c6ec93\n",
      "  Stored in directory: /home/user/.cache/pip/wheels/48/65/b3/4c4cc6038b81ff21cc9df69f2b6774f5f52e23d3c275ed15aa\n",
      "  Building wheel for pyperclip (setup.py) ... \u001b[?25ldone\n",
      "\u001b[?25h  Created wheel for pyperclip: filename=pyperclip-1.8.2-py3-none-any.whl size=11124 sha256=6a2c65aabf16335d75b3915de8a0abc13b5794c551cc4e7edbcc9ad8775e8402\n",
      "  Stored in directory: /home/user/.cache/pip/wheels/04/24/fe/140a94a7f1036003ede94579e6b4227fe96c840c6f4dcbe307\n",
      "Successfully built netifaces pyperclip\n",
      "Installing collected packages: requestsexceptions, pytz, pyperclip, netifaces, netaddr, appdirs, zipp, wrapt, urllib3, tzdata, typing-extensions, simplejson, rfc3986, pyparsing, PrettyTable, pbr, msgpack, jsonpointer, jmespath, iso8601, idna, charset-normalizer, certifi, autopage, attrs, stevedore, requests, oslo.i18n, os-service-types, jsonpatch, importlib-metadata, debtcollector, cmd2, oslo.utils, oslo.config, keystoneauth1, dogpile.cache, cliff, python-cinderclient, oslo.serialization, openstacksdk, python-novaclient, python-keystoneclient, osc-lib, python-openstackclient\n",
      "Successfully installed PrettyTable-3.9.0 appdirs-1.4.4 attrs-23.1.0 autopage-0.5.1 certifi-2023.7.22 charset-normalizer-3.3.0 cliff-4.3.0 cmd2-2.4.3 debtcollector-2.5.0 dogpile.cache-1.2.2 idna-3.4 importlib-metadata-6.8.0 iso8601-2.1.0 jmespath-1.0.1 jsonpatch-1.33 jsonpointer-2.4 keystoneauth1-5.3.0 msgpack-1.0.7 netaddr-0.9.0 netifaces-0.11.0 openstacksdk-1.5.0 os-service-types-1.7.0 osc-lib-2.8.1 oslo.config-9.2.0 oslo.i18n-6.1.0 oslo.serialization-5.2.0 oslo.utils-6.2.1 pbr-5.11.1 pyparsing-3.1.1 pyperclip-1.8.2 python-cinderclient-9.4.0 python-keystoneclient-5.2.0 python-novaclient-18.4.0 python-openstackclient-6.2.0 pytz-2023.3.post1 requests-2.31.0 requestsexceptions-1.4.0 rfc3986-2.0.0 simplejson-3.19.2 stevedore-5.1.0 typing-extensions-4.8.0 tzdata-2023.3 urllib3-2.0.6 wrapt-1.15.0 zipp-3.17.0\n",
      "Note: you may need to restart the kernel to use updated packages.\n"
     ]
    }
   ],
   "source": [
    "%pip install python-openstackclient~=6.2.0"
   ]
  },
  {
   "cell_type": "markdown",
   "metadata": {},
   "source": [
    "### 3. Install OpenStack's Python client SDK"
   ]
  },
  {
   "cell_type": "code",
   "execution_count": 2,
   "metadata": {},
   "outputs": [
    {
     "name": "stdout",
     "output_type": "stream",
     "text": [
      "Requirement already satisfied: openstacksdk~=1.2 in /home/user/anaconda3/envs/mlops_eng/lib/python3.10/site-packages (1.5.0)\n",
      "Requirement already satisfied: PyYAML>=3.13 in /home/user/.local/lib/python3.10/site-packages (from openstacksdk~=1.2) (6.0)\n",
      "Requirement already satisfied: appdirs>=1.3.0 in /home/user/anaconda3/envs/mlops_eng/lib/python3.10/site-packages (from openstacksdk~=1.2) (1.4.4)\n",
      "Requirement already satisfied: cryptography>=2.7 in /home/user/.local/lib/python3.10/site-packages (from openstacksdk~=1.2) (41.0.1)\n",
      "Requirement already satisfied: decorator>=4.4.1 in /home/user/anaconda3/envs/mlops_eng/lib/python3.10/site-packages (from openstacksdk~=1.2) (5.1.1)\n",
      "Requirement already satisfied: dogpile.cache>=0.6.5 in /home/user/anaconda3/envs/mlops_eng/lib/python3.10/site-packages (from openstacksdk~=1.2) (1.2.2)\n",
      "Requirement already satisfied: iso8601>=0.1.11 in /home/user/anaconda3/envs/mlops_eng/lib/python3.10/site-packages (from openstacksdk~=1.2) (2.1.0)\n",
      "Requirement already satisfied: jmespath>=0.9.0 in /home/user/anaconda3/envs/mlops_eng/lib/python3.10/site-packages (from openstacksdk~=1.2) (1.0.1)\n",
      "Requirement already satisfied: jsonpatch!=1.20,>=1.16 in /home/user/anaconda3/envs/mlops_eng/lib/python3.10/site-packages (from openstacksdk~=1.2) (1.33)\n",
      "Requirement already satisfied: keystoneauth1>=3.18.0 in /home/user/anaconda3/envs/mlops_eng/lib/python3.10/site-packages (from openstacksdk~=1.2) (5.3.0)\n",
      "Requirement already satisfied: netifaces>=0.10.4 in /home/user/anaconda3/envs/mlops_eng/lib/python3.10/site-packages (from openstacksdk~=1.2) (0.11.0)\n",
      "Requirement already satisfied: os-service-types>=1.7.0 in /home/user/anaconda3/envs/mlops_eng/lib/python3.10/site-packages (from openstacksdk~=1.2) (1.7.0)\n",
      "Requirement already satisfied: pbr!=2.1.0,>=2.0.0 in /home/user/anaconda3/envs/mlops_eng/lib/python3.10/site-packages (from openstacksdk~=1.2) (5.11.1)\n",
      "Requirement already satisfied: requestsexceptions>=1.2.0 in /home/user/anaconda3/envs/mlops_eng/lib/python3.10/site-packages (from openstacksdk~=1.2) (1.4.0)\n",
      "Requirement already satisfied: cffi>=1.12 in /home/user/.local/lib/python3.10/site-packages (from cryptography>=2.7->openstacksdk~=1.2) (1.15.1)\n",
      "Requirement already satisfied: stevedore>=3.0.0 in /home/user/anaconda3/envs/mlops_eng/lib/python3.10/site-packages (from dogpile.cache>=0.6.5->openstacksdk~=1.2) (5.1.0)\n",
      "Requirement already satisfied: typing-extensions>=4.0.1 in /home/user/anaconda3/envs/mlops_eng/lib/python3.10/site-packages (from dogpile.cache>=0.6.5->openstacksdk~=1.2) (4.8.0)\n",
      "Requirement already satisfied: jsonpointer>=1.9 in /home/user/anaconda3/envs/mlops_eng/lib/python3.10/site-packages (from jsonpatch!=1.20,>=1.16->openstacksdk~=1.2) (2.4)\n",
      "Requirement already satisfied: requests>=2.14.2 in /home/user/anaconda3/envs/mlops_eng/lib/python3.10/site-packages (from keystoneauth1>=3.18.0->openstacksdk~=1.2) (2.31.0)\n",
      "Requirement already satisfied: pycparser in /home/user/.local/lib/python3.10/site-packages (from cffi>=1.12->cryptography>=2.7->openstacksdk~=1.2) (2.21)\n",
      "Requirement already satisfied: charset-normalizer<4,>=2 in /home/user/anaconda3/envs/mlops_eng/lib/python3.10/site-packages (from requests>=2.14.2->keystoneauth1>=3.18.0->openstacksdk~=1.2) (3.3.0)\n",
      "Requirement already satisfied: idna<4,>=2.5 in /home/user/anaconda3/envs/mlops_eng/lib/python3.10/site-packages (from requests>=2.14.2->keystoneauth1>=3.18.0->openstacksdk~=1.2) (3.4)\n",
      "Requirement already satisfied: urllib3<3,>=1.21.1 in /home/user/anaconda3/envs/mlops_eng/lib/python3.10/site-packages (from requests>=2.14.2->keystoneauth1>=3.18.0->openstacksdk~=1.2) (2.0.6)\n",
      "Requirement already satisfied: certifi>=2017.4.17 in /home/user/anaconda3/envs/mlops_eng/lib/python3.10/site-packages (from requests>=2.14.2->keystoneauth1>=3.18.0->openstacksdk~=1.2) (2023.7.22)\n",
      "Note: you may need to restart the kernel to use updated packages.\n"
     ]
    }
   ],
   "source": [
    "%pip install openstacksdk~=1.2"
   ]
  },
  {
   "cell_type": "markdown",
   "metadata": {},
   "source": [
    "### 4. Configure the credentials that OpenStack's Python client needs for connecting to cPouta"
   ]
  },
  {
   "cell_type": "markdown",
   "metadata": {},
   "source": [
    "Be sure to have downloaded the `clouds.yaml` file from the \"prerequisites\" chapter.\n",
    "\n",
    "After that, you need to create a `secure.yaml` file in the current directory with your password in it.\n",
    "\n",
    "**Disclaimer**: this solution is not secure, but OpenStack doesn't give other safer options. Be sure to delete this file after you are done and most importantly **NEVER COMMIT** the `secure.yaml`.\n",
    "\n",
    "Below there is a script to create the file automatically. Run it and update the password with your CSC password in the `secure.yaml` file. The file is under the same directory as this notebook (i.e., setup/1_create_vm).\n",
    "\n",
    "**Note**: Your CSC password is not the password of your university credentials, it's the one you created when you signed up to CSC after you had logged in using your university credentials for the first time. "
   ]
  },
  {
   "cell_type": "code",
   "execution_count": null,
   "metadata": {},
   "outputs": [],
   "source": [
    "!echo -e \"clouds:\\n  openstack:\\n    auth:\\n      password: ******\" > secure.yaml"
   ]
  },
  {
   "cell_type": "markdown",
   "metadata": {},
   "source": [
    "Now update the password in [secure.yaml](./secure.yaml).\n",
    "\n",
    "As long as the configuration files (clouds.yaml and secure.yaml) are in one of the following paths, the connection should work automatically:\n",
    "\n",
    "- Current Directory\n",
    "- ~/.config/openstack\n",
    "- /etc/openstack\n",
    "\n",
    "So we can start a connection to cPouta and create a virtual machine there."
   ]
  },
  {
   "cell_type": "markdown",
   "metadata": {},
   "source": [
    "## Create a virtual machine\n",
    "\n",
    "We will mainly use the Python client in this notebook. \n",
    "\n",
    "For your interest, the complete guide on how to work with the CLI is [here](https://docs.csc.fi/cloud/pouta/command-line-tools/)."
   ]
  },
  {
   "cell_type": "code",
   "execution_count": 1,
   "metadata": {},
   "outputs": [],
   "source": [
    "import openstack\n",
    "from openstack.connection import Connection\n",
    "\n",
    "# Initialize and turn off debug logging\n",
    "openstack.enable_logging(debug=False)\n",
    "\n",
    "# Initialize the connection to the cloud\n",
    "conn: Connection = openstack.connect(cloud=\"openstack\")\n"
   ]
  },
  {
   "cell_type": "markdown",
   "metadata": {},
   "source": [
    "First of all, we need to create a key pair:"
   ]
  },
  {
   "cell_type": "code",
   "execution_count": 2,
   "metadata": {},
   "outputs": [
    {
     "name": "stdout",
     "output_type": "stream",
     "text": [
      "The keypair luoyumo2-tutorial is already in the system.\n",
      "\n",
      "\tKey pair: luoyumo2-tutorial - project_2008075\n",
      "\n"
     ]
    }
   ],
   "source": [
    "import os\n",
    "from openstack.compute.v2.keypair import Keypair\n",
    "\n",
    "\n",
    "def create_keypair(conn: Connection, keypair_name: str) -> Keypair:\n",
    "    keypair = conn.compute.find_keypair(keypair_name)\n",
    "\n",
    "    if not keypair:\n",
    "        print(\"Creating Key Pair...\")\n",
    "        keypair = conn.compute.create_keypair(name=keypair_name)\n",
    "        ssh_dir_name = os.path.join(os.environ[\"HOME\"], \".ssh\")\n",
    "        \n",
    "        # create .ssh folder under your home directory if not existing\n",
    "        os.makedirs(ssh_dir_name, exist_ok=True)\n",
    "        \n",
    "        private_keypair_file_path = os.path.join(\n",
    "            ssh_dir_name, keypair_name\n",
    "        )\n",
    "        \n",
    "        with open(private_keypair_file_path, \"w\") as f:\n",
    "            f.write(\"%s\" % keypair.private_key)\n",
    "\n",
    "        os.chmod(private_keypair_file_path, 0o400)\n",
    "        print(\"Done.\")\n",
    "    else:\n",
    "        print(f\"The keypair {keypair_name} is already in the system.\")\n",
    "\n",
    "    return keypair\n",
    "\n",
    "\n",
    "keypair = create_keypair(conn, f\"{conn.auth['username']}-tutorial\")\n",
    "print(f\"\\n\\tKey pair: {keypair.name} - {keypair.location.project.name}\\n\")\n"
   ]
  },
  {
   "cell_type": "markdown",
   "metadata": {},
   "source": [
    "You will see the keys created:\n",
    "\n",
    "![keypair](./images/tutorial-openstack-keypair.png)\n",
    "\n",
    "**Note**: If you want to delete an existing keypair and create a new one, remember to delete both the public key in cPouta and the private key in the `.ssh` folder under your home directory. \n",
    "\n",
    "Now we can try to create a virtual machine (sometimes referred to as a server in the following instructions) in cPouta. To do that, we need to define some details such as network, type of instance and image to start from.\n",
    "\n",
    "Let's print the ones that are already available:"
   ]
  },
  {
   "cell_type": "code",
   "execution_count": 3,
   "metadata": {},
   "outputs": [
    {
     "name": "stdout",
     "output_type": "stream",
     "text": [
      "Available standard instances types:\n"
     ]
    },
    {
     "name": "stdout",
     "output_type": "stream",
     "text": [
      " - standard.3xlarge\n",
      " - standard.large\n",
      " - standard.medium\n",
      " - standard.small\n",
      " - standard.tiny\n",
      " - standard.xlarge\n",
      " - standard.xxlarge\n",
      "\n",
      "Available networks:\n",
      " - public\n",
      " - project_2008075\n",
      "\n",
      "Available images:\n",
      " - Ubuntu-22.04\n",
      " - CentOS-8-Stream\n",
      " - Ubuntu-20.04\n",
      " - Ubuntu-18.04\n",
      " - CentOS-7-Cuda\n",
      " - CentOS-7\n",
      " - cirros\n"
     ]
    }
   ],
   "source": [
    "print(\"Available standard instances types:\")\n",
    "all_flavors = conn.compute.flavors()\n",
    "for flavor in sorted(all_flavors, key=lambda x: x.name):\n",
    "    if flavor.name.startswith(\"standard\"):\n",
    "        print(\" - \" + flavor.name)\n",
    "\n",
    "print(\"\\nAvailable networks:\")\n",
    "all_networks = conn.network.networks()\n",
    "for network in all_networks:\n",
    "    print(\" - \" + network.name)\n",
    "\n",
    "\n",
    "print(\"\\nAvailable images:\")\n",
    "all_images = conn.compute.images()\n",
    "for image in all_images:\n",
    "    print(\" - \" + image.name)\n"
   ]
  },
  {
   "cell_type": "markdown",
   "metadata": {},
   "source": [
    "So now we can pick one of each and define a function to create the server. This step will take a while. "
   ]
  },
  {
   "cell_type": "code",
   "execution_count": 4,
   "metadata": {},
   "outputs": [
    {
     "name": "stdout",
     "output_type": "stream",
     "text": [
      "Creating Server:\n",
      "Server created: luoyumo2-tutorial\n"
     ]
    }
   ],
   "source": [
    "# The openstack object has no return type, so the IDE can't find the right type with intellisense\n",
    "# We import them only for autocomplete in the IDE and for extra detail, but they are not needed\n",
    "from openstack.compute.v2.image import Image\n",
    "from openstack.compute.v2.flavor import Flavor\n",
    "from openstack.network.v2.network import Network\n",
    "from openstack.compute.v2.server import Server\n",
    "\n",
    "\n",
    "def create_server(\n",
    "    conn: Connection,\n",
    "    server_name: str,\n",
    "    image_name: str,\n",
    "    instance_flavor: str,\n",
    "    network_name: str,\n",
    "    keypair: Keypair,\n",
    ") -> Server:\n",
    "    server = conn.compute.find_server(server_name)\n",
    "    if server is None:\n",
    "        print(\"Creating Server:\")\n",
    "        image: Image = conn.image.find_image(image_name)\n",
    "        flavor: Flavor = conn.compute.find_flavor(instance_flavor)\n",
    "        network: Network = conn.network.find_network(network_name)\n",
    "        server: Server = conn.compute.create_server(\n",
    "            name=server_name,\n",
    "            image_id=image.id,\n",
    "            flavor_id=flavor.id,\n",
    "            networks=[{\"uuid\": network.id}],\n",
    "            key_name=keypair.name,\n",
    "        )\n",
    "\n",
    "        server: Server = conn.compute.wait_for_server(server)\n",
    "        print(f\"Server created: {server.name}\")\n",
    "    else:\n",
    "        print(f\"The server {server_name} is already running.\")\n",
    "    return server\n",
    "\n",
    "\n",
    "server_name = f\"{conn.auth['username']}-tutorial\"\n",
    "image_name = \"Ubuntu-22.04\"\n",
    "instance_flavor = \"standard.xlarge\"\n",
    "network_name = \"project_2008075\"\n",
    "\n",
    "server = create_server(\n",
    "    conn,\n",
    "    server_name,\n",
    "    image_name,\n",
    "    instance_flavor,\n",
    "    network_name,\n",
    "    keypair,\n",
    ")\n"
   ]
  },
  {
   "cell_type": "markdown",
   "metadata": {},
   "source": [
    "The server should appear on the dashboard like below:\n",
    "\n",
    "![server](./images/tutorial-openstack-server.png)\n",
    "\n",
    "### Access the server through SSH\n",
    "\n",
    "The IP that you see in the image is a private network IP.\n",
    "\n",
    "Now that we have a server, we can give it a *Floating IP* (i.e. a public IP) so that we can access with SSH to run commands on it.\n",
    "\n",
    "If we give a *Floating IP*, and we add the right security group and port forwarding rules to the server, we can access it from our local machine.\n",
    "\n",
    "⚠️ **NOTE** ⚠️: the Python APIs are broken for this passage, so for now we need to run the commands on a terminal that has the right credentials.\n",
    "\n",
    "Run the following python code and follow the instructions:"
   ]
  },
  {
   "cell_type": "code",
   "execution_count": 5,
   "metadata": {},
   "outputs": [
    {
     "name": "stdout",
     "output_type": "stream",
     "text": [
      "Available floating IP: 86.50.231.96\n",
      "Security group found: ssh\n",
      "Run on your terminal these commands one at a time:\n",
      "\tSuppose you're in setup/1_create_vm\n",
      "\tsource openrc\n",
      "\topenstack server add floating ip luoyumo2-tutorial 86.50.231.96\n",
      "\topenstack server add security group luoyumo2-tutorial ssh\n",
      "\topenstack server lock luoyumo2-tutorial\n"
     ]
    }
   ],
   "source": [
    "from openstack.network.v2.security_group import SecurityGroup\n",
    "from openstack.network.v2.floating_ip import FloatingIP\n",
    "\n",
    "server: Server = conn.compute.find_server(server_name, ignore_missing=False)\n",
    "floating_ip: FloatingIP = conn.network.find_available_ip()\n",
    "print(f\"Available floating IP: {floating_ip.floating_ip_address}\")\n",
    "security_group: SecurityGroup = conn.network.find_security_group(\"ssh\")\n",
    "print(f\"Security group found: {security_group.name}\")\n",
    "\n",
    "# NOTE: The APIs are broken, but it would be:\n",
    "# conn.compute.add_floating_ip_to_server(server, floating_ip.floating_ip_address, floating_ip.fixed_ip_address)\n",
    "# conn.compute.add_security_group_to_server(conn, security_group)\n",
    "print(\"Run on your terminal these commands one at a time:\")\n",
    "print(f\"\\tSuppose you're in setup/1_create_vm\")\n",
    "print(f\"\\tsource openrc\")\n",
    "print(f\"\\topenstack server add floating ip {server.name} {floating_ip.floating_ip_address}\")\n",
    "print(f\"\\topenstack server add security group {server.name} {security_group.name}\")\n",
    "print(f\"\\topenstack server lock {server.name}\") # prevent your VM from accidental deletion"
   ]
  },
  {
   "cell_type": "code",
   "execution_count": 6,
   "metadata": {},
   "outputs": [
    {
     "name": "stdout",
     "output_type": "stream",
     "text": [
      "The server is now accessible with the following command:\n",
      "\n",
      "\tssh -i /home/user/.ssh/luoyumo2-tutorial ubuntu@86.50.231.96\n"
     ]
    }
   ],
   "source": [
    "# We assume your private key file is in $HOME/.ssh\n",
    "private_key_file_path = os.path.join(os.environ[\"HOME\"], \".ssh\", keypair.name)\n",
    "username = \"ubuntu\" if \"Ubuntu\" in image_name else \"root\"\n",
    "print(\"The server is now accessible with the following command:\")\n",
    "print(f\"\\n\\tssh -i {private_key_file_path} {username}@{floating_ip.floating_ip_address}\")"
   ]
  },
  {
   "cell_type": "markdown",
   "metadata": {},
   "source": [
    "NOTE: if you tried multiple times to run these cells and you already put the floating IP to your `known_hosts` file, you might get the following message when you try to ssh into the instance:\n",
    "\n",
    "```text\n",
    "@@@@@@@@@@@@@@@@@@@@@@@@@@@@@@@@@@@@@@@@@@@@@@@@@@@@@@@@@@@\n",
    "@    WARNING: REMOTE HOST IDENTIFICATION HAS CHANGED!     @\n",
    "@@@@@@@@@@@@@@@@@@@@@@@@@@@@@@@@@@@@@@@@@@@@@@@@@@@@@@@@@@@\n",
    "IT IS POSSIBLE THAT SOMEONE IS DOING SOMETHING NASTY!\n",
    "Someone could be eavesdropping on you right now (man-in-the-middle attack)!\n",
    "It is also possible that a host key has just been changed.\n",
    "The fingerprint for the ED25519 key sent by the remote host is\n",
    "SHA256:XXXXX\n",
    "Please contact your system administrator.\n",
    "Add correct host key in HOME/.ssh/known_hosts to get rid of this message.\n",
    "Offending ECDSA key in HOME/.ssh/known_hosts:7\n",
    "Host key for INSTANCE_IP has changed and you have requested strict checking.\n",
    "Host key verification failed.\n",
    "```\n",
    "\n",
    "To solve this, you can simply get the `floating_ip` from the previous run, and run:\n",
    "\n",
    "```bash\n",
    "ssh-keygen -R <floating-ip>\n",
    "```\n",
    "\n",
    "and then try to ssh again into the instance."
   ]
  },
  {
   "cell_type": "markdown",
   "metadata": {},
   "source": [
    "After creating a VM in cPouta, save the notebook with the outputs (of running the cells) as you will need some of the outputs later. Keep the notebook open and continue with the \"3. Install necessary tools and create a K8s cluster in the cPouta VM\" section in the [main instructions](../../README.md)."
   ]
  }
 ],
 "metadata": {
  "kernelspec": {
   "display_name": "Python 3 (ipykernel)",
   "language": "python",
   "name": "python3"
  },
  "language_info": {
   "codemirror_mode": {
    "name": "ipython",
    "version": 3
   },
   "file_extension": ".py",
   "mimetype": "text/x-python",
   "name": "python",
   "nbconvert_exporter": "python",
   "pygments_lexer": "ipython3",
   "version": "3.10.0"
  },
  "vscode": {
   "interpreter": {
    "hash": "1af830c9235f9ba868d8558096ef7bcb04f6de668e2e56380e2ec08c356779a6"
   }
  }
 },
 "nbformat": 4,
 "nbformat_minor": 2
}
