{
 "cells": [
  {
   "cell_type": "markdown",
   "metadata": {},
   "source": [
    "# Delete KFP Runs and Experiments\n",
    "\n",
    "KFP Runs and Experiments can be deleted using the SDK provided by Kubeflow Pipelines."
   ]
  },
  {
   "cell_type": "code",
   "execution_count": 1,
   "metadata": {},
   "outputs": [
    {
     "name": "stderr",
     "output_type": "stream",
     "text": [
      "/home/luoyumo/.conda/envs/mlops_eng2/lib/python3.11/site-packages/kfp/client/client.py:158: FutureWarning: This client only works with Kubeflow Pipeline v2.0.0-beta.2 and later versions.\n",
      "  warnings.warn(\n"
     ]
    }
   ],
   "source": [
    "import kfp\n",
    "client = kfp.Client(host=None)"
   ]
  },
  {
   "cell_type": "markdown",
   "metadata": {},
   "source": [
    "### Delete a KFP Run\n",
    "You can get the KFP Run ID from the UI:\n",
    "\n",
    "<img src=\"./images/kfp-run-id.png\" width=\"700\" />"
   ]
  },
  {
   "cell_type": "code",
   "execution_count": null,
   "metadata": {},
   "outputs": [],
   "source": [
    "# Delete a KFP run\n",
    "\n",
    "# assign your run id to the run_id variable\n",
    "run_id = \"90e13b6f-b608-48ff-b828-79b25f65e3fc\"\n",
    "client.runs.delete_run(id=run_id)"
   ]
  },
  {
   "cell_type": "markdown",
   "metadata": {},
   "source": [
    "### Delete a KFP Experiment\n",
    "Before deleting a KFP Experiment, we need to delete all KFP Runs under the Experiment. Otherwise, the Runs will still be shown on the UI even the Experiment is deleted."
   ]
  },
  {
   "cell_type": "code",
   "execution_count": 7,
   "metadata": {},
   "outputs": [
    {
     "data": {
      "text/plain": [
       "{}"
      ]
     },
     "execution_count": 7,
     "metadata": {},
     "output_type": "execute_result"
    }
   ],
   "source": [
    "# Get the experiment id\n",
    "# Replace this with your own experiment name\n",
    "experiment_name = \"demo-experiment\"\n",
    "experiment_id = client.get_experiment(experiment_name=experiment_name).experiment_id\n",
    "\n",
    "# Get all runs under the experiment\n",
    "response = client.list_runs(experiment_id=experiment_id)\n",
    "\n",
    "# Delete all the runs\n",
    "for run in response.runs:\n",
    "    client.runs.delete_run(run_id=run.run_id)\n",
    "\n",
    "# Delete the experiment\n",
    "client.delete_experiment(experiment_id=experiment_id)"
   ]
  }
 ],
 "metadata": {
  "kernelspec": {
   "display_name": "Python 3",
   "language": "python",
   "name": "python3"
  },
  "language_info": {
   "codemirror_mode": {
    "name": "ipython",
    "version": 3
   },
   "file_extension": ".py",
   "mimetype": "text/x-python",
   "name": "python",
   "nbconvert_exporter": "python",
   "pygments_lexer": "ipython3",
   "version": "3.1.0"
  }
 },
 "nbformat": 4,
 "nbformat_minor": 2
}
