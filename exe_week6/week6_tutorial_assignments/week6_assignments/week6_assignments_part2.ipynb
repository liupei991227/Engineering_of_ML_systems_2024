{
 "cells": [
  {
   "cell_type": "markdown",
   "metadata": {
    "deletable": false,
    "editable": false,
    "nbgrader": {
     "cell_type": "markdown",
     "checksum": "c1b3391a58bd0713ed1ee108578ec859",
     "grade": false,
     "grade_id": "cell-9bab62fe4e4bcce7",
     "locked": true,
     "schema_version": 3,
     "solution": false,
     "task": false
    }
   },
   "source": [
    "# Week6 Assignments (part 2)"
   ]
  },
  {
   "cell_type": "code",
   "execution_count": 12,
   "metadata": {
    "deletable": false,
    "editable": false,
    "nbgrader": {
     "cell_type": "code",
     "checksum": "104ee95462a49d7794ce3fabdba252b5",
     "grade": false,
     "grade_id": "cell-8260614f8f39d1c9",
     "locked": true,
     "schema_version": 3,
     "solution": false,
     "task": false
    }
   },
   "outputs": [],
   "source": [
    "from pathlib import Path\n",
    "import os\n",
    "import pandas as pd\n",
    "import webbrowser\n",
    "from IPython.display import display\n",
    "from datetime import datetime\n",
    "from typing import NamedTuple, Dict, Any, Callable, List\n",
    "from unittest.mock import create_autospec\n",
    "import shutil\n",
    "import requests\n",
    "from lightgbm import LGBMRegressor\n",
    "from mlserver.codecs import PandasCodec\n",
    "import warnings\n",
    "import logging\n",
    "import lightgbm\n",
    "\n",
    "import mlflow\n",
    "from mlflow import MlflowClient\n",
    "\n",
    "from minio import Minio\n",
    "\n",
    "from evidently import ColumnMapping\n",
    "from evidently.report import Report\n",
    "from evidently.test_suite import TestSuite\n",
    "from evidently.metric_preset import DataDriftPreset, TargetDriftPreset, RegressionPreset\n",
    "from evidently.tests import TestValueMAE\n",
    "from evidently.ui.workspace import Workspace\n",
    "from evidently.ui.remote import RemoteWorkspace\n",
    "\n",
    "import kfp\n",
    "from kfp.dsl import component, Input, Output, Dataset\n",
    "\n",
    "from sklearn.metrics import mean_absolute_error\n",
    "import matplotlib.pyplot as plt\n",
    "\n",
    "from utils.utils import (\n",
    "    get_model_info,\n",
    "    send_requests,\n",
    "    init_evidently_project,\n",
    "    check_snapshots,\n",
    "    is_being_graded,\n",
    ")\n",
    "from utils.config import (\n",
    "    MLFLOW_S3_ENDPOINT_URL,\n",
    "    MLFLOW_TRACKING_URI,\n",
    "    AWS_ACCESS_KEY_ID,\n",
    "    AWS_SECRET_ACCESS_KEY, \n",
    "    REGISTERED_MODEL_NAME,\n",
    "    STAGE_TAG_KEY,\n",
    "    PROD_STAGE, \n",
    "    INPUTS_OUTPUTS_LOCAL_DIR_NAME,\n",
    "    GROUND_TRUTH_LOCAL_DIR_NAME,\n",
    "    FEATURE_STORE_DIR_NAME,\n",
    "    INPUTS_OUTPUTS_BUCKET_NAME,\n",
    "    GROUND_TRUTH_BUCKET_NAME,\n",
    "    COLUMN_MAPPING_DICT,\n",
    "    EVIDENTLY_MONITOR_URL\n",
    ")\n",
    "from utils.etl import etl\n",
    "\n",
    "warnings.filterwarnings(\"ignore\")\n",
    "\n",
    "WORKING_DIR = Path.cwd()\n",
    "\n",
    "# Suppress logging when grading the notebook\n",
    "if is_being_graded():\n",
    "    loggers = [logging.getLogger(name) for name in logging.root.manager.loggerDict]\n",
    "    for logger in loggers:\n",
    "        logger.setLevel(logging.ERROR)\n",
    "    mlflow.utils.logging_utils.disable_logging()\n",
    "\n",
    "assert kfp.__version__ == \"2.0.1\", \"Incorrect version of kfp\"\n",
    "assert lightgbm.__version__ == \"3.3.5\", \"Incorrect version of lightgbm\""
   ]
  },
  {
   "cell_type": "markdown",
   "metadata": {
    "deletable": false,
    "editable": false,
    "nbgrader": {
     "cell_type": "markdown",
     "checksum": "d901d8a987893e3ebf1fa12cef65e63d",
     "grade": false,
     "grade_id": "cell-bc81f66f5556be9f",
     "locked": true,
     "schema_version": 3,
     "solution": false,
     "task": false
    }
   },
   "source": [
    "## Assignment 2: The effect of retraining (2 points)\n",
    "In this assignment, you'll gain an intuition of how retraining can affect model performance. You will experiment with two cases:\n",
    "1. No retraining: Use the same model to predict data for each quarter of each year (2016-2019). \n",
    "1. Retraining with all available data: If the MAE is larger than the threshold of 40000 for one quarter, retrain the model using all available data (the old training data + data of of all the quarters up to and including the current quarter). Then use the retrained model to make predictions for the next quarter. \n",
    "\n",
    "More detailed instructions can be found later.\n",
    "\n",
    "### Preparation"
   ]
  },
  {
   "cell_type": "code",
   "execution_count": 13,
   "metadata": {
    "deletable": false,
    "editable": false,
    "nbgrader": {
     "cell_type": "code",
     "checksum": "831870f0ca0a5ea87346b074f103608b",
     "grade": false,
     "grade_id": "cell-3a7d9e852bbeddf2",
     "locked": true,
     "schema_version": 3,
     "solution": false,
     "task": false
    }
   },
   "outputs": [
    {
     "data": {
      "text/html": [
       "<style>#sk-container-id-2 {\n",
       "  /* Definition of color scheme common for light and dark mode */\n",
       "  --sklearn-color-text: black;\n",
       "  --sklearn-color-line: gray;\n",
       "  /* Definition of color scheme for unfitted estimators */\n",
       "  --sklearn-color-unfitted-level-0: #fff5e6;\n",
       "  --sklearn-color-unfitted-level-1: #f6e4d2;\n",
       "  --sklearn-color-unfitted-level-2: #ffe0b3;\n",
       "  --sklearn-color-unfitted-level-3: chocolate;\n",
       "  /* Definition of color scheme for fitted estimators */\n",
       "  --sklearn-color-fitted-level-0: #f0f8ff;\n",
       "  --sklearn-color-fitted-level-1: #d4ebff;\n",
       "  --sklearn-color-fitted-level-2: #b3dbfd;\n",
       "  --sklearn-color-fitted-level-3: cornflowerblue;\n",
       "\n",
       "  /* Specific color for light theme */\n",
       "  --sklearn-color-text-on-default-background: var(--sg-text-color, var(--theme-code-foreground, var(--jp-content-font-color1, black)));\n",
       "  --sklearn-color-background: var(--sg-background-color, var(--theme-background, var(--jp-layout-color0, white)));\n",
       "  --sklearn-color-border-box: var(--sg-text-color, var(--theme-code-foreground, var(--jp-content-font-color1, black)));\n",
       "  --sklearn-color-icon: #696969;\n",
       "\n",
       "  @media (prefers-color-scheme: dark) {\n",
       "    /* Redefinition of color scheme for dark theme */\n",
       "    --sklearn-color-text-on-default-background: var(--sg-text-color, var(--theme-code-foreground, var(--jp-content-font-color1, white)));\n",
       "    --sklearn-color-background: var(--sg-background-color, var(--theme-background, var(--jp-layout-color0, #111)));\n",
       "    --sklearn-color-border-box: var(--sg-text-color, var(--theme-code-foreground, var(--jp-content-font-color1, white)));\n",
       "    --sklearn-color-icon: #878787;\n",
       "  }\n",
       "}\n",
       "\n",
       "#sk-container-id-2 {\n",
       "  color: var(--sklearn-color-text);\n",
       "}\n",
       "\n",
       "#sk-container-id-2 pre {\n",
       "  padding: 0;\n",
       "}\n",
       "\n",
       "#sk-container-id-2 input.sk-hidden--visually {\n",
       "  border: 0;\n",
       "  clip: rect(1px 1px 1px 1px);\n",
       "  clip: rect(1px, 1px, 1px, 1px);\n",
       "  height: 1px;\n",
       "  margin: -1px;\n",
       "  overflow: hidden;\n",
       "  padding: 0;\n",
       "  position: absolute;\n",
       "  width: 1px;\n",
       "}\n",
       "\n",
       "#sk-container-id-2 div.sk-dashed-wrapped {\n",
       "  border: 1px dashed var(--sklearn-color-line);\n",
       "  margin: 0 0.4em 0.5em 0.4em;\n",
       "  box-sizing: border-box;\n",
       "  padding-bottom: 0.4em;\n",
       "  background-color: var(--sklearn-color-background);\n",
       "}\n",
       "\n",
       "#sk-container-id-2 div.sk-container {\n",
       "  /* jupyter's `normalize.less` sets `[hidden] { display: none; }`\n",
       "     but bootstrap.min.css set `[hidden] { display: none !important; }`\n",
       "     so we also need the `!important` here to be able to override the\n",
       "     default hidden behavior on the sphinx rendered scikit-learn.org.\n",
       "     See: https://github.com/scikit-learn/scikit-learn/issues/21755 */\n",
       "  display: inline-block !important;\n",
       "  position: relative;\n",
       "}\n",
       "\n",
       "#sk-container-id-2 div.sk-text-repr-fallback {\n",
       "  display: none;\n",
       "}\n",
       "\n",
       "div.sk-parallel-item,\n",
       "div.sk-serial,\n",
       "div.sk-item {\n",
       "  /* draw centered vertical line to link estimators */\n",
       "  background-image: linear-gradient(var(--sklearn-color-text-on-default-background), var(--sklearn-color-text-on-default-background));\n",
       "  background-size: 2px 100%;\n",
       "  background-repeat: no-repeat;\n",
       "  background-position: center center;\n",
       "}\n",
       "\n",
       "/* Parallel-specific style estimator block */\n",
       "\n",
       "#sk-container-id-2 div.sk-parallel-item::after {\n",
       "  content: \"\";\n",
       "  width: 100%;\n",
       "  border-bottom: 2px solid var(--sklearn-color-text-on-default-background);\n",
       "  flex-grow: 1;\n",
       "}\n",
       "\n",
       "#sk-container-id-2 div.sk-parallel {\n",
       "  display: flex;\n",
       "  align-items: stretch;\n",
       "  justify-content: center;\n",
       "  background-color: var(--sklearn-color-background);\n",
       "  position: relative;\n",
       "}\n",
       "\n",
       "#sk-container-id-2 div.sk-parallel-item {\n",
       "  display: flex;\n",
       "  flex-direction: column;\n",
       "}\n",
       "\n",
       "#sk-container-id-2 div.sk-parallel-item:first-child::after {\n",
       "  align-self: flex-end;\n",
       "  width: 50%;\n",
       "}\n",
       "\n",
       "#sk-container-id-2 div.sk-parallel-item:last-child::after {\n",
       "  align-self: flex-start;\n",
       "  width: 50%;\n",
       "}\n",
       "\n",
       "#sk-container-id-2 div.sk-parallel-item:only-child::after {\n",
       "  width: 0;\n",
       "}\n",
       "\n",
       "/* Serial-specific style estimator block */\n",
       "\n",
       "#sk-container-id-2 div.sk-serial {\n",
       "  display: flex;\n",
       "  flex-direction: column;\n",
       "  align-items: center;\n",
       "  background-color: var(--sklearn-color-background);\n",
       "  padding-right: 1em;\n",
       "  padding-left: 1em;\n",
       "}\n",
       "\n",
       "\n",
       "/* Toggleable style: style used for estimator/Pipeline/ColumnTransformer box that is\n",
       "clickable and can be expanded/collapsed.\n",
       "- Pipeline and ColumnTransformer use this feature and define the default style\n",
       "- Estimators will overwrite some part of the style using the `sk-estimator` class\n",
       "*/\n",
       "\n",
       "/* Pipeline and ColumnTransformer style (default) */\n",
       "\n",
       "#sk-container-id-2 div.sk-toggleable {\n",
       "  /* Default theme specific background. It is overwritten whether we have a\n",
       "  specific estimator or a Pipeline/ColumnTransformer */\n",
       "  background-color: var(--sklearn-color-background);\n",
       "}\n",
       "\n",
       "/* Toggleable label */\n",
       "#sk-container-id-2 label.sk-toggleable__label {\n",
       "  cursor: pointer;\n",
       "  display: block;\n",
       "  width: 100%;\n",
       "  margin-bottom: 0;\n",
       "  padding: 0.5em;\n",
       "  box-sizing: border-box;\n",
       "  text-align: center;\n",
       "}\n",
       "\n",
       "#sk-container-id-2 label.sk-toggleable__label-arrow:before {\n",
       "  /* Arrow on the left of the label */\n",
       "  content: \"▸\";\n",
       "  float: left;\n",
       "  margin-right: 0.25em;\n",
       "  color: var(--sklearn-color-icon);\n",
       "}\n",
       "\n",
       "#sk-container-id-2 label.sk-toggleable__label-arrow:hover:before {\n",
       "  color: var(--sklearn-color-text);\n",
       "}\n",
       "\n",
       "/* Toggleable content - dropdown */\n",
       "\n",
       "#sk-container-id-2 div.sk-toggleable__content {\n",
       "  max-height: 0;\n",
       "  max-width: 0;\n",
       "  overflow: hidden;\n",
       "  text-align: left;\n",
       "  /* unfitted */\n",
       "  background-color: var(--sklearn-color-unfitted-level-0);\n",
       "}\n",
       "\n",
       "#sk-container-id-2 div.sk-toggleable__content.fitted {\n",
       "  /* fitted */\n",
       "  background-color: var(--sklearn-color-fitted-level-0);\n",
       "}\n",
       "\n",
       "#sk-container-id-2 div.sk-toggleable__content pre {\n",
       "  margin: 0.2em;\n",
       "  border-radius: 0.25em;\n",
       "  color: var(--sklearn-color-text);\n",
       "  /* unfitted */\n",
       "  background-color: var(--sklearn-color-unfitted-level-0);\n",
       "}\n",
       "\n",
       "#sk-container-id-2 div.sk-toggleable__content.fitted pre {\n",
       "  /* unfitted */\n",
       "  background-color: var(--sklearn-color-fitted-level-0);\n",
       "}\n",
       "\n",
       "#sk-container-id-2 input.sk-toggleable__control:checked~div.sk-toggleable__content {\n",
       "  /* Expand drop-down */\n",
       "  max-height: 200px;\n",
       "  max-width: 100%;\n",
       "  overflow: auto;\n",
       "}\n",
       "\n",
       "#sk-container-id-2 input.sk-toggleable__control:checked~label.sk-toggleable__label-arrow:before {\n",
       "  content: \"▾\";\n",
       "}\n",
       "\n",
       "/* Pipeline/ColumnTransformer-specific style */\n",
       "\n",
       "#sk-container-id-2 div.sk-label input.sk-toggleable__control:checked~label.sk-toggleable__label {\n",
       "  color: var(--sklearn-color-text);\n",
       "  background-color: var(--sklearn-color-unfitted-level-2);\n",
       "}\n",
       "\n",
       "#sk-container-id-2 div.sk-label.fitted input.sk-toggleable__control:checked~label.sk-toggleable__label {\n",
       "  background-color: var(--sklearn-color-fitted-level-2);\n",
       "}\n",
       "\n",
       "/* Estimator-specific style */\n",
       "\n",
       "/* Colorize estimator box */\n",
       "#sk-container-id-2 div.sk-estimator input.sk-toggleable__control:checked~label.sk-toggleable__label {\n",
       "  /* unfitted */\n",
       "  background-color: var(--sklearn-color-unfitted-level-2);\n",
       "}\n",
       "\n",
       "#sk-container-id-2 div.sk-estimator.fitted input.sk-toggleable__control:checked~label.sk-toggleable__label {\n",
       "  /* fitted */\n",
       "  background-color: var(--sklearn-color-fitted-level-2);\n",
       "}\n",
       "\n",
       "#sk-container-id-2 div.sk-label label.sk-toggleable__label,\n",
       "#sk-container-id-2 div.sk-label label {\n",
       "  /* The background is the default theme color */\n",
       "  color: var(--sklearn-color-text-on-default-background);\n",
       "}\n",
       "\n",
       "/* On hover, darken the color of the background */\n",
       "#sk-container-id-2 div.sk-label:hover label.sk-toggleable__label {\n",
       "  color: var(--sklearn-color-text);\n",
       "  background-color: var(--sklearn-color-unfitted-level-2);\n",
       "}\n",
       "\n",
       "/* Label box, darken color on hover, fitted */\n",
       "#sk-container-id-2 div.sk-label.fitted:hover label.sk-toggleable__label.fitted {\n",
       "  color: var(--sklearn-color-text);\n",
       "  background-color: var(--sklearn-color-fitted-level-2);\n",
       "}\n",
       "\n",
       "/* Estimator label */\n",
       "\n",
       "#sk-container-id-2 div.sk-label label {\n",
       "  font-family: monospace;\n",
       "  font-weight: bold;\n",
       "  display: inline-block;\n",
       "  line-height: 1.2em;\n",
       "}\n",
       "\n",
       "#sk-container-id-2 div.sk-label-container {\n",
       "  text-align: center;\n",
       "}\n",
       "\n",
       "/* Estimator-specific */\n",
       "#sk-container-id-2 div.sk-estimator {\n",
       "  font-family: monospace;\n",
       "  border: 1px dotted var(--sklearn-color-border-box);\n",
       "  border-radius: 0.25em;\n",
       "  box-sizing: border-box;\n",
       "  margin-bottom: 0.5em;\n",
       "  /* unfitted */\n",
       "  background-color: var(--sklearn-color-unfitted-level-0);\n",
       "}\n",
       "\n",
       "#sk-container-id-2 div.sk-estimator.fitted {\n",
       "  /* fitted */\n",
       "  background-color: var(--sklearn-color-fitted-level-0);\n",
       "}\n",
       "\n",
       "/* on hover */\n",
       "#sk-container-id-2 div.sk-estimator:hover {\n",
       "  /* unfitted */\n",
       "  background-color: var(--sklearn-color-unfitted-level-2);\n",
       "}\n",
       "\n",
       "#sk-container-id-2 div.sk-estimator.fitted:hover {\n",
       "  /* fitted */\n",
       "  background-color: var(--sklearn-color-fitted-level-2);\n",
       "}\n",
       "\n",
       "/* Specification for estimator info (e.g. \"i\" and \"?\") */\n",
       "\n",
       "/* Common style for \"i\" and \"?\" */\n",
       "\n",
       ".sk-estimator-doc-link,\n",
       "a:link.sk-estimator-doc-link,\n",
       "a:visited.sk-estimator-doc-link {\n",
       "  float: right;\n",
       "  font-size: smaller;\n",
       "  line-height: 1em;\n",
       "  font-family: monospace;\n",
       "  background-color: var(--sklearn-color-background);\n",
       "  border-radius: 1em;\n",
       "  height: 1em;\n",
       "  width: 1em;\n",
       "  text-decoration: none !important;\n",
       "  margin-left: 1ex;\n",
       "  /* unfitted */\n",
       "  border: var(--sklearn-color-unfitted-level-1) 1pt solid;\n",
       "  color: var(--sklearn-color-unfitted-level-1);\n",
       "}\n",
       "\n",
       ".sk-estimator-doc-link.fitted,\n",
       "a:link.sk-estimator-doc-link.fitted,\n",
       "a:visited.sk-estimator-doc-link.fitted {\n",
       "  /* fitted */\n",
       "  border: var(--sklearn-color-fitted-level-1) 1pt solid;\n",
       "  color: var(--sklearn-color-fitted-level-1);\n",
       "}\n",
       "\n",
       "/* On hover */\n",
       "div.sk-estimator:hover .sk-estimator-doc-link:hover,\n",
       ".sk-estimator-doc-link:hover,\n",
       "div.sk-label-container:hover .sk-estimator-doc-link:hover,\n",
       ".sk-estimator-doc-link:hover {\n",
       "  /* unfitted */\n",
       "  background-color: var(--sklearn-color-unfitted-level-3);\n",
       "  color: var(--sklearn-color-background);\n",
       "  text-decoration: none;\n",
       "}\n",
       "\n",
       "div.sk-estimator.fitted:hover .sk-estimator-doc-link.fitted:hover,\n",
       ".sk-estimator-doc-link.fitted:hover,\n",
       "div.sk-label-container:hover .sk-estimator-doc-link.fitted:hover,\n",
       ".sk-estimator-doc-link.fitted:hover {\n",
       "  /* fitted */\n",
       "  background-color: var(--sklearn-color-fitted-level-3);\n",
       "  color: var(--sklearn-color-background);\n",
       "  text-decoration: none;\n",
       "}\n",
       "\n",
       "/* Span, style for the box shown on hovering the info icon */\n",
       ".sk-estimator-doc-link span {\n",
       "  display: none;\n",
       "  z-index: 9999;\n",
       "  position: relative;\n",
       "  font-weight: normal;\n",
       "  right: .2ex;\n",
       "  padding: .5ex;\n",
       "  margin: .5ex;\n",
       "  width: min-content;\n",
       "  min-width: 20ex;\n",
       "  max-width: 50ex;\n",
       "  color: var(--sklearn-color-text);\n",
       "  box-shadow: 2pt 2pt 4pt #999;\n",
       "  /* unfitted */\n",
       "  background: var(--sklearn-color-unfitted-level-0);\n",
       "  border: .5pt solid var(--sklearn-color-unfitted-level-3);\n",
       "}\n",
       "\n",
       ".sk-estimator-doc-link.fitted span {\n",
       "  /* fitted */\n",
       "  background: var(--sklearn-color-fitted-level-0);\n",
       "  border: var(--sklearn-color-fitted-level-3);\n",
       "}\n",
       "\n",
       ".sk-estimator-doc-link:hover span {\n",
       "  display: block;\n",
       "}\n",
       "\n",
       "/* \"?\"-specific style due to the `<a>` HTML tag */\n",
       "\n",
       "#sk-container-id-2 a.estimator_doc_link {\n",
       "  float: right;\n",
       "  font-size: 1rem;\n",
       "  line-height: 1em;\n",
       "  font-family: monospace;\n",
       "  background-color: var(--sklearn-color-background);\n",
       "  border-radius: 1rem;\n",
       "  height: 1rem;\n",
       "  width: 1rem;\n",
       "  text-decoration: none;\n",
       "  /* unfitted */\n",
       "  color: var(--sklearn-color-unfitted-level-1);\n",
       "  border: var(--sklearn-color-unfitted-level-1) 1pt solid;\n",
       "}\n",
       "\n",
       "#sk-container-id-2 a.estimator_doc_link.fitted {\n",
       "  /* fitted */\n",
       "  border: var(--sklearn-color-fitted-level-1) 1pt solid;\n",
       "  color: var(--sklearn-color-fitted-level-1);\n",
       "}\n",
       "\n",
       "/* On hover */\n",
       "#sk-container-id-2 a.estimator_doc_link:hover {\n",
       "  /* unfitted */\n",
       "  background-color: var(--sklearn-color-unfitted-level-3);\n",
       "  color: var(--sklearn-color-background);\n",
       "  text-decoration: none;\n",
       "}\n",
       "\n",
       "#sk-container-id-2 a.estimator_doc_link.fitted:hover {\n",
       "  /* fitted */\n",
       "  background-color: var(--sklearn-color-fitted-level-3);\n",
       "}\n",
       "</style><div id=\"sk-container-id-2\" class=\"sk-top-container\"><div class=\"sk-text-repr-fallback\"><pre>LGBMRegressor(colsample_bytree=0.7, learning_rate=0.075, max_depth=50,\n",
       "              min_child_samples=5, min_split_gain=20.0, n_estimators=1000,\n",
       "              num_leaves=100, random_state=42, reg_lambda=50.0, subsample=0.1)</pre><b>In a Jupyter environment, please rerun this cell to show the HTML representation or trust the notebook. <br />On GitHub, the HTML representation is unable to render, please try loading this page with nbviewer.org.</b></div><div class=\"sk-container\" hidden><div class=\"sk-item\"><div class=\"sk-estimator fitted sk-toggleable\"><input class=\"sk-toggleable__control sk-hidden--visually\" id=\"sk-estimator-id-2\" type=\"checkbox\" checked><label for=\"sk-estimator-id-2\" class=\"sk-toggleable__label fitted sk-toggleable__label-arrow fitted\">&nbsp;LGBMRegressor<span class=\"sk-estimator-doc-link fitted\">i<span>Fitted</span></span></label><div class=\"sk-toggleable__content fitted\"><pre>LGBMRegressor(colsample_bytree=0.7, learning_rate=0.075, max_depth=50,\n",
       "              min_child_samples=5, min_split_gain=20.0, n_estimators=1000,\n",
       "              num_leaves=100, random_state=42, reg_lambda=50.0, subsample=0.1)</pre></div> </div></div></div></div>"
      ],
      "text/plain": [
       "LGBMRegressor(colsample_bytree=0.7, learning_rate=0.075, max_depth=50,\n",
       "              min_child_samples=5, min_split_gain=20.0, n_estimators=1000,\n",
       "              num_leaves=100, random_state=42, reg_lambda=50.0, subsample=0.1)"
      ]
     },
     "execution_count": 13,
     "metadata": {},
     "output_type": "execute_result"
    }
   ],
   "source": [
    "# MAE threshold that determines whether a model needs to be retrained\n",
    "THRESHOLD = 40000\n",
    "\n",
    "# The name of the directory where the raw data is saved\n",
    "# The data is the same as the one used in week2 but split on a quarterly basis\n",
    "RAW_DATA_DIR = \"raw_data\"\n",
    "\n",
    "# Prepare the training data for the initial model\n",
    "# We pre-processed all data in raw_data/reference using the etl function and saved the preprocessed data in the \"feature_store_quarterly\" directory in advance\n",
    "x1 = pd.read_parquet(WORKING_DIR / FEATURE_STORE_DIR_NAME / \"0_0_X.parquet\")\n",
    "y1 = pd.read_csv(WORKING_DIR / FEATURE_STORE_DIR_NAME / \"0_0_y.csv\")\n",
    "\n",
    "# x2 and y2 were used as the testing data in previous assignments, here we also include it into the training data\n",
    "x2 = pd.read_parquet(WORKING_DIR / FEATURE_STORE_DIR_NAME / \"1_0_X.parquet\")\n",
    "y2 = pd.read_csv(WORKING_DIR / FEATURE_STORE_DIR_NAME / \"1_0_y.csv\")\n",
    "train_x = pd.concat([x1, x2])\n",
    "train_y = pd.concat([y1, y2])\n",
    "\n",
    "# Model hyperparameters (hyperparameter optimization was performed)\n",
    "params = {\n",
    "    \"colsample_bytree\" : 0.7,\n",
    "    \"learning_rate\" : 0.075,\n",
    "    \"max_depth\" : 50, \n",
    "    \"min_child_samples\" : 5,\n",
    "    \"min_split_gain\" : 20.0,\n",
    "    \"n_estimators\" : 1000,\n",
    "    \"num_leaves\" : 100,\n",
    "    \"reg_lambda\" : 50.0,\n",
    "    \"subsample\" : 0.1,\n",
    "    \"random_state\": 42\n",
    "}\n",
    "\n",
    "# Train the initial model\n",
    "model = LGBMRegressor(**params)\n",
    "model.fit(train_x, train_y)"
   ]
  },
  {
   "cell_type": "markdown",
   "metadata": {
    "deletable": false,
    "editable": false,
    "nbgrader": {
     "cell_type": "markdown",
     "checksum": "2e51fce538523bbbf3a9ac894a9b00b0",
     "grade": false,
     "grade_id": "cell-d6b6dcadb0a22d47",
     "locked": true,
     "schema_version": 3,
     "solution": false,
     "task": false
    }
   },
   "source": [
    "Next, let's use the `etl` function to feature-engineer the data used in the experiments beforehand. The `etl` function is adapted from the one used in the second week. The code below will uses the `etl` function to feature-engineer the data for each quarter of years 2016, 2017, 2018, and 2019. The engineered features will be stored in Parquet files under the `feature_store_quarterly` directory with a name of `<year>_<quarter>_X.parquet`. Similarly, the target CSV files will also be stored under the `feature_store_quarterly` directory with a name of `<year>_<quarter>_y.csv`. For example, the engineered features of data for the first quarter of 2016 will be saved in \"2016_1_X.parquet\" and the corresponding targets in \"2016_1_y.csv\". \n",
    "\n",
    "Please note that there are only three quarters of data for 2019. "
   ]
  },
  {
   "cell_type": "code",
   "execution_count": 14,
   "metadata": {
    "deletable": false,
    "editable": false,
    "nbgrader": {
     "cell_type": "code",
     "checksum": "be3dee8477739d6f2b41ccf9b4f1a573",
     "grade": false,
     "grade_id": "cell-b9f6828aa0691f9b",
     "locked": true,
     "schema_version": 3,
     "solution": false,
     "task": false
    }
   },
   "outputs": [],
   "source": [
    "data_folders = sorted(\n",
    "    [x for x in os.listdir(WORKING_DIR / RAW_DATA_DIR) if x != \"reference\"]\n",
    ")  # ignore data in the \"reference\" directory as they were used to train the initial model and had already been feature_engineered\n",
    "\n",
    "for year in data_folders:\n",
    "    quarter_folders = sorted(os.listdir(WORKING_DIR / RAW_DATA_DIR / year))\n",
    "    for quarter in quarter_folders:\n",
    "        feature_file_name = f\"{year}_{quarter}_X.parquet\"\n",
    "        target_file_name = f\"{year}_{quarter}_y.csv\"\n",
    "        etl(\n",
    "            path=WORKING_DIR / RAW_DATA_DIR / year / quarter,\n",
    "            feature_store_path=WORKING_DIR / FEATURE_STORE_DIR_NAME,\n",
    "            feature_file_name=feature_file_name,\n",
    "            encoder_file_name=\"0_0.pkl\",\n",
    "            target_file_name=target_file_name,\n",
    "            fit_encoder=False,\n",
    "            targets_included=True,\n",
    "        )"
   ]
  },
  {
   "cell_type": "markdown",
   "metadata": {
    "deletable": false,
    "editable": false,
    "nbgrader": {
     "cell_type": "markdown",
     "checksum": "0485605259466ceab46edc18c6267e63",
     "grade": false,
     "grade_id": "cell-cc3e10de9a0a9fdc",
     "locked": true,
     "schema_version": 3,
     "solution": false,
     "task": false
    }
   },
   "source": [
    "### 2a) No retraining\n",
    "\n",
    "First, you only need to use the initial model to make predictions. For the data for every quarter of every year, you need to do the following:\n",
    "1. Reading the engineered features and targets from the corresponding files (`<year>_<quarter>_X.parquet` and `<year>_<quarter>_y.csv`, respectively) in the \"feature_store_quarterly\" directory.\n",
    "1. Using the initial model you trained above to make predictions on the features.\n",
    "1. Calculating the MAE for each quarter of predictions. (You can assume that the targets and predictions are aligned, i.e., the $n^{th}$ target is the ground truth of the $n^{th}$ prediction.)\n",
    "1. Append the calculated MAE to the `mae_no_retrain` list. "
   ]
  },
  {
   "cell_type": "code",
   "execution_count": 15,
   "metadata": {
    "deletable": false,
    "nbgrader": {
     "cell_type": "code",
     "checksum": "5fa49d7463b4e12e79a142a121a5445b",
     "grade": false,
     "grade_id": "cell-7d320a1acb8110ae",
     "locked": false,
     "schema_version": 3,
     "solution": true,
     "task": false
    }
   },
   "outputs": [
    {
     "name": "stdout",
     "output_type": "stream",
     "text": [
      "[34295.65336684701, 33233.02337411714, 38046.28916851462, 48676.25072386749, 49755.63856583093, 57463.51904235105, 59334.29258769177, 62916.70701551576, 62510.755389636164, 62665.30933946348, 58759.15144709413, 57270.19692114742, 48338.759995999426, 47939.72190788014, 56976.407294967736]\n"
     ]
    }
   ],
   "source": [
    "mae_no_retrain = []\n",
    "\n",
    "### START CODE HERE\n",
    "# Load the initial model trained using the pre-processed training data\n",
    "model = LGBMRegressor(**params)\n",
    "model.fit(train_x, train_y)\n",
    "\n",
    "# Iterate through the years (2016-2019) and quarters (1-4)\n",
    "for year in range(2016, 2020):  # Iterate through 2016 to 2019\n",
    "    for quarter in range(1, 5):  # Iterate through 1 to 4 quarters\n",
    "        # Skip the 4th quarter of 2019 since it's not available\n",
    "        if year == 2019 and quarter == 4:\n",
    "            continue\n",
    "        \n",
    "        try:\n",
    "            # Read the preprocessed feature and target files for the current quarter\n",
    "            feature_file = f\"{year}_{quarter}_X.parquet\"\n",
    "            target_file = f\"{year}_{quarter}_y.csv\"\n",
    "            \n",
    "            features = pd.read_parquet(WORKING_DIR / FEATURE_STORE_DIR_NAME / feature_file)\n",
    "            targets = pd.read_csv(WORKING_DIR / FEATURE_STORE_DIR_NAME / target_file)\n",
    "\n",
    "            # Make predictions using the initial model\n",
    "            predictions = model.predict(features)\n",
    "\n",
    "            # Calculate the MAE for the current quarter\n",
    "            mae = mean_absolute_error(targets, predictions)\n",
    "\n",
    "            # Append the MAE to the list\n",
    "            mae_no_retrain.append(mae)\n",
    "        \n",
    "        except FileNotFoundError:\n",
    "            # If the quarter data doesn't exist, skip it\n",
    "            continue\n",
    "\n",
    "# Print the calculated MAEs\n",
    "print(mae_no_retrain)\n",
    "### END CODE HERE"
   ]
  },
  {
   "cell_type": "markdown",
   "metadata": {
    "deletable": false,
    "editable": false,
    "nbgrader": {
     "cell_type": "markdown",
     "checksum": "e16bf91b07696e95eaf44d9144295c9b",
     "grade": false,
     "grade_id": "cell-e46d0a55db928a3b",
     "locked": true,
     "schema_version": 3,
     "solution": false,
     "task": false
    }
   },
   "source": [
    "### 2b) Retraining using all available data\n",
    "\n",
    "Next, let's retrain our model when the MAE for a quarter is too large. Similar to what you did previously, for each quarter of each year, you need to:\n",
    "1. Read the engineered features and targets from the corresponding files in the \"feature_store_quarterly\" directory.\n",
    "1. Use the latest retrained model to make predictions on the features. If there is no retrained model, then just use the initial model you trained in the preparation part.\n",
    "1. Calculate the MAE for the quarterly predictions. (You can assume that the targets and predictions are aligned, i.e., the $n^{th}$ target is the ground truth of the $n^{th}$ prediction.)\n",
    "1. Append the MAE to the `mae_retrain_on_all` list. \n",
    "1. If the MAE is larger than the threshold of 40000, retrain the model using **all available data up to (and include) this point**. For example, if the MAE for the third quarter of 2016 is too large, then you can combine the initial `train_x` and the features in `feature_store_quarterly/2016/{1,2,3}_X.parquet` (Same applies to the targets.) to retrain the model. You can then use the retrained model to make predictions for the forth quarter. No hyperparameter optimization is needed. You can use the hyperparameters for training the initial model to retrain models."
   ]
  },
  {
   "cell_type": "code",
   "execution_count": 16,
   "metadata": {
    "deletable": false,
    "nbgrader": {
     "cell_type": "code",
     "checksum": "6d0d9ee5d7b5724b95349b2609b95fbe",
     "grade": false,
     "grade_id": "cell-29b16ce3cfa92cfe",
     "locked": false,
     "schema_version": 3,
     "solution": true,
     "task": false
    }
   },
   "outputs": [
    {
     "name": "stdout",
     "output_type": "stream",
     "text": [
      "Retraining model for 2016 Q4 (MAE = 48676.25072386749)\n",
      "Retraining model for 2017 Q2 (MAE = 44082.204746098796)\n",
      "Retraining model for 2017 Q4 (MAE = 41636.44279518244)\n",
      "[34295.65336684701, 33233.02337411714, 38046.28916851462, 48676.25072386749, 39929.696573082714, 44082.204746098796, 39154.49944567293, 41636.44279518244, 36788.722684772765, 37545.561976164856, 33579.16496991787, 34377.25004763687, 33474.75475444891, 32199.100648253883, 32050.422655336588]\n"
     ]
    }
   ],
   "source": [
    "mae_retrain_on_all = []\n",
    "\n",
    "### START CODE HERE\n",
    "# Start with the initial model trained on the first two quarters\n",
    "model = LGBMRegressor(**params)\n",
    "model.fit(train_x, train_y)\n",
    "\n",
    "# Iterate through the years (2016-2019) and quarters (1-4)\n",
    "for year in range(2016, 2020):  # Iterate through 2016 to 2019\n",
    "    for quarter in range(1, 5):  # Iterate through 1 to 4 quarters\n",
    "        # Skip the 4th quarter of 2019 since it's not available\n",
    "        if year == 2019 and quarter == 4:\n",
    "            continue\n",
    "        \n",
    "        try:\n",
    "            # Read the preprocessed feature and target files for the current quarter\n",
    "            feature_file = f\"{year}_{quarter}_X.parquet\"\n",
    "            target_file = f\"{year}_{quarter}_y.csv\"\n",
    "            \n",
    "            features = pd.read_parquet(WORKING_DIR / FEATURE_STORE_DIR_NAME / feature_file)\n",
    "            targets = pd.read_csv(WORKING_DIR / FEATURE_STORE_DIR_NAME / target_file)\n",
    "\n",
    "            # Make predictions using the latest model\n",
    "            predictions = model.predict(features)\n",
    "\n",
    "            # Calculate the MAE for the current quarter\n",
    "            mae = mean_absolute_error(targets, predictions)\n",
    "\n",
    "            # Append the MAE to the list\n",
    "            mae_retrain_on_all.append(mae)\n",
    "            \n",
    "            # If the MAE is larger than the threshold, retrain the model with all available data\n",
    "            if mae > THRESHOLD:\n",
    "                print(f\"Retraining model for {year} Q{quarter} (MAE = {mae})\")\n",
    "                \n",
    "                # Collect all previous data up to this point\n",
    "                retrain_x = train_x.copy()\n",
    "                retrain_y = train_y.copy()\n",
    "\n",
    "                for prev_year in range(2016, year + 1):  # Iterate through previous years\n",
    "                    for prev_quarter in range(1, 5):  # Iterate through previous quarters\n",
    "                        if prev_year == year and prev_quarter > quarter:\n",
    "                            continue  # Skip future quarters\n",
    "                        \n",
    "                        # Load the features and targets for the previous quarters\n",
    "                        prev_feature_file = f\"{prev_year}_{prev_quarter}_X.parquet\"\n",
    "                        prev_target_file = f\"{prev_year}_{prev_quarter}_y.csv\"\n",
    "                        \n",
    "                        prev_features = pd.read_parquet(WORKING_DIR / FEATURE_STORE_DIR_NAME / prev_feature_file)\n",
    "                        prev_targets = pd.read_csv(WORKING_DIR / FEATURE_STORE_DIR_NAME / prev_target_file)\n",
    "                        \n",
    "                        # Append the data to the retraining set\n",
    "                        retrain_x = pd.concat([retrain_x, prev_features], ignore_index=True)\n",
    "                        retrain_y = pd.concat([retrain_y, prev_targets], ignore_index=True)\n",
    "\n",
    "                # Retrain the model with the updated data\n",
    "                model.fit(retrain_x, retrain_y)\n",
    "        \n",
    "        except FileNotFoundError:\n",
    "            # If the quarter data doesn't exist, skip it\n",
    "            continue\n",
    "\n",
    "# Print the calculated MAEs for retraining\n",
    "print(mae_retrain_on_all)\n",
    "### END CODE HERE"
   ]
  },
  {
   "cell_type": "code",
   "execution_count": 17,
   "metadata": {
    "deletable": false,
    "editable": false,
    "nbgrader": {
     "cell_type": "code",
     "checksum": "173ce5e43cd8cc7e2e7e75b698cda6d5",
     "grade": true,
     "grade_id": "cell-d27184a3b6932a76",
     "locked": true,
     "points": 2,
     "schema_version": 3,
     "solution": false,
     "task": false
    }
   },
   "outputs": [],
   "source": [
    "assert len(mae_no_retrain) == 15 and len(mae_retrain_on_all) == 15, \"The length of the lists is incorrect\"\n",
    "\n",
    "# The MAE breaks the threshold in the 4th quarter of 2016, so the first 4 values in the lists should be the same\n",
    "assert mae_no_retrain[:4] == mae_retrain_on_all[:4], \"The first 4 values in the lists should be the same\"\n",
    "\n",
    "for i in range(4, 15):\n",
    "    assert mae_no_retrain[i] > mae_retrain_on_all[i], \"From the 1st quarter of 2017, the MAE of the retrained model should be lower than the MAE of the model without retraining\""
   ]
  },
  {
   "cell_type": "markdown",
   "metadata": {
    "deletable": false,
    "editable": false,
    "nbgrader": {
     "cell_type": "markdown",
     "checksum": "4a1f58880313034c58e5b92d0203497a",
     "grade": false,
     "grade_id": "cell-248c6bcf84c32b1f",
     "locked": true,
     "schema_version": 3,
     "solution": false,
     "task": false
    }
   },
   "source": [
    "Now you can use the code provided below to generate a figure, which shows the MAE for each quarter of each year in both cases. The resulted figure should be similar to the one below:\n",
    "\n",
    "<img src=\"./images/retrain_output.png\" width=600 /> "
   ]
  },
  {
   "cell_type": "code",
   "execution_count": 18,
   "metadata": {
    "deletable": false,
    "editable": false,
    "nbgrader": {
     "cell_type": "code",
     "checksum": "0f6ccdb6f2bd18c7889a4f08f77043d6",
     "grade": false,
     "grade_id": "cell-ebc163a924b6e967",
     "locked": true,
     "schema_version": 3,
     "solution": false,
     "task": false
    }
   },
   "outputs": [
    {
     "data": {
      "image/png": "[encoded data removed]",
      "text/plain": [
       "<Figure size 800x400 with 1 Axes>"
      ]
     },
     "metadata": {},
     "output_type": "display_data"
    }
   ],
   "source": [
    "# Draw the figure\n",
    "default_x_ticks = list(range(len(mae_no_retrain)))\n",
    "\n",
    "# Values for x-axis\n",
    "x_sticks = []\n",
    "for year in data_folders:\n",
    "    quarter_folders = sorted(os.listdir(WORKING_DIR / RAW_DATA_DIR / year))\n",
    "    for q in quarter_folders:\n",
    "        x_sticks.append(f\"{year}/{q}\")\n",
    "\n",
    "plt.figure(figsize=(8, 4))\n",
    "plt.plot(default_x_ticks, mae_no_retrain, label=\"No retraining\")\n",
    "plt.plot(default_x_ticks, mae_retrain_on_all, label=\"Retraining on all data\", color=\"g\")\n",
    "plt.axhline(y=THRESHOLD, color=\"grey\", linestyle=\"--\", label=f\"Threshold = {THRESHOLD}\")\n",
    "plt.xlabel(\"quarter\")\n",
    "plt.ylabel(\"mae\")\n",
    "plt.xticks(default_x_ticks, x_sticks)\n",
    "plt.locator_params(axis=\"x\", nbins=8)\n",
    "plt.title(\"Performance per quarter\")\n",
    "plt.legend(loc=\"upper left\")\n",
    "plt.show()"
   ]
  },
  {
   "cell_type": "markdown",
   "metadata": {
    "deletable": false,
    "editable": false,
    "nbgrader": {
     "cell_type": "markdown",
     "checksum": "4c3c96ffcb25323e225e21c18aa2529b",
     "grade": false,
     "grade_id": "cell-2b61ee0170c47d8f",
     "locked": true,
     "schema_version": 3,
     "solution": false,
     "task": false
    }
   },
   "source": [
    "## Assignment 3: Model-level monitoring with Evidently (4 points)\n",
    "In this assignment, you'll use Evidently to monitor your model that predicts house price. The model will be monitored on a quarterly basis. \n",
    "\n",
    "### Preparation"
   ]
  },
  {
   "cell_type": "code",
   "execution_count": 19,
   "metadata": {
    "deletable": false,
    "editable": false,
    "nbgrader": {
     "cell_type": "code",
     "checksum": "99c15bc0dd38e712d8236db199dd45bc",
     "grade": false,
     "grade_id": "cell-0f4ff678fe2d4709",
     "locked": true,
     "schema_version": 3,
     "solution": false,
     "task": false
    }
   },
   "outputs": [],
   "source": [
    "# mlflow configuration\n",
    "os.environ[\"MLFLOW_S3_ENDPOINT_URL\"] = MLFLOW_S3_ENDPOINT_URL\n",
    "os.environ[\"AWS_ACCESS_KEY_ID\"] = AWS_ACCESS_KEY_ID\n",
    "os.environ[\"AWS_SECRET_ACCESS_KEY\"] = AWS_SECRET_ACCESS_KEY\n",
    "mlflow.set_tracking_uri(MLFLOW_TRACKING_URI)\n",
    "\n",
    "mlflow_client = MlflowClient()"
   ]
  },
  {
   "cell_type": "code",
   "execution_count": 20,
   "metadata": {
    "deletable": false,
    "editable": false,
    "nbgrader": {
     "cell_type": "code",
     "checksum": "32e3849f5c7edbd661bc065b1f9e11b9",
     "grade": false,
     "grade_id": "cell-fb8e50d2b3813b13",
     "locked": true,
     "schema_version": 3,
     "solution": false,
     "task": false
    }
   },
   "outputs": [
    {
     "name": "stdout",
     "output_type": "stream",
     "text": [
      "The model version is: 2, its S3 URI is: s3://mlflow/11/66d2b291052147e08ad5b2feb32dd4f2/artifacts/lgbm-house\n"
     ]
    }
   ],
   "source": [
    "# Retrieve the on-production model version and its S3 URI\n",
    "model_info = get_model_info()\n",
    "if model_info is None:\n",
    "    raise ValueError(\n",
    "        \"No model has been trained yet, please train a model by running the preparation part in part 1\"\n",
    "    )\n",
    "MODEL_VERSION = model_info.model_version\n",
    "MODEL_S3_URI = model_info.model_s3_uri\n",
    "print(f\"The model version is: {MODEL_VERSION}, its S3 URI is: {MODEL_S3_URI}\")"
   ]
  },
  {
   "cell_type": "markdown",
   "metadata": {
    "deletable": false,
    "editable": false,
    "nbgrader": {
     "cell_type": "markdown",
     "checksum": "60e8a5571e8afe47f76663d24dda7faf",
     "grade": false,
     "grade_id": "cell-f23e4064ec140e1c",
     "locked": true,
     "schema_version": 3,
     "solution": false,
     "task": false
    }
   },
   "source": [
    "### 3a) Prepare reference data\n",
    "Let's start by preparing the reference data. Please complete the `prep_ref` function that performs the following tasks:\n",
    "1. Concatenating a given feature DataFrame (denoted as `x` in the function) and a target DataFrame (denoted as `y` in the function) into a single DataFrame. The concatenation should be performed horizontally (side by side). You can assume that the feature and target DataFrames are aligned (for $i^{th}$ row of the feature DataFrame, the corresponding target is also at $i^{th}$ row of the target DataFrame).\n",
    "1. Adding a new column to the concatenated DataFrame named \"prediction\". The values in this column are generated by calling the predict method (`model.predict()`) of the provided model on `x`. Simply speaking, the function adds a column of predicted values to the DataFrame.\n",
    "\n",
    "Finally, the function should return the concatenated DataFrame with the \"prediction\" column added. \n",
    "\n",
    "**Hint**: You may find the [pandas.DataFrame.concat](https://pandas.pydata.org/pandas-docs/version/1.5/reference/api/pandas.concat.html) function useful. "
   ]
  },
  {
   "cell_type": "code",
   "execution_count": 21,
   "metadata": {
    "deletable": false,
    "nbgrader": {
     "cell_type": "code",
     "checksum": "81f08ed784e1a51a10aa635dfe7c5f87",
     "grade": false,
     "grade_id": "cell-0754099a91c5d9f1",
     "locked": false,
     "schema_version": 3,
     "solution": true,
     "task": false
    }
   },
   "outputs": [],
   "source": [
    "def prep_ref(x: pd.DataFrame, y: pd.DataFrame, model: LGBMRegressor|mlflow.pyfunc.PyFuncModel) -> pd.DataFrame:\n",
    "    \"\"\"\n",
    "    Prepare a reference data by combining features, targets, and the predictions made by the model\n",
    "    Args:\n",
    "        x: Feature DataFrame\n",
    "        y: Target DataFrame\n",
    "        model: The model used to make predictions on x\n",
    "    Returns:\n",
    "        Reference data (features+targets+predictions)\n",
    "    \"\"\"\n",
    "    ### START CODE HERE\n",
    "    # Concatenate features (x) and targets (y) horizontally\n",
    "    ref_data = pd.concat([x, y], axis=1)\n",
    "    \n",
    "    # Generate predictions using the model\n",
    "    if isinstance(model, LGBMRegressor):\n",
    "        predictions = model.predict(x)\n",
    "    elif isinstance(model, mlflow.pyfunc.PyFuncModel):\n",
    "        # In case the model is an MLflow PyFuncModel, we use the predict method accordingly\n",
    "        predictions = model.predict(x)\n",
    "    else:\n",
    "        raise ValueError(\"Unsupported model type\")\n",
    "    \n",
    "    # Add the predictions as a new column in the DataFrame\n",
    "    ref_data['prediction'] = predictions\n",
    "    \n",
    "    return ref_data\n",
    "    ### END CODE HERE"
   ]
  },
  {
   "cell_type": "markdown",
   "metadata": {
    "deletable": false,
    "editable": false,
    "nbgrader": {
     "cell_type": "markdown",
     "checksum": "476db44179b8eaff8bc2082b2c019ba0",
     "grade": false,
     "grade_id": "cell-babb9c0515684d46",
     "locked": true,
     "schema_version": 3,
     "solution": false,
     "task": false
    }
   },
   "source": [
    "Let's test if your `prep_ref` function works correctly by preparing a reference dataset used in this assignment. We will use model's testing data as the reference data. "
   ]
  },
  {
   "cell_type": "code",
   "execution_count": 22,
   "metadata": {
    "deletable": false,
    "editable": false,
    "nbgrader": {
     "cell_type": "code",
     "checksum": "070ce4a847511d7919b2a21f74c01a50",
     "grade": true,
     "grade_id": "cell-5426c7ec9439d110",
     "locked": true,
     "points": 0.5,
     "schema_version": 3,
     "solution": false,
     "task": false
    }
   },
   "outputs": [
    {
     "data": {
      "application/vnd.jupyter.widget-view+json": {
       "model_id": "f8c906a232364185a676e03c6774f59d",
       "version_major": 2,
       "version_minor": 0
      },
      "text/plain": [
       "Downloading artifacts:   0%|          | 0/5 [00:00<?, ?it/s]"
      ]
     },
     "metadata": {},
     "output_type": "display_data"
    },
    {
     "data": {
      "text/html": [
       "<div>\n",
       "<style scoped>\n",
       "    .dataframe tbody tr th:only-of-type {\n",
       "        vertical-align: middle;\n",
       "    }\n",
       "\n",
       "    .dataframe tbody tr th {\n",
       "        vertical-align: top;\n",
       "    }\n",
       "\n",
       "    .dataframe thead th {\n",
       "        text-align: right;\n",
       "    }\n",
       "</style>\n",
       "<table border=\"1\" class=\"dataframe\">\n",
       "  <thead>\n",
       "    <tr style=\"text-align: right;\">\n",
       "      <th></th>\n",
       "      <th>yr_built</th>\n",
       "      <th>bedrooms</th>\n",
       "      <th>postcode</th>\n",
       "      <th>area</th>\n",
       "      <th>bathrooms</th>\n",
       "      <th>condition</th>\n",
       "      <th>grade</th>\n",
       "      <th>sqft_living</th>\n",
       "      <th>sqft_lot</th>\n",
       "      <th>sqft_basement</th>\n",
       "      <th>sqft_living15</th>\n",
       "      <th>sqft_lot15</th>\n",
       "      <th>waterfront</th>\n",
       "      <th>view</th>\n",
       "      <th>distance</th>\n",
       "      <th>year</th>\n",
       "      <th>price</th>\n",
       "      <th>prediction</th>\n",
       "    </tr>\n",
       "  </thead>\n",
       "  <tbody>\n",
       "    <tr>\n",
       "      <th>0</th>\n",
       "      <td>1970.0</td>\n",
       "      <td>3.0</td>\n",
       "      <td>468060.054400</td>\n",
       "      <td>460458.275887</td>\n",
       "      <td>1.75</td>\n",
       "      <td>4</td>\n",
       "      <td>7.0</td>\n",
       "      <td>1590.0</td>\n",
       "      <td>20065.0</td>\n",
       "      <td>60.0</td>\n",
       "      <td>1675.0</td>\n",
       "      <td>17597.0</td>\n",
       "      <td>0.0</td>\n",
       "      <td>0.0</td>\n",
       "      <td>10.90</td>\n",
       "      <td>2009</td>\n",
       "      <td>300400.0</td>\n",
       "      <td>341136.698488</td>\n",
       "    </tr>\n",
       "    <tr>\n",
       "      <th>1</th>\n",
       "      <td>1940.0</td>\n",
       "      <td>4.0</td>\n",
       "      <td>600905.249689</td>\n",
       "      <td>600905.249689</td>\n",
       "      <td>2.00</td>\n",
       "      <td>4</td>\n",
       "      <td>7.0</td>\n",
       "      <td>1940.0</td>\n",
       "      <td>5798.0</td>\n",
       "      <td>190.0</td>\n",
       "      <td>1797.0</td>\n",
       "      <td>5213.0</td>\n",
       "      <td>0.0</td>\n",
       "      <td>0.0</td>\n",
       "      <td>1.00</td>\n",
       "      <td>2010</td>\n",
       "      <td>629700.0</td>\n",
       "      <td>620312.173953</td>\n",
       "    </tr>\n",
       "    <tr>\n",
       "      <th>2</th>\n",
       "      <td>1967.0</td>\n",
       "      <td>3.0</td>\n",
       "      <td>597736.921703</td>\n",
       "      <td>559758.748750</td>\n",
       "      <td>2.00</td>\n",
       "      <td>4</td>\n",
       "      <td>7.0</td>\n",
       "      <td>1555.0</td>\n",
       "      <td>8130.0</td>\n",
       "      <td>190.0</td>\n",
       "      <td>1814.0</td>\n",
       "      <td>8275.0</td>\n",
       "      <td>0.0</td>\n",
       "      <td>0.0</td>\n",
       "      <td>10.46</td>\n",
       "      <td>2010</td>\n",
       "      <td>425900.0</td>\n",
       "      <td>450438.854789</td>\n",
       "    </tr>\n",
       "    <tr>\n",
       "      <th>3</th>\n",
       "      <td>1977.0</td>\n",
       "      <td>4.0</td>\n",
       "      <td>468060.054400</td>\n",
       "      <td>472614.500499</td>\n",
       "      <td>2.00</td>\n",
       "      <td>3</td>\n",
       "      <td>8.0</td>\n",
       "      <td>2640.0</td>\n",
       "      <td>11091.0</td>\n",
       "      <td>1040.0</td>\n",
       "      <td>2342.0</td>\n",
       "      <td>10377.0</td>\n",
       "      <td>0.0</td>\n",
       "      <td>0.0</td>\n",
       "      <td>11.71</td>\n",
       "      <td>2011</td>\n",
       "      <td>486300.0</td>\n",
       "      <td>491924.641801</td>\n",
       "    </tr>\n",
       "    <tr>\n",
       "      <th>4</th>\n",
       "      <td>1980.0</td>\n",
       "      <td>3.0</td>\n",
       "      <td>597736.921703</td>\n",
       "      <td>579251.885253</td>\n",
       "      <td>2.00</td>\n",
       "      <td>4</td>\n",
       "      <td>7.0</td>\n",
       "      <td>1590.0</td>\n",
       "      <td>8421.0</td>\n",
       "      <td>330.0</td>\n",
       "      <td>1722.0</td>\n",
       "      <td>8486.0</td>\n",
       "      <td>0.0</td>\n",
       "      <td>0.0</td>\n",
       "      <td>9.68</td>\n",
       "      <td>2014</td>\n",
       "      <td>527500.0</td>\n",
       "      <td>510616.017204</td>\n",
       "    </tr>\n",
       "  </tbody>\n",
       "</table>\n",
       "</div>"
      ],
      "text/plain": [
       "   yr_built  bedrooms       postcode           area  bathrooms  condition  \\\n",
       "0    1970.0       3.0  468060.054400  460458.275887       1.75          4   \n",
       "1    1940.0       4.0  600905.249689  600905.249689       2.00          4   \n",
       "2    1967.0       3.0  597736.921703  559758.748750       2.00          4   \n",
       "3    1977.0       4.0  468060.054400  472614.500499       2.00          3   \n",
       "4    1980.0       3.0  597736.921703  579251.885253       2.00          4   \n",
       "\n",
       "   grade  sqft_living  sqft_lot  sqft_basement  sqft_living15  sqft_lot15  \\\n",
       "0    7.0       1590.0   20065.0           60.0         1675.0     17597.0   \n",
       "1    7.0       1940.0    5798.0          190.0         1797.0      5213.0   \n",
       "2    7.0       1555.0    8130.0          190.0         1814.0      8275.0   \n",
       "3    8.0       2640.0   11091.0         1040.0         2342.0     10377.0   \n",
       "4    7.0       1590.0    8421.0          330.0         1722.0      8486.0   \n",
       "\n",
       "   waterfront  view  distance  year     price     prediction  \n",
       "0         0.0   0.0     10.90  2009  300400.0  341136.698488  \n",
       "1         0.0   0.0      1.00  2010  629700.0  620312.173953  \n",
       "2         0.0   0.0     10.46  2010  425900.0  450438.854789  \n",
       "3         0.0   0.0     11.71  2011  486300.0  491924.641801  \n",
       "4         0.0   0.0      9.68  2014  527500.0  510616.017204  "
      ]
     },
     "metadata": {},
     "output_type": "display_data"
    }
   ],
   "source": [
    "uploaded_model = mlflow.pyfunc.load_model(model_uri=MODEL_S3_URI)\n",
    "\n",
    "# Read features and targets of the testing data\n",
    "# We generated \"1_0_X.parquet\" and \"1_0_y.csv\" in advance by pre-processing the raw data in raw_data/reference/test using the etl function from the second week\n",
    "test_x = pd.read_parquet(WORKING_DIR / FEATURE_STORE_DIR_NAME / \"1_0_X.parquet\")\n",
    "test_y = pd.read_csv(\n",
    "    WORKING_DIR / FEATURE_STORE_DIR_NAME / \"1_0_y.csv\", index_col=False\n",
    ")\n",
    "\n",
    "current_ref_df = prep_ref(x=test_x, y=test_y, model=uploaded_model)\n",
    "assert current_ref_df.shape == (\n",
    "    2762,\n",
    "    18,\n",
    "), f\"The shape of the reference DataFrame is incorrect\"\n",
    "assert set(current_ref_df.columns) == set(\n",
    "    [\n",
    "        \"yr_built\",\n",
    "        \"bedrooms\",\n",
    "        \"postcode\",\n",
    "        \"area\",\n",
    "        \"bathrooms\",\n",
    "        \"condition\",\n",
    "        \"grade\",\n",
    "        \"sqft_living\",\n",
    "        \"sqft_lot\",\n",
    "        \"sqft_basement\",\n",
    "        \"sqft_living15\",\n",
    "        \"sqft_lot15\",\n",
    "        \"waterfront\",\n",
    "        \"view\",\n",
    "        \"distance\",\n",
    "        \"year\",\n",
    "        \"price\",\n",
    "        \"prediction\",\n",
    "    ]\n",
    "), \"The columns of the reference DataFrame are incorrect\"\n",
    "\n",
    "display(current_ref_df.head())"
   ]
  },
  {
   "cell_type": "markdown",
   "metadata": {
    "deletable": false,
    "editable": false,
    "nbgrader": {
     "cell_type": "markdown",
     "checksum": "6a2936d8bf5edf5544e570af07c7f8ce",
     "grade": false,
     "grade_id": "cell-b1c775ac950fd812",
     "locked": true,
     "schema_version": 3,
     "solution": false,
     "task": false
    }
   },
   "source": [
    "Expected output:\n",
    "\n",
    "<img src=\"./images/ref_data.png\" />"
   ]
  },
  {
   "cell_type": "markdown",
   "metadata": {
    "deletable": false,
    "editable": false,
    "nbgrader": {
     "cell_type": "markdown",
     "checksum": "6fdde94a5990042e19ade8967549d74e",
     "grade": false,
     "grade_id": "cell-2440da21de762cc0",
     "locked": true,
     "schema_version": 3,
     "solution": false,
     "task": false
    }
   },
   "source": [
    "Now, please complete the `upload_reference_data` function that uploads the reference data (a Parquet file) to MLflow. The file should be uploaded to a directory named \"reference_data\" under the MLflow Run that trains a registered model whose name is `registered_model_name` and whose version is `model_version`. `registered_model_name` and `model_version` are arguments given to the function.\n",
    "\n",
    "<img src=\"./images/ref_data_mlflow_run.png\" width=1000 />\n",
    "\n",
    "**Hints**:\n",
    "- [mlflow.start_run](https://mlflow.org/docs/2.9.2/python_api/mlflow.html#mlflow.start_run)\n",
    "- [mlflow.log_artifact](https://mlflow.org/docs/2.9.2/python_api/mlflow.html#mlflow.log_artifact)\n",
    "- [MlflowClient.get_model_version](https://mlflow.org/docs/2.9.2/python_api/mlflow.client.html#mlflow.client.MlflowClient.get_model_version)"
   ]
  },
  {
   "cell_type": "code",
   "execution_count": 23,
   "metadata": {
    "deletable": false,
    "nbgrader": {
     "cell_type": "code",
     "checksum": "dc259e41d491e32a0aefb20883ea3f4c",
     "grade": false,
     "grade_id": "cell-ed64855a35bf4d14",
     "locked": false,
     "schema_version": 3,
     "solution": true,
     "task": false
    }
   },
   "outputs": [],
   "source": [
    "def upload_reference_data(registered_model_name: str, model_version: str, x: pd.DataFrame, y: pd.DataFrame):\n",
    "    \"\"\"\n",
    "    Prepare a reference data and store it under an MLflow Run as an artifact (a Parquet file).\n",
    "    Args:\n",
    "        registered_model_name and model_version: The name and version of the registered model. The reference data should be uploaded to the MLflow Run that trains this model\n",
    "        x: A feature DataFrame\n",
    "        y: A target DataFrame, x and y are used to generate the reference data\n",
    "    \"\"\"\n",
    "    # Prepare the reference data and save it locally first\n",
    "    loaded_model = mlflow.pyfunc.load_model(model_uri=f\"models:/{registered_model_name}/{model_version}\")\n",
    "    reference_df = prep_ref(x=x, y=y, model=loaded_model)\n",
    "    reference_df.to_parquet(\"reference.parquet\")\n",
    "\n",
    "    artifact_path = \"reference_data\" # Use this as the run-relative artifact path when uploading the Parquet file of the reference data\n",
    "    mlflow_client = MlflowClient()\n",
    "\n",
    "    # TODO:\n",
    "    # 1. Find the MLflow Run ID based on the given name and version of the registered model\n",
    "    # 2. Upload the local reference.parquet to MLflow under the Run with the given mlflow_run_id\n",
    "    ### START CODE HERE\n",
    "    # 1. Get the run ID associated with the registered model version\n",
    "    model_version_info = mlflow_client.get_model_version(registered_model_name, model_version)\n",
    "    run_id = model_version_info.run_id\n",
    "\n",
    "    # 2. Log the reference.parquet file as an artifact in the correct run\n",
    "    with mlflow.start_run(run_id=run_id):  # Start the run using the identified run_id\n",
    "        mlflow.log_artifact(\"reference.parquet\", artifact_path=artifact_path)\n",
    "\n",
    "    ### END CODE HERE"
   ]
  },
  {
   "cell_type": "markdown",
   "metadata": {
    "deletable": false,
    "editable": false,
    "nbgrader": {
     "cell_type": "markdown",
     "checksum": "2941638d513a843b5ba69eb9c083e5ab",
     "grade": false,
     "grade_id": "cell-439f8e68f7586673",
     "locked": true,
     "schema_version": 3,
     "solution": false,
     "task": false
    }
   },
   "source": [
    "Let's test the `upload_reference_data` using the next code cell. You should see a file named \"reference.parquet\" is uploaded to a folder named \"reference_data\" under the MLflow Run that trains your model, like the example screenshot given in the instructions. (You probably need to update the MLflow UI to see the change.)"
   ]
  },
  {
   "cell_type": "code",
   "execution_count": 24,
   "metadata": {
    "deletable": false,
    "editable": false,
    "nbgrader": {
     "cell_type": "code",
     "checksum": "3e4c8741eaa55b6e3519c2d39e5650cb",
     "grade": true,
     "grade_id": "cell-42e63e1dd48a6635",
     "locked": true,
     "points": 0.5,
     "schema_version": 3,
     "solution": false,
     "task": false
    }
   },
   "outputs": [
    {
     "data": {
      "application/vnd.jupyter.widget-view+json": {
       "model_id": "7aa769ca04324ed2b02fe5e78e9fa2a2",
       "version_major": 2,
       "version_minor": 0
      },
      "text/plain": [
       "Downloading artifacts:   0%|          | 0/5 [00:00<?, ?it/s]"
      ]
     },
     "metadata": {},
     "output_type": "display_data"
    }
   ],
   "source": [
    "Path(\"reference.parquet\").unlink(missing_ok=True) # Delete the old reference.parquet file\n",
    "open(\"reference.parquet\", \"w\").close() # Create a new one and make sure we have the write permission to the file\n",
    "\n",
    "upload_reference_data(\n",
    "    registered_model_name=REGISTERED_MODEL_NAME,\n",
    "    model_version=MODEL_VERSION,\n",
    "    x=test_x,\n",
    "    y=test_y,\n",
    ")\n"
   ]
  },
  {
   "cell_type": "markdown",
   "metadata": {
    "deletable": false,
    "editable": false,
    "nbgrader": {
     "cell_type": "markdown",
     "checksum": "2e48dbb9248503b019d7836732210c0a",
     "grade": false,
     "grade_id": "cell-9775ad0a5ce9ee72",
     "locked": true,
     "schema_version": 3,
     "solution": false,
     "task": false
    }
   },
   "source": [
    "### 3b) Collect model inputs and outputs and combine them with ground truth\n",
    "So far you've prepared the reference data for your model. The next step is to collect the production data so that we can monitor how the model performs on real-world data. Similar to reference data, the production data also contains: 1) model inputs (the features on which it makes predictions), 2) model outputs (the predictions), and 3) the ground truth of the inputs.\n",
    "\n",
    "The inference service running on KServe receives inputs (features) and returns outputs (predictions). Your task is to complete the `collect_input` function that performs the following tasks:\n",
    "1. Given an HTTP response returned by the inference service, extracting the predictions from the response and adding the predictions to the input feature DataFrame.\n",
    "1. Saving the DataFrame containing both inputs and predictions to a CSV file. The input DataFrame has an index named \"request_id\", please include the index when you save the DataFrame to a CSV file. If the file already exists, the function appends the data to the existing file; otherwise, it creates a new file.\n",
    "\n",
    "**Hints**:\n",
    "- [os.path.isfile](https://docs.python.org/3.10/library/os.path.html#os.path.isfile)\n",
    "- [pandas.DataFrame.to_csv](https://pandas.pydata.org/pandas-docs/version/1.5/reference/api/pandas.DataFrame.to_csv.html) (The `index_label`, `mode`, and `header` arguments might be useful.)"
   ]
  },
  {
   "cell_type": "code",
   "execution_count": 25,
   "metadata": {
    "deletable": false,
    "nbgrader": {
     "cell_type": "code",
     "checksum": "9d9711533b3b459df9655ed07215cf38",
     "grade": false,
     "grade_id": "cell-c0b0f7dc70ed3a13",
     "locked": false,
     "schema_version": 3,
     "solution": true,
     "task": false
    }
   },
   "outputs": [],
   "source": [
    "def collect_inputs_outputs(input_df: pd.DataFrame, response: requests.Response, inputs_outputs_file_path: str):\n",
    "    \"\"\"\n",
    "    Adds the predictions returned from a web API response to an input DataFrame and saves the combined data (input features and predictions) to a CSV file\n",
    "    Args:\n",
    "        input_df: Input (feature) DataFrame\n",
    "        response: The response (containing predictions) returned by an inference service\n",
    "        inputs_outputs_file: The CSV file of the combined data, i.e., inputs(features)+outputs(predictions)\n",
    "    \"\"\"\n",
    "    # Extract predictions and add them to the input DataFrame. We assume the predictions and inputs are aligned\n",
    "    y_pred_list = response.json()[\"outputs\"][0][\"data\"]\n",
    "    input_df[\"prediction\"] = y_pred_list\n",
    "    \n",
    "    ### START CODE HERE\n",
    "    # Save the DataFrame to a CSV file, either by appending or creating a new file\n",
    "    if os.path.isfile(inputs_outputs_file_path):\n",
    "        # File exists, append without writing the header\n",
    "        input_df.to_csv(inputs_outputs_file_path, mode=\"a\", header=False, index=True, index_label=\"request_id\")\n",
    "    else:\n",
    "        # File does not exist, create a new file with the header\n",
    "        input_df.to_csv(inputs_outputs_file_path, mode=\"w\", header=True, index=True, index_label=\"request_id\")\n",
    "    ### END CODE HERE"
   ]
  },
  {
   "cell_type": "markdown",
   "metadata": {
    "deletable": false,
    "editable": false,
    "nbgrader": {
     "cell_type": "markdown",
     "checksum": "2759a0b67072a3190962b4681fc3c510",
     "grade": false,
     "grade_id": "cell-fe5f2cd726632408",
     "locked": true,
     "schema_version": 3,
     "solution": false,
     "task": false
    }
   },
   "source": [
    "Let's test the `collect_inputs_outputs` function by running the following two code cells. In the next code cell, we'll simulate requests using the data from 2016, 2017, and 2018 and send these requests to the inference service. Each request contains 300 inputs (one feature row is one input). The data used for generating requests is saved in the \"request_data\" folder, which was generated beforehand so you don't need to worry about it. \n",
    "\n",
    "The next code cell should take less than 1min to complete. "
   ]
  },
  {
   "cell_type": "code",
   "execution_count": 26,
   "metadata": {
    "deletable": false,
    "editable": false,
    "nbgrader": {
     "cell_type": "code",
     "checksum": "5431f7938ee835daa7129165175c2bcc",
     "grade": false,
     "grade_id": "cell-19055c9c0548c4f8",
     "locked": true,
     "schema_version": 3,
     "solution": false,
     "task": false
    }
   },
   "outputs": [],
   "source": [
    "# The collected inputs and outputs for each quarter are saved in a separate file (inputs_outputs/<year>_<quarter>.csv)\n",
    "# We collect data for years 17, 18, and 19. This data will be used in some other tasks later\n",
    "for year in [2016, 2017, 2018]:\n",
    "    for quarter in range(1, 5):\n",
    "        # Delete possible existing inputs_outputs files for consistency\n",
    "        inputs_outputs_path = (\n",
    "            WORKING_DIR / INPUTS_OUTPUTS_LOCAL_DIR_NAME / f\"{year}_{quarter}.csv\"\n",
    "        )\n",
    "        if os.path.isfile(inputs_outputs_path):\n",
    "            os.remove(inputs_outputs_path)\n",
    "\n",
    "        inputs_df = pd.read_parquet(\n",
    "            WORKING_DIR / \"request_data\" / f\"{year}_{quarter}_X.parquet\"\n",
    "        )\n",
    "\n",
    "        # Each request contains 300 inputs\n",
    "        chunk_size = 300\n",
    "\n",
    "        for i in range(0, inputs_df.shape[0], chunk_size):\n",
    "            request_df = inputs_df.iloc[i : i + chunk_size]\n",
    "            encoded_request_data = PandasCodec.encode_request(request_df).dict()\n",
    "            response = send_requests(\n",
    "                model_name=\"house-price\", input=encoded_request_data[\"inputs\"], count=1\n",
    "            )\n",
    "            collect_inputs_outputs(request_df, response, str(inputs_outputs_path))"
   ]
  },
  {
   "cell_type": "code",
   "execution_count": 27,
   "metadata": {
    "deletable": false,
    "editable": false,
    "nbgrader": {
     "cell_type": "code",
     "checksum": "dc4c07fd0778f782468df135f1b98bf8",
     "grade": true,
     "grade_id": "cell-19cf2612bc6eed3a",
     "locked": true,
     "points": 0.5,
     "schema_version": 3,
     "solution": false,
     "task": false
    }
   },
   "outputs": [],
   "source": [
    "# Check the shape of the collected inputs-outputs DataFrames\n",
    "year = 2016\n",
    "expected_row_count = [718, 796, 727, 972]\n",
    "for quarter in range(1, 5):\n",
    "    inputs_outputs_df = pd.read_csv(\n",
    "        WORKING_DIR / INPUTS_OUTPUTS_LOCAL_DIR_NAME / f\"{year}_{quarter}.csv\",\n",
    "        index_col=\"request_id\",\n",
    "    )\n",
    "    assert inputs_outputs_df.shape == (expected_row_count[quarter-1], 17), f\"The inputs-outputs DataFrame for quarter {quarter}, {year} is incorrect\""
   ]
  },
  {
   "cell_type": "markdown",
   "metadata": {
    "deletable": false,
    "editable": false,
    "nbgrader": {
     "cell_type": "markdown",
     "checksum": "29aea9996eff0214d0f0f1cb8844142a",
     "grade": false,
     "grade_id": "cell-d990d3f6cc7e31c8",
     "locked": true,
     "schema_version": 3,
     "solution": false,
     "task": false
    }
   },
   "source": [
    "We have collected model inputs and outputs, let's look at how the collected data looks like."
   ]
  },
  {
   "cell_type": "code",
   "execution_count": 28,
   "metadata": {
    "deletable": false,
    "editable": false,
    "nbgrader": {
     "cell_type": "code",
     "checksum": "5e43a9245a32abdae4492c41eb67c1a4",
     "grade": false,
     "grade_id": "cell-9550a5cf4bcd86d2",
     "locked": true,
     "schema_version": 3,
     "solution": false,
     "task": false
    }
   },
   "outputs": [
    {
     "data": {
      "text/html": [
       "<div>\n",
       "<style scoped>\n",
       "    .dataframe tbody tr th:only-of-type {\n",
       "        vertical-align: middle;\n",
       "    }\n",
       "\n",
       "    .dataframe tbody tr th {\n",
       "        vertical-align: top;\n",
       "    }\n",
       "\n",
       "    .dataframe thead th {\n",
       "        text-align: right;\n",
       "    }\n",
       "</style>\n",
       "<table border=\"1\" class=\"dataframe\">\n",
       "  <thead>\n",
       "    <tr style=\"text-align: right;\">\n",
       "      <th></th>\n",
       "      <th>yr_built</th>\n",
       "      <th>bedrooms</th>\n",
       "      <th>postcode</th>\n",
       "      <th>area</th>\n",
       "      <th>bathrooms</th>\n",
       "      <th>condition</th>\n",
       "      <th>grade</th>\n",
       "      <th>sqft_living</th>\n",
       "      <th>sqft_lot</th>\n",
       "      <th>sqft_basement</th>\n",
       "      <th>sqft_living15</th>\n",
       "      <th>sqft_lot15</th>\n",
       "      <th>waterfront</th>\n",
       "      <th>view</th>\n",
       "      <th>distance</th>\n",
       "      <th>year</th>\n",
       "      <th>prediction</th>\n",
       "    </tr>\n",
       "    <tr>\n",
       "      <th>request_id</th>\n",
       "      <th></th>\n",
       "      <th></th>\n",
       "      <th></th>\n",
       "      <th></th>\n",
       "      <th></th>\n",
       "      <th></th>\n",
       "      <th></th>\n",
       "      <th></th>\n",
       "      <th></th>\n",
       "      <th></th>\n",
       "      <th></th>\n",
       "      <th></th>\n",
       "      <th></th>\n",
       "      <th></th>\n",
       "      <th></th>\n",
       "      <th></th>\n",
       "      <th></th>\n",
       "    </tr>\n",
       "  </thead>\n",
       "  <tbody>\n",
       "    <tr>\n",
       "      <th>6dba2e83-ece8-4950-850b-26bdbe3b788f</th>\n",
       "      <td>2014.0</td>\n",
       "      <td>4.0</td>\n",
       "      <td>554723.808334</td>\n",
       "      <td>566238.286455</td>\n",
       "      <td>3.0</td>\n",
       "      <td>3</td>\n",
       "      <td>9.0</td>\n",
       "      <td>3180.0</td>\n",
       "      <td>6098.0</td>\n",
       "      <td>10.0</td>\n",
       "      <td>2760.0</td>\n",
       "      <td>5602.0</td>\n",
       "      <td>0.0</td>\n",
       "      <td>0.0</td>\n",
       "      <td>11.72</td>\n",
       "      <td>2016</td>\n",
       "      <td>740576.785798</td>\n",
       "    </tr>\n",
       "    <tr>\n",
       "      <th>e9c5431e-5b9a-4dc6-abd7-6b279c1d49cc</th>\n",
       "      <td>1972.0</td>\n",
       "      <td>3.0</td>\n",
       "      <td>468060.054400</td>\n",
       "      <td>473825.061019</td>\n",
       "      <td>2.0</td>\n",
       "      <td>3</td>\n",
       "      <td>7.0</td>\n",
       "      <td>1760.0</td>\n",
       "      <td>6296.0</td>\n",
       "      <td>560.0</td>\n",
       "      <td>1694.0</td>\n",
       "      <td>6225.0</td>\n",
       "      <td>0.0</td>\n",
       "      <td>0.0</td>\n",
       "      <td>9.73</td>\n",
       "      <td>2016</td>\n",
       "      <td>412976.922068</td>\n",
       "    </tr>\n",
       "    <tr>\n",
       "      <th>c324f1a4-9fe6-4ab3-832c-3fbc4e3571b7</th>\n",
       "      <td>1986.0</td>\n",
       "      <td>4.0</td>\n",
       "      <td>554723.808334</td>\n",
       "      <td>534407.105101</td>\n",
       "      <td>2.0</td>\n",
       "      <td>4</td>\n",
       "      <td>9.0</td>\n",
       "      <td>2795.0</td>\n",
       "      <td>13426.0</td>\n",
       "      <td>0.0</td>\n",
       "      <td>2760.0</td>\n",
       "      <td>13107.0</td>\n",
       "      <td>0.0</td>\n",
       "      <td>0.0</td>\n",
       "      <td>12.94</td>\n",
       "      <td>2016</td>\n",
       "      <td>698439.798661</td>\n",
       "    </tr>\n",
       "    <tr>\n",
       "      <th>f0aa3ddb-ba19-4649-9c6a-e050d0e381ac</th>\n",
       "      <td>1979.0</td>\n",
       "      <td>4.0</td>\n",
       "      <td>468060.054400</td>\n",
       "      <td>473598.958080</td>\n",
       "      <td>2.5</td>\n",
       "      <td>4</td>\n",
       "      <td>8.0</td>\n",
       "      <td>2430.0</td>\n",
       "      <td>9383.0</td>\n",
       "      <td>860.0</td>\n",
       "      <td>2112.0</td>\n",
       "      <td>9577.0</td>\n",
       "      <td>0.0</td>\n",
       "      <td>0.0</td>\n",
       "      <td>10.42</td>\n",
       "      <td>2016</td>\n",
       "      <td>550642.388739</td>\n",
       "    </tr>\n",
       "    <tr>\n",
       "      <th>e24b4c37-f024-47c2-a5c3-8f0eca9b3abe</th>\n",
       "      <td>2005.0</td>\n",
       "      <td>4.0</td>\n",
       "      <td>574729.392575</td>\n",
       "      <td>562650.254282</td>\n",
       "      <td>2.0</td>\n",
       "      <td>3</td>\n",
       "      <td>8.0</td>\n",
       "      <td>2220.0</td>\n",
       "      <td>4136.0</td>\n",
       "      <td>30.0</td>\n",
       "      <td>1952.0</td>\n",
       "      <td>4140.0</td>\n",
       "      <td>0.0</td>\n",
       "      <td>0.0</td>\n",
       "      <td>14.41</td>\n",
       "      <td>2016</td>\n",
       "      <td>548954.466899</td>\n",
       "    </tr>\n",
       "  </tbody>\n",
       "</table>\n",
       "</div>"
      ],
      "text/plain": [
       "                                      yr_built  bedrooms       postcode  \\\n",
       "request_id                                                                \n",
       "6dba2e83-ece8-4950-850b-26bdbe3b788f    2014.0       4.0  554723.808334   \n",
       "e9c5431e-5b9a-4dc6-abd7-6b279c1d49cc    1972.0       3.0  468060.054400   \n",
       "c324f1a4-9fe6-4ab3-832c-3fbc4e3571b7    1986.0       4.0  554723.808334   \n",
       "f0aa3ddb-ba19-4649-9c6a-e050d0e381ac    1979.0       4.0  468060.054400   \n",
       "e24b4c37-f024-47c2-a5c3-8f0eca9b3abe    2005.0       4.0  574729.392575   \n",
       "\n",
       "                                               area  bathrooms  condition  \\\n",
       "request_id                                                                  \n",
       "6dba2e83-ece8-4950-850b-26bdbe3b788f  566238.286455        3.0          3   \n",
       "e9c5431e-5b9a-4dc6-abd7-6b279c1d49cc  473825.061019        2.0          3   \n",
       "c324f1a4-9fe6-4ab3-832c-3fbc4e3571b7  534407.105101        2.0          4   \n",
       "f0aa3ddb-ba19-4649-9c6a-e050d0e381ac  473598.958080        2.5          4   \n",
       "e24b4c37-f024-47c2-a5c3-8f0eca9b3abe  562650.254282        2.0          3   \n",
       "\n",
       "                                      grade  sqft_living  sqft_lot  \\\n",
       "request_id                                                           \n",
       "6dba2e83-ece8-4950-850b-26bdbe3b788f    9.0       3180.0    6098.0   \n",
       "e9c5431e-5b9a-4dc6-abd7-6b279c1d49cc    7.0       1760.0    6296.0   \n",
       "c324f1a4-9fe6-4ab3-832c-3fbc4e3571b7    9.0       2795.0   13426.0   \n",
       "f0aa3ddb-ba19-4649-9c6a-e050d0e381ac    8.0       2430.0    9383.0   \n",
       "e24b4c37-f024-47c2-a5c3-8f0eca9b3abe    8.0       2220.0    4136.0   \n",
       "\n",
       "                                      sqft_basement  sqft_living15  \\\n",
       "request_id                                                           \n",
       "6dba2e83-ece8-4950-850b-26bdbe3b788f           10.0         2760.0   \n",
       "e9c5431e-5b9a-4dc6-abd7-6b279c1d49cc          560.0         1694.0   \n",
       "c324f1a4-9fe6-4ab3-832c-3fbc4e3571b7            0.0         2760.0   \n",
       "f0aa3ddb-ba19-4649-9c6a-e050d0e381ac          860.0         2112.0   \n",
       "e24b4c37-f024-47c2-a5c3-8f0eca9b3abe           30.0         1952.0   \n",
       "\n",
       "                                      sqft_lot15  waterfront  view  distance  \\\n",
       "request_id                                                                     \n",
       "6dba2e83-ece8-4950-850b-26bdbe3b788f      5602.0         0.0   0.0     11.72   \n",
       "e9c5431e-5b9a-4dc6-abd7-6b279c1d49cc      6225.0         0.0   0.0      9.73   \n",
       "c324f1a4-9fe6-4ab3-832c-3fbc4e3571b7     13107.0         0.0   0.0     12.94   \n",
       "f0aa3ddb-ba19-4649-9c6a-e050d0e381ac      9577.0         0.0   0.0     10.42   \n",
       "e24b4c37-f024-47c2-a5c3-8f0eca9b3abe      4140.0         0.0   0.0     14.41   \n",
       "\n",
       "                                      year     prediction  \n",
       "request_id                                                 \n",
       "6dba2e83-ece8-4950-850b-26bdbe3b788f  2016  740576.785798  \n",
       "e9c5431e-5b9a-4dc6-abd7-6b279c1d49cc  2016  412976.922068  \n",
       "c324f1a4-9fe6-4ab3-832c-3fbc4e3571b7  2016  698439.798661  \n",
       "f0aa3ddb-ba19-4649-9c6a-e050d0e381ac  2016  550642.388739  \n",
       "e24b4c37-f024-47c2-a5c3-8f0eca9b3abe  2016  548954.466899  "
      ]
     },
     "execution_count": 28,
     "metadata": {},
     "output_type": "execute_result"
    }
   ],
   "source": [
    "inputs_outputs_sample_df = pd.read_csv(\n",
    "    WORKING_DIR / INPUTS_OUTPUTS_LOCAL_DIR_NAME / f\"2016_1.csv\", index_col=\"request_id\"\n",
    ")\n",
    "inputs_outputs_sample_df.head()"
   ]
  },
  {
   "cell_type": "markdown",
   "metadata": {
    "deletable": false,
    "editable": false,
    "nbgrader": {
     "cell_type": "markdown",
     "checksum": "c337ae1410c7c39a513152041c94f631",
     "grade": false,
     "grade_id": "cell-76ac104b2be19031",
     "locked": true,
     "schema_version": 3,
     "solution": false,
     "task": false
    }
   },
   "source": [
    "Expected output:\n",
    "\n",
    "<img src=\"./images/inputs_outputs_sample.png\" />\n",
    "\n",
    "As we can see, the collected data includes the features that the model receives as inputs and the predictions the model returns as outputs. In addition, the DatFrame also has an index named \"request_id\". This index will be used to combine the ground truth (i.e., targets) with the inputs. \n",
    "\n",
    "Let's assume we've already collected the ground truth for each quarter of 2016 and saved them as CSV files in the \"ground_truth\" directory. The ground_truth data also has \"request_id\" index. Now, please complete the `combine_ground_truth` that performs the following tasks:\n",
    "1. Reading inputs+outputs data (in the \"inputs_outputs\" directory) and the ground truth data from their files as DataFrames.\n",
    "1. Using the \"request_id\" index to combine ground truth DataFrame with the inputs+outputs DataFrame. Please note that the ground truth may be collected in a different order than the corresponding inputs. \n",
    "1. Removing the \"request_id\" index from the combined DataFrame as the index may cause some issues with Evidently. \n",
    "\n",
    "The function should return a DataFrame the contains model inputs, outputs, and the ground truth. \n",
    "\n",
    "**Hint**:  The [pandas.DataFrame.merge](https://pandas.pydata.org/pandas-docs/version/1.5/reference/api/pandas.DataFrame.merge.html) function may be useful. "
   ]
  },
  {
   "cell_type": "code",
   "execution_count": 29,
   "metadata": {
    "deletable": false,
    "nbgrader": {
     "cell_type": "code",
     "checksum": "7c71899bc25591c0b2b838e3ffb4e84e",
     "grade": false,
     "grade_id": "cell-a59471d72c5b9275",
     "locked": false,
     "schema_version": 3,
     "solution": true,
     "task": false
    }
   },
   "outputs": [],
   "source": [
    "def combine_ground_truth(year: int, quarter: int) -> pd.DataFrame:\n",
    "    \"\"\"\n",
    "    Combine ground truth with the model inputs+outputs based on the \"request_id\" index\n",
    "    Args:\n",
    "        year and quarter: The time range of the data to be combined\n",
    "    \"\"\"\n",
    "    \n",
    "    # The inputs+outputs DataFrame\n",
    "    inputs_outputs_df = pd.read_csv(\n",
    "        WORKING_DIR / INPUTS_OUTPUTS_LOCAL_DIR_NAME / f\"{year}_{quarter}.csv\",\n",
    "        index_col=\"request_id\",\n",
    "    )\n",
    "\n",
    "    # The ground truth DataFrame\n",
    "    ground_truth_df = pd.read_csv(\n",
    "        WORKING_DIR / GROUND_TRUTH_LOCAL_DIR_NAME / f\"{year}_{quarter}_y.csv\",\n",
    "        index_col=\"request_id\",\n",
    "    )\n",
    "\n",
    "    ### START CODE HERE\n",
    "    # Combine the two DataFrames based on the \"request_id\" index\n",
    "    combined_df = inputs_outputs_df.merge(ground_truth_df, left_index=True, right_index=True)\n",
    "\n",
    "    # Remove the \"request_id\" index\n",
    "    combined_df = combined_df.reset_index(drop=True)\n",
    "    return combined_df\n",
    "    ### END CODE HERE"
   ]
  },
  {
   "cell_type": "code",
   "execution_count": 30,
   "metadata": {
    "deletable": false,
    "editable": false,
    "nbgrader": {
     "cell_type": "code",
     "checksum": "3bcc70631110fe5a959699c979efbe56",
     "grade": true,
     "grade_id": "cell-1871bd20b03d8ab9",
     "locked": true,
     "points": 0.5,
     "schema_version": 3,
     "solution": false,
     "task": false
    }
   },
   "outputs": [],
   "source": [
    "# Check the shapes of the combined DataFrames (inputs+outputs+ground truth) are correct\n",
    "for quarter in range(1, 5):\n",
    "    prod_df = combine_ground_truth(year=2016, quarter=quarter)\n",
    "    assert prod_df.shape == (expected_row_count[quarter-1], 18), f\"The prod_df for quarter {quarter}, {year} is incorrect\""
   ]
  },
  {
   "cell_type": "markdown",
   "metadata": {
    "deletable": false,
    "editable": false,
    "nbgrader": {
     "cell_type": "markdown",
     "checksum": "c52e02bdd99ee8520891772eb00ad29f",
     "grade": false,
     "grade_id": "cell-3920b993eaaa306a",
     "locked": true,
     "schema_version": 3,
     "solution": false,
     "task": false
    }
   },
   "source": [
    "### 3c) Get on-production model version and the corresponding MLflow Running ID\n",
    "In reality, the on-production model is not fixed, new model version will be deployed to replace the old one. Please complete the `get_production_model_version` function that uses the name of the registered model to retrieve the on-production model version (the model that has a {\"stage\": \"Production\"} tag). You can assume that only one model for predicting house price can be in the \"Production\" stage at any given time. \n",
    "\n",
    "Hint: [MLflowClient.search_model_versions](https://mlflow.org/docs/2.9.2/python_api/mlflow.client.html#mlflow.client.MlflowClient.search_model_versions)"
   ]
  },
  {
   "cell_type": "code",
   "execution_count": 31,
   "metadata": {
    "deletable": false,
    "nbgrader": {
     "cell_type": "code",
     "checksum": "8cae4243635896d9f64ddb64e349dbdf",
     "grade": false,
     "grade_id": "cell-7180811f63ebdff6",
     "locked": false,
     "schema_version": 3,
     "solution": true,
     "task": false
    }
   },
   "outputs": [],
   "source": [
    "### START CODE HERE\n",
    "def get_production_model_version(registered_model_name: str) -> str:\n",
    "    \"\"\"\n",
    "    Retrieve the version of the on-production model for a given registered model.\n",
    "    \n",
    "    Args:\n",
    "        registered_model_name: The name of the registered model\n",
    "    \n",
    "    Returns:\n",
    "        The version of the on-production model as a string\n",
    "    \"\"\"\n",
    "\n",
    "    \n",
    "    try:\n",
    "        # Search for all versions of the given registered model\n",
    "        model_versions = mlflow_client.search_model_versions(f\"name='{registered_model_name}'\")\n",
    "        \n",
    "        # Find the version with stage \"Production\"\n",
    "        for mv in model_versions:\n",
    "            if mv.current_stage == \"Production\":\n",
    "                return mv.version\n",
    "        \n",
    "        # If no production model is found, raise an exception\n",
    "        raise ValueError(f\"No model is currently in 'Production' stage for {registered_model_name}\")\n",
    "\n",
    "    except Exception as e:\n",
    "        print(f\"Error retrieving production model version: {e}\")\n",
    "        raise\n",
    "\n",
    "### END CODE HERE"
   ]
  },
  {
   "cell_type": "code",
   "execution_count": 32,
   "metadata": {
    "deletable": false,
    "editable": false,
    "nbgrader": {
     "cell_type": "code",
     "checksum": "9007ab6a75d4cd387ab92dd3422f42df",
     "grade": true,
     "grade_id": "cell-45093c1ae12b7077",
     "locked": true,
     "points": 0.5,
     "schema_version": 3,
     "solution": false,
     "task": false
    }
   },
   "outputs": [
    {
     "name": "stdout",
     "output_type": "stream",
     "text": [
      "2\n"
     ]
    },
    {
     "ename": "AssertionError",
     "evalue": "The model version is incorrect",
     "output_type": "error",
     "traceback": [
      "\u001b[0;31m---------------------------------------------------------------------------\u001b[0m",
      "\u001b[0;31mAssertionError\u001b[0m                            Traceback (most recent call last)",
      "Cell \u001b[0;32mIn[32], line 4\u001b[0m\n\u001b[1;32m      1\u001b[0m model_version_output \u001b[38;5;241m=\u001b[39m get_production_model_version(REGISTERED_MODEL_NAME)\n\u001b[1;32m      2\u001b[0m \u001b[38;5;28mprint\u001b[39m(model_version_output)\n\u001b[0;32m----> 4\u001b[0m \u001b[38;5;28;01massert\u001b[39;00m model_version_output \u001b[38;5;241m==\u001b[39m \u001b[38;5;124mf\u001b[39m\u001b[38;5;124m\"\u001b[39m\u001b[38;5;132;01m{\u001b[39;00mREGISTERED_MODEL_NAME\u001b[38;5;132;01m}\u001b[39;00m\u001b[38;5;124m-\u001b[39m\u001b[38;5;132;01m{\u001b[39;00mMODEL_VERSION\u001b[38;5;132;01m}\u001b[39;00m\u001b[38;5;124m\"\u001b[39m, \u001b[38;5;124m\"\u001b[39m\u001b[38;5;124mThe model version is incorrect\u001b[39m\u001b[38;5;124m\"\u001b[39m\n",
      "\u001b[0;31mAssertionError\u001b[0m: The model version is incorrect"
     ]
    }
   ],
   "source": [
    "model_version_output = get_production_model_version(REGISTERED_MODEL_NAME)\n",
    "print(model_version_output)\n",
    "\n",
    "assert model_version_output == f\"{REGISTERED_MODEL_NAME}-{MODEL_VERSION}\", \"The model version is incorrect\""
   ]
  },
  {
   "cell_type": "markdown",
   "metadata": {
    "deletable": false,
    "editable": false,
    "nbgrader": {
     "cell_type": "markdown",
     "checksum": "2ac8d0b496c564caafef3762a161b604",
     "grade": false,
     "grade_id": "cell-f7ca24c38a96ac2c",
     "locked": true,
     "schema_version": 3,
     "solution": false,
     "task": false
    }
   },
   "source": [
    "### 3d) Monitor model performance and drift using Evidently\n",
    "First, complete the `prep_report` function that produces an Evidently Report using the following Metric Presets: `RegressionPreset`, `TargetDriftPreset` and `DataDriftPreset`. (Use the default configurations of these Presets.) The Report should also have a list of tags and a timestamp. The tags and timestamp are specified as the function's arguments. "
   ]
  },
  {
   "cell_type": "code",
   "execution_count": 33,
   "metadata": {
    "deletable": false,
    "nbgrader": {
     "cell_type": "code",
     "checksum": "7ed8661fa925c24a62b18116b5694f8a",
     "grade": false,
     "grade_id": "cell-f2f3c4c9f4ce0994",
     "locked": false,
     "schema_version": 3,
     "solution": true,
     "task": false
    }
   },
   "outputs": [],
   "source": [
    "def prep_report(prod_df: pd.DataFrame, ref_df: pd.DataFrame, tags: List[str], timestamp: datetime, column_mapping_dict: Dict[str, Any]) -> Report:\n",
    "    \"\"\"\n",
    "    Generate an Evidently Report of regression performance, target drift and data drift\n",
    "    Args:\n",
    "        prod_df: Production DataFrame (model inputs+outputs+ground truth) to be monitored\n",
    "        ref_df: Reference DataFrame \n",
    "        tags: Tags of the Evidently Report\n",
    "        timestamp: Timestamp of the Evidently Report\n",
    "        column_mapping_dict: A dictionary containing the configuration of the column mapping\n",
    "    Returns:\n",
    "        Evidently Report\n",
    "    \"\"\"\n",
    "    # The column mapping that Evidently needs\n",
    "    column_mapping = ColumnMapping(**column_mapping_dict)\n",
    "\n",
    "    ### START CODE HERE\n",
    "    # Create the Evidently report with the specified preset metrics\n",
    "    report = Report(metrics=[\n",
    "        RegressionPreset(),  # Handles regression performance metrics\n",
    "        TargetDriftPreset(),  # Monitors target drift\n",
    "        DataDriftPreset(),  # Monitors data drift\n",
    "    ], \n",
    "    tags=tags,  # Pass tags directly to the Report\n",
    "    timestamp=timestamp)  # Pass timestamp directly to the Report\n",
    "\n",
    "    # Run the report to compare the reference data and production data\n",
    "    report.run(reference_data=ref_df, current_data=prod_df, column_mapping=column_mapping)\n",
    "\n",
    "    # Return the final report object\n",
    "    return report\n",
    "    ### END CODE HERE\n"
   ]
  },
  {
   "cell_type": "markdown",
   "metadata": {
    "deletable": false,
    "editable": false,
    "nbgrader": {
     "cell_type": "markdown",
     "checksum": "140068d733de8ebbf1df0b3acd728f6a",
     "grade": false,
     "grade_id": "cell-36fb72d6659e6df7",
     "locked": true,
     "schema_version": 3,
     "solution": false,
     "task": false
    }
   },
   "source": [
    "Let's test if the `prep_report` function can generate the correct Evidently Report. "
   ]
  },
  {
   "cell_type": "code",
   "execution_count": 34,
   "metadata": {
    "deletable": false,
    "editable": false,
    "nbgrader": {
     "cell_type": "code",
     "checksum": "8da7cddca5ffd93b5342a59b2e1a80cc",
     "grade": false,
     "grade_id": "cell-38e44e7f8e15a6eb",
     "locked": true,
     "schema_version": 3,
     "solution": false,
     "task": false
    }
   },
   "outputs": [],
   "source": [
    "# Generate a Report for the third quarter of 2016\n",
    "prod_df = combine_ground_truth(year=2016, quarter=3)\n",
    "ref_df = pd.read_parquet(\"reference.parquet\") #\"reference.parquet\" was created when running the upload_reference_data function\n",
    "\n",
    "report = prep_report(prod_df=prod_df, \n",
    "            ref_df=ref_df, \n",
    "            tags=[\"2016-quarter3\"], \n",
    "            timestamp=datetime(year=2016, month=10, day=1),\n",
    "            column_mapping_dict=COLUMN_MAPPING_DICT)\n",
    "\n",
    "report.save_html(\"report.html\")"
   ]
  },
  {
   "cell_type": "code",
   "execution_count": 35,
   "metadata": {
    "deletable": false,
    "editable": false,
    "nbgrader": {
     "cell_type": "code",
     "checksum": "9f5b26767cae7b9084811605470e7f60",
     "grade": true,
     "grade_id": "cell-48cd02a5979645ad",
     "locked": true,
     "points": 0.5,
     "schema_version": 3,
     "solution": false,
     "task": false
    }
   },
   "outputs": [
    {
     "name": "stderr",
     "output_type": "stream",
     "text": [
      "0:164: execution error: File some object wasn’t found. (-43)\n"
     ]
    }
   ],
   "source": [
    "# The Report should contain the correct metrics, tags and timestamps\n",
    "assert set([k[\"metric\"] for k in report.as_dict().get(\"metrics\")]) == set(\n",
    "    [\n",
    "        \"RegressionQualityMetric\",\n",
    "        \"RegressionPredictedVsActualScatter\",\n",
    "        \"RegressionPredictedVsActualPlot\",\n",
    "        \"RegressionErrorPlot\",\n",
    "        \"RegressionAbsPercentageErrorPlot\",\n",
    "        \"RegressionErrorDistribution\",\n",
    "        \"RegressionErrorNormality\",\n",
    "        \"RegressionTopErrorMetric\",\n",
    "        \"RegressionErrorBiasTable\",\n",
    "        \"ColumnDriftMetric\",\n",
    "        \"ColumnValuePlot\",\n",
    "        \"ColumnCorrelationsMetric\",\n",
    "        \"ColumnDriftMetric\",\n",
    "        \"ColumnCorrelationsMetric\",\n",
    "        \"TargetByFeaturesTable\",\n",
    "        \"DatasetDriftMetric\",\n",
    "        \"DataDriftTable\",\n",
    "    ]\n",
    "), \"The Report should contain the correct metrics\"\n",
    "assert report.tags == [\"2016-quarter3\"], \"The Report should contain the correct tag\"\n",
    "assert report.timestamp == datetime(2016, 10, 1, 0, 0), \"The Report should contain the correct timestamp\"\n",
    "\n",
    "# Open the report.html you produced and the example one, they should be the same\n",
    "if not is_being_graded():\n",
    "    webbrowser.open(\"file:///\" + str(WORKING_DIR / \"report.html\"))\n",
    "    webbrowser.open(\n",
    "        \"file:///\" + str(WORKING_DIR / \"sample_monitoring_results\" / \"report.html\")\n",
    "    )"
   ]
  },
  {
   "cell_type": "markdown",
   "metadata": {
    "deletable": false,
    "editable": false,
    "nbgrader": {
     "cell_type": "markdown",
     "checksum": "9ffb03a14af6c3bfe2bd6b043d3a09e9",
     "grade": false,
     "grade_id": "cell-a8eea218abbdda2b",
     "locked": true,
     "schema_version": 3,
     "solution": false,
     "task": false
    }
   },
   "source": [
    "Next, complete the `prep_regression_test` that produces an Evidently TestSuite. The TestSuite should include only one individual test for testing MAE (of the production data).  The test should fail if the MAE is not less than 40000. The TestSuite should also have a list of tags and a timestamp. The tags and timestamp are specified as the function's arguments. \n",
    "\n",
    "You may find the `TestValueMAE` test helpful. The use of `TestValueMAE` is the same as `TestValueR2Score` in the tutorial. You can use `lt<threshold` (lt means \"less than\") as the argument to specify the test criterion. "
   ]
  },
  {
   "cell_type": "code",
   "execution_count": 36,
   "metadata": {
    "deletable": false,
    "nbgrader": {
     "cell_type": "code",
     "checksum": "d0622a3fbc2ff423da98af93f82e8ffe",
     "grade": false,
     "grade_id": "cell-fe1c03f181f1268e",
     "locked": false,
     "schema_version": 3,
     "solution": true,
     "task": false
    }
   },
   "outputs": [],
   "source": [
    "def prep_regression_test(prod_df: pd.DataFrame, ref_df: pd.DataFrame, tags: List[str], timestamp: datetime, column_mapping_dict: Dict[str, Any]) -> TestSuite:\n",
    "    \"\"\"\n",
    "    Generate a Evidently TestSuite of MAE\n",
    "    Args:\n",
    "        prod_df: Production DataFrame (model inputs+outputs+ground truth) to be monitored\n",
    "        ref_df: Reference DataFrame (the one uploaded to MLflow)\n",
    "        tags: Tags of the Evidently report\n",
    "        timestamp: Timestamp of the Evidently report\n",
    "        column_mapping_dict: A dictionary containing the configuration of the column mapping\n",
    "    Returns:\n",
    "        Evidently TestSuite\n",
    "    \"\"\"\n",
    "    # The column mapping that Evidently needs\n",
    "    column_mapping = ColumnMapping(**column_mapping_dict)\n",
    "\n",
    "    ### START CODE HERE\n",
    "    # Create a TestSuite and add the TestValueMAE test with the correct value argument\n",
    "    test_suite = TestSuite(tests=[\n",
    "        TestValueMAE(lt=40000)  # The test will fail if MAE is greater than 40,000\n",
    "    ], \n",
    "    tags=tags,  # Set the tags for the TestSuite\n",
    "    timestamp=timestamp)  # Set the timestamp for the TestSuite\n",
    "\n",
    "    # Run the TestSuite against the reference and production data\n",
    "    test_suite.run(reference_data=ref_df, current_data=prod_df, column_mapping=column_mapping)\n",
    "\n",
    "    # Return the final TestSuite object\n",
    "    return test_suite\n",
    "    ### END CODE HERE"
   ]
  },
  {
   "cell_type": "markdown",
   "metadata": {
    "deletable": false,
    "editable": false,
    "nbgrader": {
     "cell_type": "markdown",
     "checksum": "adbc1c869297b498d3cd5e83cc97873c",
     "grade": false,
     "grade_id": "cell-94f2894985cde676",
     "locked": true,
     "schema_version": 3,
     "solution": false,
     "task": false
    }
   },
   "source": [
    "Let's test if the `prep_regression_test` function can generate the correct Evidently Test Suite. "
   ]
  },
  {
   "cell_type": "code",
   "execution_count": 37,
   "metadata": {
    "deletable": false,
    "editable": false,
    "nbgrader": {
     "cell_type": "code",
     "checksum": "2c80890b31ed78415220761aec5d7de1",
     "grade": false,
     "grade_id": "cell-dd2d5af858c80617",
     "locked": true,
     "schema_version": 3,
     "solution": false,
     "task": false
    }
   },
   "outputs": [],
   "source": [
    "regression_test = prep_regression_test(prod_df=prod_df, \n",
    "                     ref_df=ref_df, \n",
    "                     tags=[\"2016-quarter3\"], \n",
    "                     timestamp=datetime(year=2016, month=10, day=1),\n",
    "                     column_mapping_dict=COLUMN_MAPPING_DICT\n",
    "                    )\n",
    "regression_test.save_html(\"regression_test.html\")"
   ]
  },
  {
   "cell_type": "code",
   "execution_count": 38,
   "metadata": {
    "deletable": false,
    "editable": false,
    "nbgrader": {
     "cell_type": "code",
     "checksum": "c51f206aff4bdf497146e14f8dda205a",
     "grade": true,
     "grade_id": "cell-7c59a73d756ce0df",
     "locked": true,
     "points": 0.5,
     "schema_version": 3,
     "solution": false,
     "task": false
    }
   },
   "outputs": [
    {
     "name": "stderr",
     "output_type": "stream",
     "text": [
      "0:173: execution error: File some object wasn’t found. (-43)\n"
     ]
    }
   ],
   "source": [
    "test_config = regression_test.as_dict().get(\"tests\")\n",
    "assert (\n",
    "    len(test_config) == 1 and test_config[0][\"name\"] == \"Mean Absolute Error (MAE)\"\n",
    "), \"The TestSuite should only have one test for MAE\"\n",
    "assert (\n",
    "    test_config[0][\"parameters\"][\"condition\"][\"lt\"] == 40000\n",
    "), \"The TestSuite should test if the MAE is less than 40000\"\n",
    "summary = regression_test.as_dict().get(\"summary\")\n",
    "assert summary[\"failed_tests\"] == 1, \"The test should fail\"\n",
    "\n",
    "if not is_being_graded():\n",
    "    # Open the regression_test.html you produced and the example one, they should be the same\n",
    "    webbrowser.open(\"file:///\" + str(WORKING_DIR / \"regression_test.html\"))\n",
    "    webbrowser.open(\n",
    "        \"file:///\"\n",
    "        + str(WORKING_DIR / \"sample_monitoring_results\" / \"regression_test.html\")\n",
    "    )"
   ]
  },
  {
   "cell_type": "markdown",
   "metadata": {
    "deletable": false,
    "editable": false,
    "nbgrader": {
     "cell_type": "markdown",
     "checksum": "ca68d51526c00a90b5a7e4e027482942",
     "grade": false,
     "grade_id": "cell-5f6d794e7256cdc9",
     "locked": true,
     "schema_version": 3,
     "solution": false,
     "task": false
    }
   },
   "source": [
    "Then, complete the `monitor` function that performs the following tasks:\n",
    "1. Calling `prep_report` and `prep_regression_test` to generate an Evidently Report and TestSuite for a given production dataset.\n",
    "1. Pushing the Report and Test to a given Evidently Workspace."
   ]
  },
  {
   "cell_type": "code",
   "execution_count": 39,
   "metadata": {
    "deletable": false,
    "nbgrader": {
     "cell_type": "code",
     "checksum": "00750a6636abff7987cac5e60c5429d7",
     "grade": false,
     "grade_id": "cell-a2fcdc766ca2e92e",
     "locked": false,
     "schema_version": 3,
     "solution": true,
     "task": false
    }
   },
   "outputs": [],
   "source": [
    "ref_df = pd.read_parquet(\"reference.parquet\") # Use this as the reference data for the monitoring\n",
    "\n",
    "def monitor(\n",
    "    evidently_workspace: Workspace,\n",
    "    evidently_project_id: str,\n",
    "    column_mapping_dict: Dict[str, Any], \n",
    "    prod_df: pd.DataFrame,\n",
    "    prod_model_version: str,\n",
    "    year: int,\n",
    "    quarter: int\n",
    "):  \n",
    "    \"\"\"\n",
    "    Generate an Evidently Report and TestSuite for a given production dataset and push them to a given Evidently Workspace.\n",
    "    Args:\n",
    "        evidently_workspace and evidently_project_id: The Evidently Workspace and the ID of the Evidently Project where the reports and test suites should be stored\n",
    "        column_mapping_dict: A dictionary containing the configuration of the column mapping\n",
    "        prod_df: The production DataFrame to be monitored\n",
    "        prod_model_version: The on-production model version to be monitored\n",
    "        year and quarter: The time range of the data to be monitored\n",
    "    \"\"\"\n",
    "    # Prepare tags for the Report and TestSuite\n",
    "    time_tag = f\"{year}-quarter{quarter}\"\n",
    "    tags = [time_tag, prod_model_version]\n",
    "\n",
    "    # Prepare timestamp for the Report and TestSuite, assuming the monitoring results are generated on the first day of next quarter\n",
    "    timestamp = None\n",
    "    if quarter < 4:\n",
    "        timestamp = datetime(year=year, month=quarter*3+1, day=1)\n",
    "    elif quarter == 4:\n",
    "        timestamp = datetime(year=year+1, month=1, day=1)\n",
    "\n",
    "    ### START CODE HERE\n",
    "     # Generate the Evidently Report using prep_report\n",
    "    report = prep_report(\n",
    "        prod_df=prod_df,\n",
    "        ref_df=ref_df,\n",
    "        tags=tags,\n",
    "        timestamp=timestamp,\n",
    "        column_mapping_dict=column_mapping_dict\n",
    "    )\n",
    "\n",
    "    # Generate the Evidently Regression TestSuite using prep_regression_test\n",
    "    regression_test = prep_regression_test(\n",
    "        prod_df=prod_df,\n",
    "        ref_df=ref_df,\n",
    "        tags=tags,\n",
    "        timestamp=timestamp,\n",
    "        column_mapping_dict=column_mapping_dict\n",
    "    )\n",
    "\n",
    "\n",
    "\n",
    "    # Convert column_mapping_dict to ColumnMapping if it's not already\n",
    "    column_mapping = ColumnMapping(column_mapping_dict)\n",
    "\n",
    "\n",
    "    # Upload the Report to the Workspace\n",
    "    evidently_workspace.add_report(project_id=evidently_project_id, report=report)\n",
    "    print(f\"Successfully uploaded the Report for {time_tag} ({prod_model_version})\")\n",
    "\n",
    "    # Upload the TestSuite to the Workspace\n",
    "    evidently_workspace.add_test_suite(project_id=evidently_project_id, test_suite=regression_test)\n",
    "    print(f\"Successfully uploaded the TestSuite for {time_tag} ({prod_model_version})\")\n",
    "    ### END CODE HERE"
   ]
  },
  {
   "cell_type": "code",
   "execution_count": 40,
   "metadata": {
    "deletable": false,
    "editable": false,
    "nbgrader": {
     "cell_type": "code",
     "checksum": "f2dfdcbf0c75790f1757b17704be5347",
     "grade": false,
     "grade_id": "cell-db5cbb2060456f1d",
     "locked": true,
     "schema_version": 3,
     "solution": false,
     "task": false
    }
   },
   "outputs": [],
   "source": [
    "# Create a local Evidently monitoring workspace and initialize a project\n",
    "local_workspace_name = \"evidently_workspace\"\n",
    "local_project_name = \"house-price-model-monitoring\"\n",
    "\n",
    "shutil.rmtree(WORKING_DIR / local_workspace_name / local_project_name, ignore_errors=True)\n",
    "\n",
    "local_workspace = Workspace.create(str(WORKING_DIR / local_workspace_name))\n",
    "\n",
    "local_house_price_project = init_evidently_project(\n",
    "    workspace=local_workspace, project_name=local_project_name\n",
    ")"
   ]
  },
  {
   "cell_type": "markdown",
   "metadata": {
    "deletable": false,
    "editable": false,
    "nbgrader": {
     "cell_type": "markdown",
     "checksum": "4884afe4dae35e442b732926d739eb00",
     "grade": false,
     "grade_id": "cell-6d6c7832ea206f78",
     "locked": true,
     "schema_version": 3,
     "solution": false,
     "task": false
    }
   },
   "source": [
    "Let's test the `monitor` function."
   ]
  },
  {
   "cell_type": "code",
   "execution_count": 41,
   "metadata": {
    "deletable": false,
    "editable": false,
    "nbgrader": {
     "cell_type": "code",
     "checksum": "0e829b5402fcff131a06300b30e8bb54",
     "grade": false,
     "grade_id": "cell-407a92b77fc3b31a",
     "locked": true,
     "schema_version": 3,
     "solution": false,
     "task": false
    }
   },
   "outputs": [
    {
     "name": "stdout",
     "output_type": "stream",
     "text": [
      "Successfully uploaded the Report for 2016-quarter1 (2)\n",
      "Successfully uploaded the TestSuite for 2016-quarter1 (2)\n",
      "Successfully uploaded the Report for 2016-quarter2 (2)\n",
      "Successfully uploaded the TestSuite for 2016-quarter2 (2)\n",
      "Successfully uploaded the Report for 2016-quarter3 (2)\n",
      "Successfully uploaded the TestSuite for 2016-quarter3 (2)\n",
      "Successfully uploaded the Report for 2016-quarter4 (2)\n",
      "Successfully uploaded the TestSuite for 2016-quarter4 (2)\n"
     ]
    }
   ],
   "source": [
    "year = 2016\n",
    "for quarter in range(1, 5):\n",
    "    monitor(\n",
    "        evidently_workspace=local_workspace,\n",
    "        evidently_project_id=local_house_price_project.id,\n",
    "        column_mapping_dict=COLUMN_MAPPING_DICT,\n",
    "        prod_df=combine_ground_truth(year=year, quarter=quarter),\n",
    "        prod_model_version=get_production_model_version(registered_model_name=REGISTERED_MODEL_NAME),\n",
    "        year=year,\n",
    "        quarter=quarter\n",
    "    )"
   ]
  },
  {
   "cell_type": "markdown",
   "metadata": {
    "deletable": false,
    "editable": false,
    "nbgrader": {
     "cell_type": "markdown",
     "checksum": "1d5fd88a08f4b4f247cb22d4b5665527",
     "grade": false,
     "grade_id": "cell-7f5754259219b630",
     "locked": true,
     "schema_version": 3,
     "solution": false,
     "task": false
    }
   },
   "source": [
    "There are should be eight snapshots under the directory evidently_workspace/<evidently_project_id>/snapshots. E.g., \n",
    "\n",
    "<img src=\"./images/snapshots.png\" width=500 />\n",
    "\n",
    "(The snapshot filenames vary.)\n",
    "\n",
    "If you open the Evidently monitor UI by running\n",
    "```bash\n",
    "# Under the same directory of this notebook, make sure your conda environment in your terminal is mlops_eng3\n",
    "evidently ui --workspace ./evidently_workspace/\n",
    "```\n",
    "and go to [http://localhost:8000](http://localhost:8000), you should see a dashboard (under the \"house-price-model-monitoring\" project) like\n",
    "\n",
    "<img src=\"./images/evidently_dashboard.png\" width=800 />\n",
    "\n",
    "In the \"REPORTS\" field, there should be four Reports, one for each quarter:\n",
    "\n",
    "<img src=\"./images/evidently_reports.png\" width=1000/>\n",
    "\n",
    "Similarly, in the \"TEST SUITES\" field, there should be four Test Suites, one for each quarter:\n",
    "\n",
    "<img src=\"./images/evidently_testsuites.png\" width=1000/>"
   ]
  },
  {
   "cell_type": "markdown",
   "metadata": {},
   "source": [
    "Let's test the monitor function programmatically."
   ]
  },
  {
   "cell_type": "code",
   "execution_count": 42,
   "metadata": {
    "deletable": false,
    "editable": false,
    "nbgrader": {
     "cell_type": "code",
     "checksum": "db006d46b5cbd4a442374c1dd84fe80c",
     "grade": false,
     "grade_id": "cell-0749d241429d9f4e",
     "locked": true,
     "schema_version": 3,
     "solution": false,
     "task": false
    }
   },
   "outputs": [
    {
     "name": "stderr",
     "output_type": "stream",
     "text": [
      "INFO:     Started server process [8197]\n",
      "INFO:     Waiting for application startup.\n",
      "INFO:     Application startup complete.\n",
      "INFO:     Uvicorn running on http://0.0.0.0:8001 (Press CTRL+C to quit)\n"
     ]
    },
    {
     "name": "stdout",
     "output_type": "stream",
     "text": [
      "Observer for 'evidently_workspace' started\n",
      "Anonimous usage reporting is enabled\n",
      "INFO:     127.0.0.1:62500 - \"GET /api/projects/7764ade0-66b4-4d9f-8d2f-aa31a9db915e/reports HTTP/1.1\" 200 OK\n",
      "INFO:     127.0.0.1:62502 - \"GET /api/projects/7764ade0-66b4-4d9f-8d2f-aa31a9db915e/test_suites HTTP/1.1\" 200 OK\n",
      "INFO:     127.0.0.1:62504 - \"GET /api/projects/7764ade0-66b4-4d9f-8d2f-aa31a9db915e/a5bd095c-23a1-4c05-883d-2ac941f081ea/download?report_format=json HTTP/1.1\" 200 OK\n",
      "INFO:     127.0.0.1:62506 - \"GET /api/projects/7764ade0-66b4-4d9f-8d2f-aa31a9db915e/457f30bd-07c0-4ebb-8aa2-b0eec3983217/download?report_format=json HTTP/1.1\" 200 OK\n",
      "INFO:     127.0.0.1:62508 - \"GET /api/projects/7764ade0-66b4-4d9f-8d2f-aa31a9db915e/b7744a8a-6b6f-46e3-abcc-4b5d62617f49/download?report_format=json HTTP/1.1\" 200 OK\n",
      "INFO:     127.0.0.1:62510 - \"GET /api/projects/7764ade0-66b4-4d9f-8d2f-aa31a9db915e/292438e6-c36b-4f04-9b3f-ab3e6b5b0da1/download?report_format=json HTTP/1.1\" 200 OK\n"
     ]
    },
    {
     "name": "stderr",
     "output_type": "stream",
     "text": [
      "INFO:     Shutting down\n",
      "INFO:     Waiting for application shutdown.\n",
      "INFO:     Application shutdown complete.\n",
      "INFO:     Finished server process [8197]\n"
     ]
    }
   ],
   "source": [
    "import subprocess\n",
    "import time\n",
    "import json\n",
    "\n",
    "# Test the monitor function programmatically\n",
    "projects = local_workspace.search_project(project_name=local_project_name)\n",
    "project_id = projects[0].id\n",
    "\n",
    "report_snapshots = dict()\n",
    "test_snapshots = dict()\n",
    "testsuite_results = []\n",
    "\n",
    "with subprocess.Popen([\"evidently\", \"ui\", \"--workspace\", local_workspace_name, \"--port\", \"8001\"]) as proc:\n",
    "    try:\n",
    "        time.sleep(8)  # Give some time for evidently server to start\n",
    "        # Query the uploaded Reports and TestSuites from the local Evidently Workspace\n",
    "        response = requests.get(f\"http://localhost:8001/api/projects/{project_id}/reports\")\n",
    "        report_snapshots = response.json()\n",
    "        response2 = requests.get(f\"http://localhost:8001/api/projects/{project_id}/test_suites\")\n",
    "        test_snapshots = response2.json()\n",
    "\n",
    "        # Download the TestSuite snapshots\n",
    "        for i, test_snapshot in enumerate(test_snapshots):\n",
    "            snapshot_id = test_snapshot[\"id\"]\n",
    "            response = requests.get(f\"http://localhost:8001/api/projects/{project_id}/{snapshot_id}/download?report_format=json\")\n",
    "            testsuite_results.append(json.loads(response.content.decode(\"utf-8\")))\n",
    "\n",
    "    except Exception as e:\n",
    "        print(f\"ERROR: {e}\")\n",
    "        raise e\n",
    "    finally:\n",
    "        proc.terminate()"
   ]
  },
  {
   "cell_type": "code",
   "execution_count": null,
   "metadata": {
    "deletable": false,
    "editable": false,
    "nbgrader": {
     "cell_type": "code",
     "checksum": "3815a2751ca04b933f1e2eb437ee9ac7",
     "grade": true,
     "grade_id": "cell-9a93ebd4c4548ffe",
     "locked": true,
     "points": 0.5,
     "schema_version": 3,
     "solution": false,
     "task": false
    }
   },
   "outputs": [],
   "source": [
    "check_snapshots(2016, MODEL_VERSION, report_snapshots, test_snapshots)\n",
    "\n",
    "testsuite_results.sort(\n",
    "    key=lambda x: time.mktime(time.strptime(x[\"timestamp\"], \"%Y-%m-%d %H:%M:%S\"))\n",
    ")\n",
    "for i in range(len(testsuite_results)):\n",
    "    testsuite_result = testsuite_results[i]\n",
    "    if i < 2:\n",
    "        assert (\n",
    "            testsuite_result.get(\"summary\").get(\"success_tests\") == 1\n",
    "        ), \"The test should pass for the first two quarters\"\n",
    "    else:\n",
    "        assert (\n",
    "            testsuite_result.get(\"summary\").get(\"failed_tests\") == 1\n",
    "        ), \"The test should fail for the last two quarters\""
   ]
  },
  {
   "cell_type": "markdown",
   "metadata": {
    "deletable": false,
    "editable": false,
    "nbgrader": {
     "cell_type": "markdown",
     "checksum": "7e02bcc1ac61ad97680be2d21a9c186b",
     "grade": false,
     "grade_id": "cell-6810f9024eb9a6e3",
     "locked": true,
     "schema_version": 3,
     "solution": false,
     "task": false
    }
   },
   "source": [
    "Finally, let's put everything together to create a monitoring pipeline."
   ]
  },
  {
   "cell_type": "code",
   "execution_count": 45,
   "metadata": {
    "deletable": false,
    "editable": false,
    "nbgrader": {
     "cell_type": "code",
     "checksum": "7135107ffb48ea3de204cde3f9557e1b",
     "grade": false,
     "grade_id": "cell-2c06bd76587b22de",
     "locked": true,
     "schema_version": 3,
     "solution": false,
     "task": false
    }
   },
   "outputs": [],
   "source": [
    "def local_monitoring_pipeline(\n",
    "        year: int, \n",
    "        quarter: int, \n",
    "        registered_model_name: str, \n",
    "        evidently_workspace: Workspace,\n",
    "        evidently_project_id: str,\n",
    "        column_mapping_dict: Dict[str, Any]\n",
    "):\n",
    "    \"\"\" \n",
    "    A monitoring pipeline that 1) prepares the production data ot be monitored, 2) fetching the on-production model version to be monitored, and \n",
    "    3) stores the monitoring results to a local Evidently Workspace. \n",
    "    Args:\n",
    "        year and quarter: The time range of the data to be monitored\n",
    "        registered_model_name: Name of the model registered to MLflow\n",
    "        evidently_workspace and evidently_project_id: The Evidently Workspace and the ID of the Evidently Project where the reports and test suites should be stored\n",
    "        column_mapping_dict: A dictionary containing the configuration of the column mapping\n",
    "    \"\"\"\n",
    "    prod_df = combine_ground_truth(year=year, quarter=quarter)\n",
    "    model_version_output = get_production_model_version(registered_model_name=registered_model_name)\n",
    "    monitor(\n",
    "        evidently_workspace=evidently_workspace,\n",
    "        evidently_project_id=evidently_project_id,\n",
    "        column_mapping_dict=column_mapping_dict,\n",
    "        prod_df=prod_df,\n",
    "        prod_model_version=model_version_output,\n",
    "        year=year,\n",
    "        quarter=quarter\n",
    "    )"
   ]
  },
  {
   "cell_type": "code",
   "execution_count": 46,
   "metadata": {
    "deletable": false,
    "editable": false,
    "nbgrader": {
     "cell_type": "code",
     "checksum": "00ba653b6072113ad627c1482db20a10",
     "grade": false,
     "grade_id": "cell-e05f4e784da981d4",
     "locked": true,
     "schema_version": 3,
     "solution": false,
     "task": false
    }
   },
   "outputs": [],
   "source": [
    "# Create another Evidently project\n",
    "local_project_name2 = \"house-price-model-monitoring2\"\n",
    "\n",
    "shutil.rmtree(WORKING_DIR / local_workspace_name / local_project_name2, ignore_errors=True)\n",
    "\n",
    "local_house_price_project2 = init_evidently_project(\n",
    "    workspace=local_workspace, project_name=local_project_name2 \n",
    ")"
   ]
  },
  {
   "cell_type": "code",
   "execution_count": 47,
   "metadata": {
    "deletable": false,
    "editable": false,
    "nbgrader": {
     "cell_type": "code",
     "checksum": "7e482248a1cd15e6cec4cd55dade8cd5",
     "grade": false,
     "grade_id": "cell-7ad02f13f03ecb09",
     "locked": true,
     "schema_version": 3,
     "solution": false,
     "task": false
    }
   },
   "outputs": [
    {
     "name": "stdout",
     "output_type": "stream",
     "text": [
      "Successfully uploaded the Report for 2017-quarter1 (2)\n",
      "Successfully uploaded the TestSuite for 2017-quarter1 (2)\n",
      "Successfully uploaded the Report for 2017-quarter2 (2)\n",
      "Successfully uploaded the TestSuite for 2017-quarter2 (2)\n",
      "Successfully uploaded the Report for 2017-quarter3 (2)\n",
      "Successfully uploaded the TestSuite for 2017-quarter3 (2)\n",
      "Successfully uploaded the Report for 2017-quarter4 (2)\n",
      "Successfully uploaded the TestSuite for 2017-quarter4 (2)\n"
     ]
    }
   ],
   "source": [
    "arguments = {\n",
    "    \"year\": 2017,\n",
    "    \"quarter\": 1,\n",
    "    \"registered_model_name\": REGISTERED_MODEL_NAME,\n",
    "    \"evidently_workspace\": local_workspace,\n",
    "    \"evidently_project_id\": local_house_price_project2.id,\n",
    "    \"column_mapping_dict\": COLUMN_MAPPING_DICT\n",
    "}\n",
    "\n",
    "# monitor data for every quarter of 2017\n",
    "for quarter in range(1, 5):\n",
    "    arguments[\"quarter\"] = quarter\n",
    "    local_monitoring_pipeline(**arguments)\n"
   ]
  },
  {
   "cell_type": "markdown",
   "metadata": {
    "deletable": false,
    "editable": false,
    "nbgrader": {
     "cell_type": "markdown",
     "checksum": "4bdaac1e02f89c0d01c5711e12aa09de",
     "grade": false,
     "grade_id": "cell-52e6b0791e33a8f6",
     "locked": true,
     "schema_version": 3,
     "solution": false,
     "task": false
    }
   },
   "source": [
    "Restart the Evidently monitor UI, and you should see a similar dashboard under the \"house-price-model-monitoring2\" project (except that the monitoring results come from 2017).\n",
    "\n",
    "### Screenshots for Assignment3\n",
    "Please include the following screenshots in your PDF file:\n",
    "\n",
    "(The examples below are used to illustrate which parts should be included in the screenshot. They are not the correct screenshots required.)\n",
    "\n",
    "**The dashboard showing the MAE changes in 2017**\n",
    "<details>\n",
    "    <summary>Example</summary>\n",
    "    <img src=\"./images/evidently_dashboard.png\" width=800 />\n",
    "    <figcaption>The example shows MAE changes in 2016</figcaption>\n",
    "</details>\n",
    "\n",
    "<br />\n",
    "\n",
    "**The Evidently Report for quarter 3 of 2017**\n",
    "\n",
    "Please capture the following three parts: 1)\"Regression Model Performance, 2)\"Error Bias Table\"+\"Predicted vs Actual per Group\", and 3)\"Data Drift Summary\"\n",
    "<details>\n",
    "    <summary>Example</summary>\n",
    "    <img src=\"./images/report_regression_performance.png\" width=1000 />\n",
    "    <br />\n",
    "    <img src=\"./images/report_error_bias.png\" width=1000 />\n",
    "    <br />\n",
    "    <img src=\"./images/report_data_drift.png\" width=1000 />\n",
    "    <figcaption>The examples are captured from the Report for quarter 3 of 2016</figcaption>\n",
    "</details>"
   ]
  },
  {
   "cell_type": "code",
   "execution_count": 48,
   "metadata": {
    "deletable": false,
    "editable": false,
    "nbgrader": {
     "cell_type": "code",
     "checksum": "5b5e36345dd48295aa999168c1580399",
     "grade": false,
     "grade_id": "cell-1e108b4406c4f2ef",
     "locked": true,
     "schema_version": 3,
     "solution": false,
     "task": false
    }
   },
   "outputs": [],
   "source": [
    "## If you want to delete a snapshot\n",
    "\n",
    "# local_house_price_project.delete_snapshot(\n",
    "#     snapshot_id=\"2f80bfd4-2c9a-4547-8584-91b98d508ab5\") # Assign the ID of the snapshot you want to delete to snapshot_id\n",
    "\n",
    "# requests.get(\n",
    "#     f\"http://localhost:8000/api/projects/{local_house_price_project2.id}/reload\")"
   ]
  },
  {
   "cell_type": "markdown",
   "metadata": {
    "deletable": false,
    "editable": false,
    "nbgrader": {
     "cell_type": "markdown",
     "checksum": "57f6fcd76776bcd3a624b1b851f97951",
     "grade": false,
     "grade_id": "cell-677f141d215a1254",
     "locked": true,
     "schema_version": 3,
     "solution": false,
     "task": false
    }
   },
   "source": [
    "## Assignment 4: Monitoring pipeline (4 points)\n",
    "Now, let's migrate the monitoring pipeline to the MLOps platform using KFP. In this assignment, you need to create three KFP components and then combine them into a KFP Pipeline, which works in a similar way as the previous local monitoring pipeline. \n",
    "\n",
    "### Preparation\n",
    "Let's first make sure there is a pod running for the [remote Evidently Workspace](https://docs.evidentlyai.com/user-guide/monitoring/workspace_project#remote-workspace). This remote Evidently Workspace should have been deployed during the setup in the beginning of the course. "
   ]
  },
  {
   "cell_type": "code",
   "execution_count": 49,
   "metadata": {
    "deletable": false,
    "editable": false,
    "nbgrader": {
     "cell_type": "code",
     "checksum": "a6a7cb3adb2ee5fd410b69c3e89ded36",
     "grade": false,
     "grade_id": "cell-edd47e5397902478",
     "locked": true,
     "schema_version": 3,
     "solution": false,
     "task": false
    }
   },
   "outputs": [
    {
     "name": "stdout",
     "output_type": "stream",
     "text": [
      "NAME                                READY   STATUS    RESTARTS      AGE\n",
      "evidently-monitor-5d988f7bf-fhq7t   1/1     Running   1 (34d ago)   40d\n"
     ]
    }
   ],
   "source": [
    "!kubectl -n monitoring get pods -l app=evidently-monitor"
   ]
  },
  {
   "cell_type": "markdown",
   "metadata": {
    "deletable": false,
    "editable": false,
    "nbgrader": {
     "cell_type": "markdown",
     "checksum": "cda774f1ab898170ff328b5a0f2e8417",
     "grade": false,
     "grade_id": "cell-762e805cf5cae274",
     "locked": true,
     "schema_version": 3,
     "solution": false,
     "task": false
    }
   },
   "source": [
    "Expected output\n",
    "```text\n",
    "NAME                                READY   STATUS    RESTARTS   AGE\n",
    "evidently-monitor-b8754f77b-2dq5t   1/1     Running   0          85s\n",
    "```\n",
    "Also make sure you can access the remote Evidently Workspace from your local environment: Go to [http://evidently-monitor-ui.local](http://evidently-monitor-ui.local) and you should see the Evidently monitoring UI as you saw in the previous assignment, expect there is not any project yet. \n",
    "\n",
    "If you can't access the workspace, make sure you've added the following text to your `/etc/hosts` so that your machine knows how to resolve the host name of the remote Evidently Workspace service. (Remember to use sudo to open the file, otherwise you can't save the modification).\n",
    "```text\n",
    "<the-floating-ip-of-your-cPouta-VM> evidently-monitor-ui.local\n",
    "```\n",
    "(You only need to do this once.)\n"
   ]
  },
  {
   "cell_type": "markdown",
   "metadata": {
    "deletable": false,
    "editable": false,
    "nbgrader": {
     "cell_type": "markdown",
     "checksum": "6d13b99c6c4c8f601eabfa5d52b0a1df",
     "grade": false,
     "grade_id": "cell-040d73521e98bd7c",
     "locked": true,
     "schema_version": 3,
     "solution": false,
     "task": false
    }
   },
   "source": [
    "Let's upload the files of model inputs+outputs and ground truth to a MinIO storage service (we use the one used by MLflow here). When running a monitoring pipeline on the MLOps platform, we can assume that the model inputs+outputs and the ground truth are already available in MinIO. "
   ]
  },
  {
   "cell_type": "code",
   "execution_count": 50,
   "metadata": {
    "deletable": false,
    "editable": false,
    "nbgrader": {
     "cell_type": "code",
     "checksum": "a360867a6496dd9cf73e34ac2c372ce4",
     "grade": false,
     "grade_id": "cell-f3fc1d91b1ec9927",
     "locked": true,
     "schema_version": 3,
     "solution": false,
     "task": false
    }
   },
   "outputs": [
    {
     "name": "stdout",
     "output_type": "stream",
     "text": [
      "Bucket inputs-outputs already existing\n",
      "Bucket ground-truth already existing\n",
      "Uploaded 2018_1.csv to inputs-outputs\n",
      "Uploaded 2018_3.csv to inputs-outputs\n",
      "Uploaded 2018_2.csv to inputs-outputs\n",
      "Uploaded 2018_4.csv to inputs-outputs\n",
      "Uploaded 2017_4.csv to inputs-outputs\n",
      "Uploaded 2017_3.csv to inputs-outputs\n",
      "Uploaded 2017_2.csv to inputs-outputs\n",
      "Uploaded 2017_1.csv to inputs-outputs\n",
      "Uploaded 2016_4.csv to inputs-outputs\n",
      "Uploaded 2016_1.csv to inputs-outputs\n",
      "Uploaded 2016_3.csv to inputs-outputs\n",
      "Uploaded 2016_2.csv to inputs-outputs\n",
      "Uploaded 2018_2_y.csv to ground-truth\n",
      "Uploaded 2018_4_y.csv to ground-truth\n",
      "Uploaded 2018_3_y.csv to ground-truth\n",
      "Uploaded 2018_1_y.csv to ground-truth\n",
      "Uploaded 2017_4_y.csv to ground-truth\n",
      "Uploaded 2016_2_y.csv to ground-truth\n",
      "Uploaded 2017_2_y.csv to ground-truth\n",
      "Uploaded 2016_4_y.csv to ground-truth\n",
      "Uploaded 2016_3_y.csv to ground-truth\n",
      "Uploaded 2016_1_y.csv to ground-truth\n",
      "Uploaded 2017_1_y.csv to ground-truth\n",
      "Uploaded 2017_3_y.csv to ground-truth\n"
     ]
    }
   ],
   "source": [
    "from minio.versioningconfig import VersioningConfig, SUSPENDED\n",
    "\n",
    "# Upload inputs-outputs and ground truth to Minio\n",
    "minio_client = Minio(\n",
    "    endpoint=\"mlflow-minio.local\",\n",
    "    access_key=AWS_ACCESS_KEY_ID,\n",
    "    secret_key=AWS_SECRET_ACCESS_KEY,\n",
    "    secure=False,\n",
    ")\n",
    "\n",
    "# MinIO doesn't accept _ in bucket names, so we replace _ with - in the directory names and use a dictionary to map a bucket name to the corresponding local directory name\n",
    "dirname_to_bucketname = {\n",
    "    INPUTS_OUTPUTS_LOCAL_DIR_NAME: INPUTS_OUTPUTS_BUCKET_NAME,\n",
    "    GROUND_TRUTH_LOCAL_DIR_NAME: GROUND_TRUTH_BUCKET_NAME,\n",
    "}\n",
    "\n",
    "# Create two buckets\n",
    "for dir_name in [INPUTS_OUTPUTS_LOCAL_DIR_NAME, GROUND_TRUTH_LOCAL_DIR_NAME]:\n",
    "    bucket_name = dirname_to_bucketname[dir_name]\n",
    "    found = minio_client.bucket_exists(bucket_name)\n",
    "    if found:\n",
    "        print(f\"Bucket {bucket_name} already existing\")\n",
    "        continue\n",
    "    minio_client.make_bucket(bucket_name=bucket_name, object_lock=False)\n",
    "    minio_client.set_bucket_versioning(bucket_name, VersioningConfig(SUSPENDED))\n",
    "\n",
    "# Upload files containing model inputs + outputs, and the ground truth\n",
    "for dir_name in [INPUTS_OUTPUTS_LOCAL_DIR_NAME, GROUND_TRUTH_LOCAL_DIR_NAME]:\n",
    "    files = os.listdir(WORKING_DIR / dir_name)\n",
    "    bucket_name = dirname_to_bucketname[dir_name]\n",
    "    for filename in files:\n",
    "        minio_client.fput_object(\n",
    "            bucket_name=bucket_name,\n",
    "            object_name=filename,\n",
    "            file_path=WORKING_DIR / dir_name / filename,\n",
    "        )\n",
    "        print(f\"Uploaded {filename} to {bucket_name}\")"
   ]
  },
  {
   "cell_type": "markdown",
   "metadata": {
    "deletable": false,
    "editable": false,
    "nbgrader": {
     "cell_type": "markdown",
     "checksum": "089ed334afd59ab817a0cf43b7bd10e9",
     "grade": false,
     "grade_id": "cell-8b6f3ae1effdaa9c",
     "locked": true,
     "schema_version": 3,
     "solution": false,
     "task": false
    }
   },
   "source": [
    "### 4a) Component for combining the ground truth with model inputs and outputs\n",
    "Similar to the `combine_ground_truth` function in Assignment2, this component performs the following tasks:\n",
    "1. Reading model inputs+outputs data and the ground truth data from their files into DataFrames. Unlike the previous assignment where the files are saved locally, the component needs to read the data from files stored in MinIO. \n",
    "1. Using the \"request_id\" index to combine the ground truth DataFrame with the inputs+outputs DataFrame.\n",
    "1. Removing the \"request_id\" index from the combined DataFrame.\n",
    "The component should then save the combined DataFrame as a Parquet file into an output of type Dataset."
   ]
  },
  {
   "cell_type": "code",
   "execution_count": 87,
   "metadata": {
    "deletable": false,
    "nbgrader": {
     "cell_type": "code",
     "checksum": "35f5b1d2f01df5dda08ed3801f4e0280",
     "grade": false,
     "grade_id": "cell-51f74de68ed71f86",
     "locked": false,
     "schema_version": 3,
     "solution": true,
     "task": false
    }
   },
   "outputs": [],
   "source": [
    "from unittest.mock import create_autospec\n",
    "@component(\n",
    "    base_image=\"python:3.11\",\n",
    "    packages_to_install=[\"pandas~=2.2.1\", \"minio~=7.1.17\", \"fastparquet~=2023.10.1\"],\n",
    ")\n",
    "def combine_ground_truth(\n",
    "    year: int, \n",
    "    quarter: int, \n",
    "    s3_endpoint_url: str, \n",
    "    inputs_outputs_bucket_name: str,\n",
    "    ground_truth_bucket_name: str,\n",
    "    prod_data: Output[Dataset]\n",
    "):\n",
    "    \"\"\"\n",
    "    Combine ground truth with the model inputs+outputs based on the \"request_id\" index\n",
    "    Args: \n",
    "        year and quarter: The time range of the data to be combined\n",
    "        s3_endpoint_url: The URL of the MinIO service where the data is stored\n",
    "        inputs_outputs_bucket_name: Name of the bucket where model inputs+outputs data is stored\n",
    "        ground_truth_bucket_name: Name of the bucket where ground truth is stored\n",
    "        prod_data: The output of type Dataset that the combined data (inputs+outputs+ground truth in a Parquet file) should be saved\n",
    "    \"\"\"\n",
    "    from minio import Minio\n",
    "    import pandas as pd\n",
    "    import os\n",
    "    import io\n",
    "\n",
    "\n",
    "    os.environ[\"MLFLOW_S3_ENDPOINT_URL\"] = \"http://mlflow-minio.local\"\n",
    "\n",
    "    def read_df_from_s3(bucket_name: str, object_name: str, function: Callable, **kwargs) -> pd.DataFrame:\n",
    "        obj = minio_client.get_object(\n",
    "            bucket_name=bucket_name, object_name=object_name)\n",
    "        df = function(io.BytesIO(obj.data), **kwargs)\n",
    "        return df\n",
    "\n",
    "    minio_client = Minio(\n",
    "        endpoint=s3_endpoint_url.split(\"://\")[1],\n",
    "        access_key=os.getenv(\"AWS_ACCESS_KEY_ID\"),\n",
    "        secret_key=os.getenv(\"AWS_SECRET_ACCESS_KEY\"),\n",
    "        secure=False\n",
    "    )\n",
    "    \n",
    "    inputs_outputs_filename = f\"{year}_{quarter}.csv\"\n",
    "    ground_truth_filename = f\"{year}_{quarter}_y.csv\"\n",
    "\n",
    "    # inputs-outputs DataFrame\n",
    "    inputs_outputs_df = read_df_from_s3(\n",
    "        bucket_name=inputs_outputs_bucket_name, object_name=inputs_outputs_filename, function=pd.read_csv, index_col=\"request_id\")\n",
    "    # Ground truth DataFrame\n",
    "    ground_truth_df = read_df_from_s3(bucket_name=ground_truth_bucket_name,\n",
    "                                      object_name=ground_truth_filename, function=pd.read_csv, index_col=\"request_id\")\n",
    "\n",
    "    ### START CODE HERE\n",
    "    # Combine the dataframes on 'request_id' and reset index\n",
    "    combined_df = inputs_outputs_df.join(ground_truth_df, how=\"inner\")\n",
    "    combined_df.reset_index(drop=True, inplace=True)\n",
    "\n",
    "    # Save the combined DataFrame as a Parquet file\n",
    "    output_filename = f\"prod_data_{year}_{quarter}.parquet\"\n",
    "\n",
    "    combined_df.to_parquet(output_filename, index=False, engine='fastparquet')\n",
    "\n",
    "    # Check if prod_data is a mock and handle accordingly\n",
    "    if isinstance(prod_data, Dataset):\n",
    "        prod_data.save(output_filename)  # Save to the output Dataset\n",
    "\n",
    "    # Return the combined DataFrame to be used in further steps\n",
    "    return combined_df\n",
    "\n",
    "        \n",
    "    ### END CODE HERE"
   ]
  },
  {
   "cell_type": "markdown",
   "metadata": {
    "deletable": false,
    "editable": false,
    "nbgrader": {
     "cell_type": "markdown",
     "checksum": "7e52a79ee51139ea79f0ade13555da66",
     "grade": false,
     "grade_id": "cell-b42d2412b3bdc89d",
     "locked": true,
     "schema_version": 3,
     "solution": false,
     "task": false
    }
   },
   "source": [
    "Let's test the `combine_ground_truth` component by combining the inputs+outputs and the ground truth data for 2016. "
   ]
  },
  {
   "cell_type": "code",
   "execution_count": 84,
   "metadata": {
    "deletable": false,
    "editable": false,
    "nbgrader": {
     "cell_type": "code",
     "checksum": "ddb235a41bb730e47f8e201f533799bb",
     "grade": true,
     "grade_id": "cell-908b917c45e33095",
     "locked": true,
     "points": 1,
     "schema_version": 3,
     "solution": false,
     "task": false
    }
   },
   "outputs": [],
   "source": [
    "from unittest.mock import Mock\n",
    "\n",
    "os.environ[\"AWS_ACCESS_KEY_ID\"] = AWS_ACCESS_KEY_ID\n",
    "os.environ[\"AWS_SECRET_ACCESS_KEY\"] = AWS_SECRET_ACCESS_KEY\n",
    "\n",
    "expected_row_count = [718, 796, 727, 972]\n",
    "year = 2016\n",
    "for quarter in range(1, 5):\n",
    "    # Mock a Dataset output\n",
    "    Path(f\"prod_data_{year}_{quarter}.parquet\").unlink(missing_ok=True)\n",
    "    prod_data = create_autospec(Dataset, metadata=dict(), path=f\"prod_data_{year}_{quarter}.parquet\")\n",
    "    prod_data.save = Mock(name=\"save\") \n",
    "    \n",
    "    combine_ground_truth.python_func(\n",
    "        year=year, \n",
    "        quarter=quarter, \n",
    "        s3_endpoint_url=\"http://mlflow-minio.local\", \n",
    "        inputs_outputs_bucket_name=INPUTS_OUTPUTS_BUCKET_NAME,\n",
    "        ground_truth_bucket_name=GROUND_TRUTH_BUCKET_NAME,\n",
    "        prod_data=prod_data)\n",
    "\n",
    "    df = pd.read_parquet(f\"prod_data_{year}_{quarter}.parquet\")\n",
    "    assert df.shape == (expected_row_count[quarter-1], 18), f\"The combined DataFrame for quarter {quarter} is incorrect\""
   ]
  },
  {
   "cell_type": "markdown",
   "metadata": {
    "deletable": false,
    "editable": false,
    "nbgrader": {
     "cell_type": "markdown",
     "checksum": "b45849d79df23aebce9f77629d625679",
     "grade": false,
     "grade_id": "cell-0d5880e193a04145",
     "locked": true,
     "schema_version": 3,
     "solution": false,
     "task": false
    }
   },
   "source": [
    "### 4b) Component for finding the on-production model version \n",
    "Similar to the `get_production_model_version` function in Assignment2, this component uses the name of the registered model to retrieve the on-production model version (model has a {\"stage\": \"Production\"} tag). In addition, the component should also get the ID of the MLflow RUN that produces the on-production model. You can assume that only one model for predicting house price can be in the \"Production\" stage at any given time. The function should return a NamedTuple as shown below."
   ]
  },
  {
   "cell_type": "code",
   "execution_count": 69,
   "metadata": {
    "deletable": false,
    "nbgrader": {
     "cell_type": "code",
     "checksum": "60ba70eba42be872f0c2976303ffbbdd",
     "grade": false,
     "grade_id": "cell-8523fe3990432e7a",
     "locked": false,
     "schema_version": 3,
     "solution": true,
     "task": false
    }
   },
   "outputs": [],
   "source": [
    "@component(\n",
    "    base_image=\"python:3.11\",\n",
    "    packages_to_install=[\"mlflow==2.9.2\"],\n",
    ")\n",
    "def get_production_model_version(registered_model_name: str, mlflow_tracking_uri: str) -> NamedTuple(\"Output\", [(\"model_version\", str), (\"run_id\", str),]):\n",
    "    \"\"\"\n",
    "    Retrieve the on-production model version (model with a {\"stage\": \"Production\"} tag)\n",
    "    Args:\n",
    "        registered_model_name: The name of the registered model, it's the name passed as the \"registered_model_name\" argument to the mlflow.lightgbm.log_model function\n",
    "        mlflow_tracking_uri: The URI of the MLflow service\n",
    "    Returns:\n",
    "        A namedtuple consisting of the on-production model version and the corresponding MLflow Run ID\n",
    "    \"\"\"\n",
    "    from mlflow import MlflowClient\n",
    "    from collections import namedtuple\n",
    "    \n",
    "    mlflow_client = MlflowClient(tracking_uri=mlflow_tracking_uri)\n",
    "    output = namedtuple(\"Output\", [\"model_version\", \"run_id\"])\n",
    "    model_version = None # on-production model version\n",
    "    mlflow_run_id = None # corresponding MLflow Run ID\n",
    "\n",
    "    ### START CODE HERE\n",
    "    # Use search_model_versions() to find the versions for the registered model\n",
    "    model_versions = mlflow_client.search_model_versions(f\"name='{registered_model_name}'\")\n",
    "\n",
    "    # Loop through model versions to find the one in \"Production\" stage\n",
    "    for version_info in model_versions:\n",
    "        if version_info.current_stage == \"Production\":\n",
    "            model_version = version_info.version\n",
    "            mlflow_run_id = version_info.run_id\n",
    "            break\n",
    "    \n",
    "    if model_version is None or mlflow_run_id is None:\n",
    "        raise ValueError(f\"No model found in 'Production' stage for model: {registered_model_name}\")\n",
    "  \n",
    "\n",
    "    ### END CODE HERE\n",
    "    \n",
    "    return output(f\"{registered_model_name}-{model_version}\", mlflow_run_id)"
   ]
  },
  {
   "cell_type": "code",
   "execution_count": 70,
   "metadata": {
    "deletable": false,
    "editable": false,
    "nbgrader": {
     "cell_type": "code",
     "checksum": "c22de9fbb3905a0b90f1533f47a369fa",
     "grade": true,
     "grade_id": "cell-78f4f574b1bb2444",
     "locked": true,
     "points": 1,
     "schema_version": 3,
     "solution": false,
     "task": false
    }
   },
   "outputs": [],
   "source": [
    "model_version_output = get_production_model_version.python_func(\n",
    "    registered_model_name=REGISTERED_MODEL_NAME,\n",
    "    mlflow_tracking_uri=MLFLOW_TRACKING_URI,\n",
    ")\n",
    "assert (\n",
    "    model_version_output.model_version == f\"{REGISTERED_MODEL_NAME}-{MODEL_VERSION}\"\n",
    "), \"The model version is incorrect\"\n",
    "\n",
    "assert (\n",
    "    model_version_output.run_id\n",
    "    == mlflow_client.get_model_version(\n",
    "        name=REGISTERED_MODEL_NAME, version=MODEL_VERSION\n",
    "    ).run_id\n",
    "), \"The run ID is incorrect\""
   ]
  },
  {
   "cell_type": "markdown",
   "metadata": {
    "deletable": false,
    "editable": false,
    "nbgrader": {
     "cell_type": "markdown",
     "checksum": "416671c108f4bfb2383c1834f92e4e39",
     "grade": false,
     "grade_id": "cell-b2eb07e5cbd885d2",
     "locked": true,
     "schema_version": 3,
     "solution": false,
     "task": false
    }
   },
   "source": [
    "### 4c) Component for preparing monitoring results and pushing them to the Evidently monitor service\n",
    "Again, similar to the `monitor` function in Assignment2, this component generates an Evidently Report and TestSuite for a given production dataset and push them to a remote Evidently Workspace.\n",
    "\n",
    "**Notes**\n",
    "1. You also need to declare the `prep_report` and `prepare_regression_test` functions inside the component. These two functions work in the same way as those you created in Assignment2. The `prep_report` function produces an Evidently Report using the following Metric Presets: `RegressionPreset`, `TargetDriftPreset` and `DataDriftPreset`. The `prep_regression_test` produces an Evidently TestSuite for testing MAE (of the predictions made on the production data). You can use the `TestValueMAE` test in the TestSuite. The test should fail if the MAE is not less than 40000. An exception is that the  `prep_report` and `prepare_regression_test` functions don't accept an `column_mapping_dict` argument but use a column mapping created beforehand. \n",
    "1. Unlike the previous assignment where the reference DataFrame is directly read from a local file, this component needs to first download the reference Parquet file from the MLflow's artifact store and then loads the reference DataFrame from the downloaded Parquet file. \n",
    "\n",
    "**Hints**: You can use [mlflow.artifacts.download_artifacts](https://mlflow.org/docs/2.9.2/python_api/mlflow.artifacts.html#mlflow.artifacts.download_artifacts) to download the reference data. When using the method, using the `run_id` argument may be easier than `artifact_uri` as the MLflow Run ID will be passed as an input to the component. "
   ]
  },
  {
   "cell_type": "code",
   "execution_count": 79,
   "metadata": {
    "deletable": false,
    "nbgrader": {
     "cell_type": "code",
     "checksum": "ce6b1f383c41cac14db2cb4e4706459a",
     "grade": false,
     "grade_id": "cell-a5158da713dd89cf",
     "locked": false,
     "schema_version": 3,
     "solution": true,
     "task": false
    }
   },
   "outputs": [],
   "source": [
    "@component(\n",
    "    base_image=\"python:3.11\",\n",
    "    packages_to_install=[\"mlflow==2.9.2\", \"evidently==0.4.15\", \"boto3~=1.34.50\"],\n",
    ")\n",
    "def monitor(\n",
    "        evidently_monitor_uri: str, \n",
    "        evidently_project_id: str,\n",
    "        column_mapping_dict: Dict[str, Any], \n",
    "        prod_dataset: Input[Dataset], \n",
    "        prod_model_version: str,\n",
    "        mlflow_tracking_uri: str,\n",
    "        mlflow_s3_endpoint_url: str, \n",
    "        mlflow_run_id: str,\n",
    "        year: int,\n",
    "        quarter: int\n",
    "    ):\n",
    "    \"\"\"\n",
    "    Generate an Evidently Report and TestSuite for a given production dataset and push them to a given Evidently Workspace.\n",
    "    Args:\n",
    "        evidently_monitor_uri: The URL of the remote Evidently Workspace\n",
    "        evidently_project_id: The ID of the Evidently Project where the reports and test suites should be stored\n",
    "        column_mapping_dict: A dictionary containing the configuration of the column mapping\n",
    "        prod_dataset: An input of type Dataset where the production DataFrame (inputs+outputs+ground truth)\n",
    "        prod_model_version: The on-production model version to be monitored\n",
    "        mlflow_tracking_uri: URI of MLflow's tracking server\n",
    "        mlflow_s3_endpoint_url: URL of MLflow's artifact store\n",
    "        mlflow_run_id: ID of the MLflow Run that trains the on-production model\n",
    "        year and quarter: The time range of the data to be monitored\n",
    "    \"\"\"\n",
    "\n",
    "    from typing import List\n",
    "    import pandas as pd\n",
    "    import mlflow\n",
    "    from evidently.report import Report\n",
    "    from evidently.test_suite import TestSuite\n",
    "    from evidently.metric_preset import DataDriftPreset, TargetDriftPreset, RegressionPreset\n",
    "    from evidently.tests import TestValueMAE\n",
    "    from evidently import ColumnMapping\n",
    "    from evidently.ui.remote import RemoteWorkspace\n",
    "    from datetime import datetime\n",
    "    import os\n",
    "\n",
    "    # This is the column mapping used by the prep_report and prep_regression_test functions\n",
    "    column_mapping = ColumnMapping(**column_mapping_dict)\n",
    "\n",
    "    def prep_report(prod_df: pd.DataFrame, ref_df: pd.DataFrame, tags: List[str], timestamp: datetime) -> Report:\n",
    "        ### START CODE HERE\n",
    "        report = Report(\n",
    "            metrics=[\n",
    "                RegressionPreset(),  # Handles regression performance metrics\n",
    "                TargetDriftPreset(),  # Monitors target drift\n",
    "                DataDriftPreset(),  # Monitors data drift\n",
    "            ],\n",
    "            tags=tags,  # Add tags directly to the Report\n",
    "            timestamp=timestamp  # Add timestamp directly to the Report\n",
    "        )\n",
    "        report.run(reference_data=ref_df, current_data=prod_df, column_mapping=column_mapping)\n",
    "        return report\n",
    "\n",
    "        ### END CODE HERE\n",
    "        \n",
    "    \n",
    "    def prep_regression_test(prod_df: pd.DataFrame, ref_df: pd.DataFrame, tags: List[str], timestamp: datetime) -> TestSuite:\n",
    "        ### START CODE HERE\n",
    "        test_suite = TestSuite(\n",
    "            tests=[TestValueMAE(lt=40000)],  # The test will fail if MAE is greater than 40,000\n",
    "            tags=tags,  # Add tags to the TestSuite\n",
    "            timestamp=timestamp  # Add timestamp to the TestSuite\n",
    "        )\n",
    "        test_suite.run(reference_data=ref_df, current_data=prod_df, column_mapping=column_mapping)\n",
    "        return test_suite\n",
    "        ### END CODE HERE\n",
    "    \n",
    "    prod_df = pd.read_parquet(prod_dataset.path)\n",
    "\n",
    "    mlflow.set_tracking_uri(mlflow_tracking_uri)\n",
    "    os.environ[\"MLFLOW_S3_ENDPOINT_URL\"] = mlflow_s3_endpoint_url\n",
    "    \n",
    "    # TODO: Download the reference dataset (a Parquet file) and load it into a DataFrame. \n",
    "    # The dataset was uploaded to MinIO (under the MLflow Run that trains the on-production model).\n",
    "    reference_data_artifact_path = \"reference_data\" # This is the run-relative artifact path of the reference dataset\n",
    "    \n",
    "    ### START CODE HERE\n",
    "    reference_data_artifact_path = \"reference_data\"  # The artifact path to the reference dataset in the MLflow run\n",
    "    reference_data_path = mlflow.artifacts.download_artifacts(\n",
    "        run_id=mlflow_run_id, artifact_path=reference_data_artifact_path\n",
    "    )\n",
    "    ref_df = pd.read_parquet(reference_data_path)\n",
    "\n",
    "    ### END CODE HERE\n",
    "\n",
    "    time_tag = f\"{year}-quarter{quarter}\"\n",
    "    \n",
    "    # Tags of the Evidently Report and Test Suite\n",
    "    tags = [time_tag, prod_model_version]\n",
    "\n",
    "    # Timestamp of the Evidently Report and Test Suite\n",
    "    timestamp = None\n",
    "    if quarter < 4:\n",
    "        timestamp = datetime(year=year, month=quarter*3+1, day=1)\n",
    "    elif quarter == 4:\n",
    "        timestamp = datetime(year=year+1, month=1, day=1)\n",
    "\n",
    "    # TODO: Generate Evidently Report and Test Suite\n",
    "    ### START CODE HERE\n",
    "    # Generate Evidently Report and Test Suite\n",
    "    report = prep_report(prod_df, ref_df, tags, timestamp)\n",
    "    test_suite = prep_regression_test(prod_df, ref_df, tags, timestamp)\n",
    "\n",
    "    ### END CODE HERE\n",
    "\n",
    "    # Create a workspace instance (like a connection) to the remote Evidently Workspace \n",
    "    workspace = RemoteWorkspace(evidently_monitor_uri)\n",
    "\n",
    "    # TODO: Upload the Report and TestSuite to the remote Evidently Workspace, just as you upload them to a local Workspace\n",
    "    \n",
    "    ### START CODE HERE\n",
    "    # Upload the Report and TestSuite to the remote Evidently Workspace\n",
    "    workspace.add_report(evidently_project_id, report)  # Upload the report\n",
    "    workspace.add_test_suite(evidently_project_id, test_suite)  # Upload the test suite\n",
    "\n",
    "    ### END CODE HERE\n"
   ]
  },
  {
   "cell_type": "code",
   "execution_count": 80,
   "metadata": {
    "deletable": false,
    "editable": false,
    "nbgrader": {
     "cell_type": "code",
     "checksum": "6471416da3a1de6572b7134e80ad48f6",
     "grade": false,
     "grade_id": "cell-298ba8be787345aa",
     "locked": true,
     "schema_version": 3,
     "solution": false,
     "task": false
    }
   },
   "outputs": [
    {
     "data": {
      "application/vnd.jupyter.widget-view+json": {
       "model_id": "256b981e3d9c42fa859e2a9f57cfd7a1",
       "version_major": 2,
       "version_minor": 0
      },
      "text/plain": [
       "Downloading artifacts:   0%|          | 0/1 [00:00<?, ?it/s]"
      ]
     },
     "metadata": {},
     "output_type": "display_data"
    },
    {
     "data": {
      "application/vnd.jupyter.widget-view+json": {
       "model_id": "dacfa8ed2ba1469e804b69b2b5aa7563",
       "version_major": 2,
       "version_minor": 0
      },
      "text/plain": [
       "Downloading artifacts:   0%|          | 0/1 [00:00<?, ?it/s]"
      ]
     },
     "metadata": {},
     "output_type": "display_data"
    },
    {
     "data": {
      "application/vnd.jupyter.widget-view+json": {
       "model_id": "c8ccb52489194c0a8b149fac337934cc",
       "version_major": 2,
       "version_minor": 0
      },
      "text/plain": [
       "Downloading artifacts:   0%|          | 0/1 [00:00<?, ?it/s]"
      ]
     },
     "metadata": {},
     "output_type": "display_data"
    },
    {
     "data": {
      "application/vnd.jupyter.widget-view+json": {
       "model_id": "57bde4113e6d45bcbb86ce1342132954",
       "version_major": 2,
       "version_minor": 0
      },
      "text/plain": [
       "Downloading artifacts:   0%|          | 0/1 [00:00<?, ?it/s]"
      ]
     },
     "metadata": {},
     "output_type": "display_data"
    }
   ],
   "source": [
    "# Create a project in the remote Evidently Workspace, this project will be used to test if your KFP components work correctly. \n",
    "remote_workspace = RemoteWorkspace(EVIDENTLY_MONITOR_URL)\n",
    "test_project_name = \"test_project\"\n",
    "test_project = init_evidently_project(workspace=remote_workspace, project_name=test_project_name)\n",
    "\n",
    "year = 2016\n",
    "for quarter in range(1, 5):\n",
    "    monitor.python_func(\n",
    "        evidently_monitor_uri=EVIDENTLY_MONITOR_URL, \n",
    "        evidently_project_id=str(test_project.id),\n",
    "        column_mapping_dict=COLUMN_MAPPING_DICT, \n",
    "        prod_dataset=create_autospec(Dataset, metadata=dict(), path=f\"prod_data_{year}_{quarter}.parquet\"), \n",
    "        prod_model_version=model_version_output.model_version,\n",
    "        mlflow_tracking_uri=MLFLOW_TRACKING_URI,\n",
    "        mlflow_s3_endpoint_url=MLFLOW_S3_ENDPOINT_URL, \n",
    "        mlflow_run_id=model_version_output.run_id,\n",
    "        year=year,\n",
    "        quarter=quarter\n",
    "    )"
   ]
  },
  {
   "cell_type": "markdown",
   "metadata": {
    "deletable": false,
    "editable": false,
    "nbgrader": {
     "cell_type": "markdown",
     "checksum": "a23df6bcdc1834ff4f03015e6821a96a",
     "grade": false,
     "grade_id": "cell-dd48bb86781a00c6",
     "locked": true,
     "schema_version": 3,
     "solution": false,
     "task": false
    }
   },
   "source": [
    "You should see the same dashboard as in Assignment2 under an Evidently Project named \"test_project\" at [http://evidently-monitor-ui.local](http://evidently-monitor-ui.local). "
   ]
  },
  {
   "cell_type": "code",
   "execution_count": 81,
   "metadata": {
    "deletable": false,
    "editable": false,
    "nbgrader": {
     "cell_type": "code",
     "checksum": "b766ec37539a35d639f602a637c7fd5d",
     "grade": true,
     "grade_id": "cell-07c64ace747d05ee",
     "locked": true,
     "points": 1,
     "schema_version": 3,
     "solution": false,
     "task": false
    }
   },
   "outputs": [],
   "source": [
    "# Programmatically test if the snapshots uploaded to the remote workspace are correct\n",
    "import json\n",
    "\n",
    "# Test the monitor function programmatically\n",
    "projects = remote_workspace.search_project(project_name=test_project_name)\n",
    "project_id = projects[0].id\n",
    "\n",
    "response = requests.get(f\"{EVIDENTLY_MONITOR_URL}/api/projects/{project_id}/reports\")\n",
    "report_snapshots = response.json()\n",
    "response2 = requests.get(f\"{EVIDENTLY_MONITOR_URL}/api/projects/{project_id}/test_suites\")\n",
    "test_snapshots = response2.json()\n",
    "check_snapshots(2016, MODEL_VERSION, report_snapshots, test_snapshots)\n",
    "\n",
    "# Download the TestSuite snapshots and check if they're correct\n",
    "testsuite_results = []\n",
    "for i, test_snapshot in enumerate(test_snapshots):\n",
    "    snapshot_id = test_snapshot[\"id\"]\n",
    "    response = requests.get(f\"{EVIDENTLY_MONITOR_URL}/api/projects/{project_id}/{snapshot_id}/download?report_format=json\")\n",
    "    testsuite_results.append(json.loads(response.content.decode(\"utf-8\")))\n",
    "\n",
    "testsuite_results.sort(\n",
    "    key=lambda x: time.mktime(time.strptime(x[\"timestamp\"], \"%Y-%m-%d %H:%M:%S\"))\n",
    ")\n",
    "for i in range(len(testsuite_results)):\n",
    "    testsuite_result = testsuite_results[i]\n",
    "    if i < 2:\n",
    "        assert testsuite_result.get(\"summary\").get(\"success_tests\") == 1, \"The test should pass for the first two quarters\"\n",
    "    else:\n",
    "        assert testsuite_result.get(\"summary\").get(\"failed_tests\") == 1, \"The test should fail for the last two quarters\""
   ]
  },
  {
   "cell_type": "markdown",
   "metadata": {
    "deletable": false,
    "editable": false,
    "nbgrader": {
     "cell_type": "markdown",
     "checksum": "6f9b8566b90edaf02ef3d8c0a3773d2c",
     "grade": false,
     "grade_id": "cell-94f1af46bc3e4c20",
     "locked": true,
     "schema_version": 3,
     "solution": false,
     "task": false
    }
   },
   "source": [
    "Now, let's compile the KFP components you created and save them to YAML files located in the `./components` directory. The names of the YAML files should be same as your component function names. For example, the YAML file for the `monitor` component is named `monitor.yaml`."
   ]
  },
  {
   "cell_type": "code",
   "execution_count": 88,
   "metadata": {
    "deletable": false,
    "editable": false,
    "nbgrader": {
     "cell_type": "code",
     "checksum": "8d19bdfcad29518701b681f989e3265a",
     "grade": false,
     "grade_id": "cell-c8a796f2a9e525fe",
     "locked": true,
     "schema_version": 3,
     "solution": false,
     "task": false
    }
   },
   "outputs": [
    {
     "name": "stdout",
     "output_type": "stream",
     "text": [
      "Remove the existing directory\n",
      "Compiled combine_ground_truth to components/combine_ground_truth.yaml\n",
      "Compiled get_production_model_version to components/get_production_model_version.yaml\n",
      "Compiled monitor to components/monitor.yaml\n"
     ]
    }
   ],
   "source": [
    "# Create the component folder\n",
    "component_dir_name = \"components\"\n",
    "if os.path.exists(component_dir_name):\n",
    "    print(\"Remove the existing directory\")\n",
    "    shutil.rmtree(component_dir_name)\n",
    "os.mkdir(component_dir_name)\n",
    "\n",
    "kfp_compiler = kfp.compiler.Compiler()\n",
    "for func_name in [\"combine_ground_truth\", \"get_production_model_version\", \"monitor\"]:\n",
    "    kfp_compiler.compile(eval(func_name), os.path.join(component_dir_name, f\"{func_name}.yaml\"))\n",
    "    print(f\"Compiled {func_name} to components/{func_name}.yaml\")"
   ]
  },
  {
   "cell_type": "markdown",
   "metadata": {
    "deletable": false,
    "editable": false,
    "nbgrader": {
     "cell_type": "markdown",
     "checksum": "5ccb46e4af682a9e2f20a4505fe356bc",
     "grade": false,
     "grade_id": "cell-ee8ee38fccb81a00",
     "locked": true,
     "schema_version": 3,
     "solution": false,
     "task": false
    }
   },
   "source": [
    "You can now continue to the [final part](./week6_assignments_part3.ipynb) of this week's assignments"
   ]
  }
 ],
 "metadata": {
  "kernelspec": {
   "display_name": "mlops_eng3",
   "language": "python",
   "name": "python3"
  },
  "language_info": {
   "codemirror_mode": {
    "name": "ipython",
    "version": 3
   },
   "file_extension": ".py",
   "mimetype": "text/x-python",
   "name": "python",
   "nbconvert_exporter": "python",
   "pygments_lexer": "ipython3",
   "version": "3.10.16"
  }
 },
 "nbformat": 4,
 "nbformat_minor": 4
}
