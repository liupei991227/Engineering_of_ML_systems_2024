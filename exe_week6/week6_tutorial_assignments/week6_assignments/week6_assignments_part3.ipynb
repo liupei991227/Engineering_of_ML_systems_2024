{
 "cells": [
  {
   "cell_type": "markdown",
   "metadata": {},
   "source": [
    "# Week6 Assignments (part 3)\n",
    "This is a continuation of Assignment 4 from part2. "
   ]
  },
  {
   "cell_type": "code",
   "execution_count": 1,
   "metadata": {},
   "outputs": [],
   "source": [
    "from typing import Any, Dict\n",
    "import os\n",
    "\n",
    "import kfp\n",
    "import kfp.dsl as dsl\n",
    "from kfp import kubernetes\n",
    "\n",
    "from evidently.ui.remote import RemoteWorkspace\n",
    "\n",
    "from utils.utils import init_evidently_project, delete_kfp_exp\n",
    "from utils.config import (\n",
    "    EVIDENTLY_MONITOR_URL,\n",
    "    INPUTS_OUTPUTS_BUCKET_NAME,\n",
    "    GROUND_TRUTH_BUCKET_NAME,\n",
    "    REGISTERED_MODEL_NAME,\n",
    "    COLUMN_MAPPING_DICT\n",
    ")"
   ]
  },
  {
   "cell_type": "markdown",
   "metadata": {},
   "source": [
    "### 4d) Create a monitoring KFP pipeline\n",
    "You need to use the three KFP components you just created to create a KKP monitoring pipeline. The KFP components should perform the tasks in the following order:\n",
    "\n",
    "<img src=\"./images/kfp_monitoring_pipeline.jpg\" width=600 />\n",
    "\n",
    "(Other inputs the KFP components need are passed as arguments to the `monitoring_pipeline` function.)\n",
    "\n",
    "**Note**: You need to assign the needed credentials to the combine_ground_truth and monitor tasks so that they can download the needed files from the MinIO service (the one used by MLflow). (Please check the week5 tutorial for more details.) \n"
   ]
  },
  {
   "cell_type": "markdown",
   "metadata": {},
   "source": [
    "Let's first load the KFP components from their YAML files you created in the first part of the assignments."
   ]
  },
  {
   "cell_type": "code",
   "execution_count": 16,
   "metadata": {},
   "outputs": [],
   "source": [
    "combine_ground_truth = kfp.components.load_component_from_file(os.path.join(\"components\", \"combine_ground_truth.yaml\"))\n",
    "get_production_model_version = kfp.components.load_component_from_file(os.path.join(\"components\", \"get_production_model_version.yaml\"))\n",
    "monitor = kfp.components.load_component_from_file(os.path.join(\"components\", \"monitor.yaml\"))"
   ]
  },
  {
   "cell_type": "code",
   "execution_count": 17,
   "metadata": {
    "deletable": false,
    "nbgrader": {
     "cell_type": "code",
     "checksum": "06e3849f492bcd4725773a21416d1007",
     "grade": false,
     "grade_id": "cell-86b1361cdd3373b7",
     "locked": false,
     "schema_version": 3,
     "solution": true,
     "task": false
    }
   },
   "outputs": [],
   "source": [
    "@dsl.pipeline(\n",
    "    name=\"monitoring-pipeline\",\n",
    "    description=\"Monitoring model performance, target and data drift using Evidently\",\n",
    ")\n",
    "def monitoring_pipeline(\n",
    "    year: int,\n",
    "    quarter: int,\n",
    "    registered_model_name: str,\n",
    "    mlflow_tracking_uri: str,\n",
    "    mlflow_s3_endpoint_url: str,\n",
    "    inputs_outputs_bucket_name: str,\n",
    "    ground_truth_bucket_name: str,\n",
    "    evidently_monitor_uri: str,\n",
    "    evidently_project_id: str,\n",
    "    column_mapping_dict: Dict[str, Any],\n",
    "):\n",
    "    \"\"\"\n",
    "    Args:\n",
    "        year and quarter: The time range of the data to be monitored\n",
    "        registered_model_name: The name of the model registered to MLflow\n",
    "        mlflow_tracking_uri: URI of MLflow's tracking server\n",
    "        mlflow_s3_endpoint_url: URL of MLflow's artifact store\n",
    "        inputs_outputs_bucket_name: Name of the bucket where model inputs+outputs data is stored\n",
    "        ground_truth_bucket_name: Name of the bucket where ground truth is stored\n",
    "        evidently_monitor_uri: URI of the remote Evidently Workspace\n",
    "        evidently_project_id: The ID of the Evidently Project where the monitoring results are stored\n",
    "        column_mapping_dict: A dictionary containing the configuration of the column mapping\n",
    "    \"\"\"\n",
    "    ### START CODE HERE\n",
    "\n",
    "    # Step 1: Combine ground truth and model input/output data\n",
    "    combine_ground_truth_task = combine_ground_truth(\n",
    "        ground_truth_bucket_name=ground_truth_bucket_name,\n",
    "        inputs_outputs_bucket_name=inputs_outputs_bucket_name,\n",
    "        quarter=quarter,\n",
    "        year=year,\n",
    "        s3_endpoint_url=mlflow_s3_endpoint_url,\n",
    "    )\n",
    "\n",
    "    # Step 2: Fetch the production model version\n",
    "    get_production_model_version_task = get_production_model_version(\n",
    "        mlflow_tracking_uri=mlflow_tracking_uri,\n",
    "        registered_model_name=registered_model_name,\n",
    "    )\n",
    "\n",
    "    # Step 3: Generate monitoring reports and push to Evidently\n",
    "    monitor_task = monitor(\n",
    "        column_mapping_dict=column_mapping_dict,\n",
    "        evidently_monitor_uri=evidently_monitor_uri,\n",
    "        evidently_project_id=evidently_project_id,\n",
    "        mlflow_run_id=get_production_model_version_task.outputs[\"run_id\"],\n",
    "        mlflow_s3_endpoint_url=mlflow_s3_endpoint_url,\n",
    "        mlflow_tracking_uri=mlflow_tracking_uri,\n",
    "        prod_dataset=combine_ground_truth_task.outputs[\"prod_data\"],\n",
    "        prod_model_version=get_production_model_version_task.outputs[\"model_version\"],\n",
    "        quarter=quarter,\n",
    "        year=year,\n",
    "    )\n",
    "\n",
    "    ### END CODE HERE"
   ]
  },
  {
   "cell_type": "code",
   "execution_count": 18,
   "metadata": {},
   "outputs": [
    {
     "data": {
      "text/html": [
       "<a href=\"/pipeline/#/experiments/details/2c6324b8-3fc2-4ba3-b257-d785d87c364b\" target=\"_blank\" >Experiment details</a>."
      ],
      "text/plain": [
       "<IPython.core.display.HTML object>"
      ]
     },
     "metadata": {},
     "output_type": "display_data"
    },
    {
     "data": {
      "text/html": [
       "<a href=\"/pipeline/#/runs/details/fba5970d-6fd9-46bf-abb6-cab247591db3\" target=\"_blank\" >Run details</a>."
      ],
      "text/plain": [
       "<IPython.core.display.HTML object>"
      ]
     },
     "metadata": {},
     "output_type": "display_data"
    },
    {
     "data": {
      "text/plain": [
       "RunPipelineResult(run_id=fba5970d-6fd9-46bf-abb6-cab247591db3)"
      ]
     },
     "execution_count": 18,
     "metadata": {},
     "output_type": "execute_result"
    }
   ],
   "source": [
    "# Init another Evidently Project at the remote Workspace\n",
    "remote_workspace = RemoteWorkspace(EVIDENTLY_MONITOR_URL)\n",
    "house_price_project = init_evidently_project(remote_workspace, project_name=\"house-price-model-monitoring\")\n",
    "\n",
    "arguments = {\n",
    "    \"year\": 2018,\n",
    "    \"quarter\": 1,\n",
    "    \"registered_model_name\": REGISTERED_MODEL_NAME,\n",
    "    \"mlflow_tracking_uri\": \"http://mlflow.mlflow.svc.cluster.local:5000\",\n",
    "    \"mlflow_s3_endpoint_url\": \"http://mlflow-minio-service.mlflow.svc.cluster.local:9000\",\n",
    "    \"inputs_outputs_bucket_name\": INPUTS_OUTPUTS_BUCKET_NAME,\n",
    "    \"ground_truth_bucket_name\": GROUND_TRUTH_BUCKET_NAME,\n",
    "    \"evidently_monitor_uri\": \"http://evidently-service.monitoring.svc.cluster.local:8000\",\n",
    "    \"evidently_project_id\": str(house_price_project.id),\n",
    "    \"column_mapping_dict\": COLUMN_MAPPING_DICT\n",
    "}\n",
    "\n",
    "run_name = \"house-price-monitoring-run\"\n",
    "experiment_name = \"house-price-monitoring-experiment\"\n",
    "\n",
    "kfp_client = kfp.Client()\n",
    "\n",
    "kfp_client.create_run_from_pipeline_func(\n",
    "    pipeline_func=monitoring_pipeline,\n",
    "    run_name=run_name,\n",
    "    experiment_name=experiment_name,\n",
    "    arguments=arguments, # These are the arguments passed to the pipeline function\n",
    "    enable_caching=False # Disable caching for this pipeline run\n",
    ")"
   ]
  },
  {
   "cell_type": "markdown",
   "metadata": {},
   "source": [
    "You should see there is one KFP Run created at [http://ml-pipeline-ui.local](http://ml-pipeline-ui.local) (under the \"house-price-monitoring-experiment\" KFP Experiment). The KFP Run should be like:\n",
    "\n",
    "<img src=\"./images/monitoring_kfp_run.png\" width=650/>\n",
    "\n",
    "**Note**: If you create many KFP Runs, you might see some error message of \"no space left on the device\" from the logs of some failed tasks. You can delete the KFP experiments on Kubeflow Pipelines using the code below and recreate the KFP Run by running the code cell above. "
   ]
  },
  {
   "cell_type": "code",
   "execution_count": null,
   "metadata": {},
   "outputs": [],
   "source": [
    "# # If you want to delete the KFP experiment, uncomment the following code\n",
    "\n",
    "# experiment_name = \"house-price-monitoring-experiment\"\n",
    "# delete_kfp_exp(experiment_name)"
   ]
  },
  {
   "cell_type": "markdown",
   "metadata": {},
   "source": [
    "If the previous KFP Run is completed successfully, you can run the KFP pipeline three more times to generate the monitoring results for data from the rest three quarters of 2018. "
   ]
  },
  {
   "cell_type": "code",
   "execution_count": null,
   "metadata": {},
   "outputs": [],
   "source": [
    "for quarter in range(2, 5):\n",
    "    arguments[\"quarter\"] = quarter\n",
    "    kfp_client.create_run_from_pipeline_func(\n",
    "        pipeline_func=monitoring_pipeline,\n",
    "        run_name=run_name,\n",
    "        experiment_name=experiment_name,\n",
    "        arguments=arguments, # These are the arguments passed to the pipeline function\n",
    "        enable_caching=False \n",
    "    )"
   ]
  },
  {
   "cell_type": "markdown",
   "metadata": {},
   "source": [
    "If these three KFP Runs are completed successfully, you should see the familiar dashboard showing the quarterly MAE changes in 2018 under an Evidently Project named \"house-price-model-monitoring\" at [http://evidently-monitor-ui.local](http://evidently-monitor-ui.local). You should also see four Reports and four Test Suites under the project. \n",
    "\n",
    "The dashboard should be like\n",
    "\n",
    "<img src=\"./images/dashboard_2018.png\" width=800 />\n",
    "\n",
    "### Screenshots for Assignment4\n",
    "Please include the dashboard showing the MAE changes in 2018 in your PDF file."
   ]
  },
  {
   "cell_type": "markdown",
   "metadata": {},
   "source": [
    "Finally, let's compile the KFP pipeline and save it to a YAML file `pipeline.yaml`. The file should be located in the same directory as this notebook."
   ]
  },
  {
   "cell_type": "code",
   "execution_count": 19,
   "metadata": {},
   "outputs": [],
   "source": [
    "compiler = kfp.compiler.Compiler()\n",
    "compiler.compile(monitoring_pipeline, \"pipeline.yaml\")"
   ]
  },
  {
   "cell_type": "markdown",
   "metadata": {},
   "source": [
    "### Wrap-up\n",
    "Please include the following files in your submission:\n",
    "- `prometheus-config-patch.yaml` (You should find it in the \"manifests\" directory)\n",
    "- `week6_assignments_part2.ipynb` and `week6_assignments_part3.ipynb` (You don't need to return `week6_assignments_part3.ipynb`)\n",
    "- `pipeline.yaml` (this file will be generated when you complete the third part of the assignments)\n",
    "- The PDF containing your screenshots for Assignments 1, 3, 4. "
   ]
  }
 ],
 "metadata": {
  "kernelspec": {
   "display_name": "mlops_eng3",
   "language": "python",
   "name": "python3"
  },
  "language_info": {
   "codemirror_mode": {
    "name": "ipython",
    "version": 3
   },
   "file_extension": ".py",
   "mimetype": "text/x-python",
   "name": "python",
   "nbconvert_exporter": "python",
   "pygments_lexer": "ipython3",
   "version": "3.10.16"
  }
 },
 "nbformat": 4,
 "nbformat_minor": 4
}
