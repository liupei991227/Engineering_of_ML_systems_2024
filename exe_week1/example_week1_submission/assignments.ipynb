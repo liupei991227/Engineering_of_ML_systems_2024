{
 "cells": [
  {
   "cell_type": "markdown",
   "metadata": {},
   "source": [
    "# Assignments\n",
    "This is an example of how the submission for most of the weekly assignments should look like. "
   ]
  },
  {
   "cell_type": "markdown",
   "metadata": {},
   "source": [
    "## Assignment 1\n",
    "Please complete the `plus` function. **Don't change anything other than the code between the \"### START CODE HERE\" and \"### END CODE HERE\" comments.**"
   ]
  },
  {
   "cell_type": "code",
   "execution_count": 2,
   "metadata": {},
   "outputs": [],
   "source": [
    "def plus(a: int, b: int) -> int:\n",
    "    ### START CODE HERE\n",
    "    return a + b\n",
    "    ### END CODE HERE"
   ]
  },
  {
   "cell_type": "code",
   "execution_count": 3,
   "metadata": {},
   "outputs": [],
   "source": [
    "# For each assignment, there is usually one or more tests to check if your implementation is OK\n",
    "assert plus(2, 3) == 5, \"Your plus function doesn't work correctly\""
   ]
  },
  {
   "cell_type": "markdown",
   "metadata": {},
   "source": [
    "## Assignment 2\n",
    "Take a screenshot of your MLflow Run.\n",
    "\n",
    "**Note**: When the assignment requires you to take a screenshot, please put the screenshot in a PDF file. "
   ]
  }
 ],
 "metadata": {
  "kernelspec": {
   "display_name": "base",
   "language": "python",
   "name": "python3"
  },
  "language_info": {
   "codemirror_mode": {
    "name": "ipython",
    "version": 3
   },
   "file_extension": ".py",
   "mimetype": "text/x-python",
   "name": "python",
   "nbconvert_exporter": "python",
   "pygments_lexer": "ipython3",
   "version": "3.11.7"
  }
 },
 "nbformat": 4,
 "nbformat_minor": 2
}
